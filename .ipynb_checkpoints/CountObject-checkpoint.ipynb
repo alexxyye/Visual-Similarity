{
 "cells": [
  {
   "cell_type": "code",
   "execution_count": 1,
   "id": "1a7929ce",
   "metadata": {},
   "outputs": [],
   "source": [
    "from PIL import Image\n",
    "from numpy import asarray\n",
    "import matplotlib.pyplot as plt\n",
    "import numpy as np\n",
    "import cv2\n",
    "from os import listdir\n",
    "from os.path import isfile, join\n",
    "import random"
   ]
  },
  {
   "cell_type": "code",
   "execution_count": null,
   "id": "ccfec567",
   "metadata": {},
   "outputs": [],
   "source": [
    "# read file function\n",
    "def read_dic(mypath:str)-> list:\n",
    "    onlyfiles = [mypath + '/'+f for f in listdir(mypath) if isfile(join(mypath, f)) and f != \".DS_Store\"]\n",
    "    return onlyfiles"
   ]
  },
  {
   "cell_type": "code",
   "execution_count": null,
   "id": "de45d337",
   "metadata": {},
   "outputs": [],
   "source": [
    "folder = read_dic('/Users/alex/Documents/GitHub/Visual-Similarity/Data/7_Maurer_inprep_followup')\n",
    "image_Labels = []\n",
    "for file in folder:\n",
    "    # load the image\n",
    "    image = Image.open(file)\n",
    "    # convert image to numpy array\n",
    "    data = asarray(image)\n",
    "    data = cv2.cvtColor(data, cv2.COLOR_BGR2GRAY)\n",
    "    # set thresholds to adjust ink\n",
    "    for m in range(data.shape[0]):\n",
    "        for n in range(data.shape[1]):\n",
    "            if data[m][n] > 127.5:\n",
    "                data[m][n] = 255\n",
    "            else:\n",
    "                data[m][n] = 0\n",
    "    num_labels, labels = cv2.connectedComponents(data)\n",
    "    image_Labels.append(labels)\n",
    "    "
   ]
  },
  {
   "cell_type": "code",
   "execution_count": null,
   "id": "5bbfdd01",
   "metadata": {},
   "outputs": [],
   "source": [
    "flat_list = [item for sublist in labels for item in sublist]\n",
    "set(flat_list)\n",
    "flat_list = [item for sublist in data for item in sublist]\n",
    "set(flat_list)"
   ]
  },
  {
   "cell_type": "code",
   "execution_count": null,
   "id": "4a68d2e2",
   "metadata": {},
   "outputs": [],
   "source": [
    "# np.savetxt(\"/Users/alex/Desktop/data.csv\", data, delimiter=\",\")"
   ]
  },
  {
   "cell_type": "code",
   "execution_count": null,
   "id": "356a6573",
   "metadata": {},
   "outputs": [],
   "source": [
    "# list all i and j in dictionary according to labels\n",
    "dic = {}\n",
    "for i in range(labels.shape[0]):\n",
    "    for j in range(labels.shape[1]):\n",
    "        if labels[i][j] in dic.keys():\n",
    "            dic[labels[i][j]].append((i,j))\n",
    "        else:\n",
    "            dic[labels[i][j]] = []\n",
    "            dic[labels[i][j]].append((i,j))"
   ]
  },
  {
   "cell_type": "code",
   "execution_count": null,
   "id": "8c80f4d5",
   "metadata": {},
   "outputs": [],
   "source": [
    "# define function find min&max i&j in dictionary for each key\n",
    "def find_min_max_ij(dic):   \n",
    "    i_s =[]\n",
    "    j_s =[]\n",
    "    for tup in dic:\n",
    "        i_s.append(tup[0])\n",
    "        j_s.append(tup[1])\n",
    "    i_min,i_max = min(i_s),max(i_s)\n",
    "    j_min,j_max = min(j_s),max(j_s)\n",
    "    return i_min,i_max,j_min,j_max"
   ]
  },
  {
   "cell_type": "code",
   "execution_count": null,
   "id": "058601a6",
   "metadata": {},
   "outputs": [],
   "source": [
    "# make a dic for i&j min&max\n",
    "dic_min_max= {}\n",
    "for obj in dic.keys():\n",
    "    i_min,i_max,j_min,j_max = find_min_max_ij(dic[obj])\n",
    "    dic_min_max[obj] = [i_min,i_max,j_min,j_max]"
   ]
  },
  {
   "cell_type": "code",
   "execution_count": null,
   "id": "12f32707",
   "metadata": {},
   "outputs": [],
   "source": [
    "dic_min_max\n"
   ]
  },
  {
   "cell_type": "code",
   "execution_count": null,
   "id": "828e3a79",
   "metadata": {},
   "outputs": [],
   "source": [
    "print(i_min)"
   ]
  },
  {
   "cell_type": "code",
   "execution_count": null,
   "id": "8cab2b13",
   "metadata": {},
   "outputs": [],
   "source": [
    "# define contain function\n",
    "def contain(i_min1,i_max1,j_min1,j_max1,i_min2,i_max2,j_min2,j_max2):\n",
    "    if i_min1<i_min2 and j_min1<j_min2 and i_max1>i_max2 and j_max1>j_max2:\n",
    "        return True # label 1 contains label 2\n",
    "    else:\n",
    "        return False"
   ]
  },
  {
   "cell_type": "code",
   "execution_count": null,
   "id": "2c9972f2",
   "metadata": {},
   "outputs": [],
   "source": [
    "# find where the 0s are in original data -> 8 in 'labels'\n",
    "for key in dic.keys():\n",
    "    for k in range(len(dic[key])):\n",
    "        if data[dic[key][k]] == 255:\n",
    "            labels[dic[key][k]] = 8"
   ]
  },
  {
   "cell_type": "code",
   "execution_count": null,
   "id": "e63eb3ea",
   "metadata": {},
   "outputs": [],
   "source": [
    "# generate pairwise list of labels\n",
    "pair_list = []\n",
    "for t in range(0,len([*dic])):\n",
    "\tfor p in range(0,len([*dic])):\n",
    "\t\tif (t!=p):\n",
    "\t\t\tpair_list.append(([*dic][t],[*dic][p]))\n"
   ]
  },
  {
   "cell_type": "code",
   "execution_count": null,
   "id": "ff729023",
   "metadata": {},
   "outputs": [],
   "source": [
    "# contain function -> if some components are contained by the other, change them to the same\n",
    "for pair in pair_list:\n",
    "    key1 = pair[0]\n",
    "    key2 = pair[1]\n",
    "    if contain(dic_min_max[key1][0], dic_min_max[key1][1], dic_min_max[key1][2], dic_min_max[key1][3],\n",
    "    dic_min_max[key2][0], dic_min_max[key2][1], dic_min_max[key2][2], dic_min_max[key2][3]) == True:\n",
    "        for kk in range(len(dic[key1])):\n",
    "            labels[dic[key1][kk]] = labels[dic[key1][kk]]"
   ]
  },
  {
   "cell_type": "code",
   "execution_count": null,
   "id": "2b6870c4",
   "metadata": {},
   "outputs": [],
   "source": [
    "plt.imshow(labels)\n",
    "print(labels[52])"
   ]
  },
  {
   "cell_type": "code",
   "execution_count": null,
   "id": "7d9fc26c",
   "metadata": {},
   "outputs": [],
   "source": [
    "from PIL import Image\n",
    "from numpy import asarray\n",
    "import matplotlib.pyplot as plt\n",
    "import numpy as np\n",
    "import cv2\n",
    "from os import listdir\n",
    "from os.path import isfile, join\n",
    "import random\n",
    "\n",
    "# read file function\n",
    "def read_dic(mypath:str)-> list:\n",
    "    onlyfiles = [mypath + '/'+f for f in listdir(mypath) if isfile(join(mypath, f)) and f != \".DS_Store\"]\n",
    "    return onlyfiles\n",
    "\n",
    "folder = read_dic('/Users/alex/Documents/GitHub/Visual-Similarity/Data/7_Maurer_inprep_followup')\n",
    "image_Labels = []\n",
    "for file in folder:\n",
    "    # load the image\n",
    "    image = Image.open(file)\n",
    "    # convert image to numpy array\n",
    "    data = asarray(image)\n",
    "    data = cv2.cvtColor(data, cv2.COLOR_BGR2GRAY)\n",
    "    # set thresholds to adjust ink\n",
    "    for m in range(data.shape[0]):\n",
    "        for n in range(data.shape[1]):\n",
    "            if data[m][n] > 127.5:\n",
    "                data[m][n] = 255\n",
    "            else:\n",
    "                data[m][n] = 0\n",
    "    num_labels, labels = cv2.connectedComponents(data)\n",
    "    image_Labels.append(labels)\n",
    "\n",
    "for labels in image_Labels:\n",
    "    # list all i and j in dictionary according to labels\n",
    "    dic = {}\n",
    "    for i in range(labels.shape[0]):\n",
    "        for j in range(labels.shape[1]):\n",
    "            if labels[i][j] in dic.keys():\n",
    "                dic[labels[i][j]].append((i,j))\n",
    "            else:\n",
    "                dic[labels[i][j]] = []\n",
    "                dic[labels[i][j]].append((i,j))\n",
    "\n",
    "    # define function find min&max i&j in dictionary for each key\n",
    "    def find_min_max_ij(dic):   \n",
    "        i_s =[]\n",
    "        j_s =[]\n",
    "        for tup in dic:\n",
    "            i_s.append(tup[0])\n",
    "            j_s.append(tup[1])\n",
    "        i_min,i_max = min(i_s),max(i_s)\n",
    "        j_min,j_max = min(j_s),max(j_s)\n",
    "        return i_min,i_max,j_min,j_max\n",
    "\n",
    "    # make a dic for i&j min&max\n",
    "    dic_min_max= {}\n",
    "    for obj in dic.keys():\n",
    "        i_min,i_max,j_min,j_max = find_min_max_ij(dic[obj])\n",
    "        dic_min_max[obj] = [i_min,i_max,j_min,j_max]\n",
    "\n",
    "    # define contain function\n",
    "    def contain(i_min1,i_max1,j_min1,j_max1,i_min2,i_max2,j_min2,j_max2):\n",
    "        if i_min1<i_min2 and j_min1<j_min2 and i_max1>i_max2 and j_max1>j_max2:\n",
    "            return True # label 1 contains label 2\n",
    "        else:\n",
    "            return False\n",
    "\n",
    "    # find where the 0s are in original data -> 8 in 'labels'\n",
    "    for key in dic.keys():\n",
    "        for k in range(len(dic[key])):\n",
    "            if data[dic[key][k]] == 255:\n",
    "                labels[dic[key][k]] = 8\n",
    "\n",
    "    # generate pairwise list of labels\n",
    "    pair_list = []\n",
    "    for t in range(0,len([*dic])):\n",
    "        for p in range(0,len([*dic])):\n",
    "            if (t!=p):\n",
    "                pair_list.append(([*dic][t],[*dic][p]))\n",
    "\n",
    "    # contain function -> if some components are contained by the other, change them to the same\n",
    "    for pair in pair_list:\n",
    "        key1 = pair[0]\n",
    "        key2 = pair[1]\n",
    "        if contain(dic_min_max[key1][0], dic_min_max[key1][1], dic_min_max[key1][2], dic_min_max[key1][3],\n",
    "        dic_min_max[key2][0], dic_min_max[key2][1], dic_min_max[key2][2], dic_min_max[key2][3]) == True:\n",
    "            for kk in range(len(dic[key1])):\n",
    "                labels[dic[key1][kk]] = labels[dic[key1][kk]]\n"
   ]
  },
  {
   "cell_type": "code",
   "execution_count": null,
   "id": "ce126369",
   "metadata": {},
   "outputs": [],
   "source": [
    "\n"
   ]
  },
  {
   "cell_type": "code",
   "execution_count": null,
   "id": "45c84c31",
   "metadata": {},
   "outputs": [],
   "source": [
    "set(flat_list)"
   ]
  },
  {
   "cell_type": "code",
   "execution_count": null,
   "id": "d5a7b5e1",
   "metadata": {},
   "outputs": [],
   "source": [
    "dic"
   ]
  },
  {
   "cell_type": "code",
   "execution_count": 22,
   "id": "91894c0b",
   "metadata": {},
   "outputs": [
    {
     "ename": "IndexError",
     "evalue": "list index out of range",
     "output_type": "error",
     "traceback": [
      "\u001b[0;31m---------------------------------------------------------------------------\u001b[0m",
      "\u001b[0;31mIndexError\u001b[0m                                Traceback (most recent call last)",
      "\u001b[1;32m/Users/alex/Documents/GitHub/Visual-Similarity/CountObject.ipynb Cell 20\u001b[0m in \u001b[0;36m<cell line: 1>\u001b[0;34m()\u001b[0m\n\u001b[0;32m----> <a href='vscode-notebook-cell:/Users/alex/Documents/GitHub/Visual-Similarity/CountObject.ipynb#X21sZmlsZQ%3D%3D?line=0'>1</a>\u001b[0m plt\u001b[39m.\u001b[39mimshow(image_Labels[\u001b[39m10\u001b[39;49m])\n",
      "\u001b[0;31mIndexError\u001b[0m: list index out of range"
     ]
    }
   ],
   "source": [
    "plt.imshow(image_Labels[10])\n"
   ]
  },
  {
   "cell_type": "code",
   "execution_count": 81,
   "id": "4d294554",
   "metadata": {},
   "outputs": [
    {
     "name": "stdout",
     "output_type": "stream",
     "text": [
      "Data/7_Maurer_inprep_followup/c33.png\n",
      "{0, 255}\n",
      "{1, 2, 3, 100}\n",
      "Data/7_Maurer_inprep_followup/c27.png\n",
      "{0, 255}\n",
      "{1, 2, 100}\n",
      "Data/7_Maurer_inprep_followup/c8.png\n",
      "{0, 255}\n",
      "{1, 2, 100}\n",
      "Data/7_Maurer_inprep_followup/k12.png\n",
      "{0, 255}\n",
      "{1, 100}\n",
      "Data/7_Maurer_inprep_followup/k13.png\n",
      "{0, 255}\n",
      "{1, 100}\n",
      "Data/7_Maurer_inprep_followup/c9.png\n",
      "{0, 255}\n",
      "{1, 2, 3, 100}\n",
      "Data/7_Maurer_inprep_followup/c26.png\n",
      "{0, 255}\n",
      "{1, 100}\n",
      "Data/7_Maurer_inprep_followup/c32.png\n",
      "{0, 255}\n",
      "{1, 2, 100}\n",
      "Data/7_Maurer_inprep_followup/c24.png\n",
      "{0, 255}\n",
      "{1, 2, 3, 100, 4}\n",
      "Data/7_Maurer_inprep_followup/c30.png\n",
      "{0, 255}\n",
      "{1, 2, 3, 100, 4}\n",
      "Data/7_Maurer_inprep_followup/c18.png\n",
      "{0, 255}\n",
      "{1, 100}\n",
      "Data/7_Maurer_inprep_followup/k39.png\n",
      "{0, 255}\n",
      "{1, 2, 3, 100}\n",
      "Data/7_Maurer_inprep_followup/k11.png\n",
      "{0, 255}\n",
      "{1, 2, 100}\n",
      "Data/7_Maurer_inprep_followup/k10.png\n",
      "{0, 255}\n",
      "{1, 2, 100}\n",
      "Data/7_Maurer_inprep_followup/k38.png\n",
      "{0, 255}\n",
      "{1, 2, 3, 100}\n",
      "Data/7_Maurer_inprep_followup/c19.png\n",
      "{0, 255}\n",
      "{1, 100}\n",
      "Data/7_Maurer_inprep_followup/c31.png\n",
      "{0, 255}\n",
      "{1, 2, 3, 100}\n",
      "Data/7_Maurer_inprep_followup/c25.png\n",
      "{0, 255}\n",
      "{1, 100}\n",
      "Data/7_Maurer_inprep_followup/c21.png\n",
      "{0, 255}\n",
      "{1, 2, 100}\n",
      "Data/7_Maurer_inprep_followup/c35.png\n",
      "{0, 255}\n",
      "{1, 100}\n",
      "Data/7_Maurer_inprep_followup/k14.png\n",
      "{0, 255}\n",
      "{1, 2, 100}\n",
      "Data/7_Maurer_inprep_followup/k28.png\n",
      "{0, 255}\n",
      "{1, 2, 100}\n",
      "Data/7_Maurer_inprep_followup/k29.png\n",
      "{0, 255}\n",
      "{1, 2, 3, 100}\n",
      "Data/7_Maurer_inprep_followup/k15.png\n",
      "{0, 255}\n",
      "{1, 2, 100}\n",
      "Data/7_Maurer_inprep_followup/c34.png\n",
      "{0, 255}\n",
      "{1, 2, 3, 100, 4}\n",
      "Data/7_Maurer_inprep_followup/c20.png\n",
      "{0, 255}\n",
      "{1, 2, 3, 100, 4, 5}\n",
      "Data/7_Maurer_inprep_followup/c36.png\n",
      "{0, 255}\n",
      "{1, 2, 3, 100}\n",
      "Data/7_Maurer_inprep_followup/c22.png\n",
      "{0, 255}\n",
      "{1, 2, 3, 100, 5, 4}\n",
      "Data/7_Maurer_inprep_followup/k17.png\n",
      "{0, 255}\n",
      "{1, 2, 3, 100}\n",
      "Data/7_Maurer_inprep_followup/k16.png\n",
      "{0, 255}\n",
      "{1, 100}\n",
      "Data/7_Maurer_inprep_followup/c23.png\n",
      "{0, 255}\n",
      "{1, 2, 3, 100, 4, 5}\n",
      "Data/7_Maurer_inprep_followup/c37.png\n",
      "{0, 255}\n",
      "{1, 2, 3, 100}\n",
      "Data/7_Maurer_inprep_followup/k1.png\n",
      "{0, 255}\n",
      "{1, 100}\n",
      "Data/7_Maurer_inprep_followup/k3.png\n",
      "{0, 255}\n",
      "{1, 100}\n",
      "Data/7_Maurer_inprep_followup/k2.png\n",
      "{0, 255}\n",
      "{1, 100}\n",
      "Data/7_Maurer_inprep_followup/k6.png\n",
      "{0, 255}\n",
      "{1, 2, 100}\n",
      "Data/7_Maurer_inprep_followup/k7.png\n",
      "{0, 255}\n",
      "{1, 100}\n",
      "Data/7_Maurer_inprep_followup/k5.png\n",
      "{0, 255}\n",
      "{1, 2, 100}\n",
      "Data/7_Maurer_inprep_followup/k4.png\n",
      "{0, 255}\n",
      "{1, 100}\n",
      "Data/7_Maurer_inprep_followup/c40.png\n",
      "{0, 255}\n",
      "{1, 2, 100}\n",
      "Data/7_Maurer_inprep_followup/k9.png\n",
      "{0, 255}\n",
      "{1, 2, 100}\n",
      "Data/7_Maurer_inprep_followup/k8.png\n",
      "{0, 255}\n",
      "{1, 100}\n",
      "Data/7_Maurer_inprep_followup/k40.png\n",
      "{0, 255}\n",
      "{1, 2, 3, 100, 4}\n",
      "Data/7_Maurer_inprep_followup/c12.png\n",
      "{0, 255}\n",
      "{1, 2, 100}\n",
      "Data/7_Maurer_inprep_followup/c1.png\n",
      "{0, 255}\n",
      "{1, 2, 3, 100}\n",
      "Data/7_Maurer_inprep_followup/k27.png\n",
      "{0, 255}\n",
      "{1, 2, 100}\n",
      "Data/7_Maurer_inprep_followup/k33.png\n",
      "{0, 255}\n",
      "{1, 2, 100}\n",
      "Data/7_Maurer_inprep_followup/k32.png\n",
      "{0, 255}\n",
      "{1, 100}\n",
      "Data/7_Maurer_inprep_followup/k26.png\n",
      "{0, 255}\n",
      "{1, 2, 100}\n",
      "Data/7_Maurer_inprep_followup/c13.png\n",
      "{0, 255}\n",
      "{1, 2, 3, 100}\n",
      "Data/7_Maurer_inprep_followup/c11.png\n",
      "{0, 255}\n",
      "{1, 100}\n",
      "Data/7_Maurer_inprep_followup/c39.png\n",
      "{0, 255}\n",
      "{1, 2, 3, 100}\n",
      "Data/7_Maurer_inprep_followup/c2.png\n",
      "{0, 255}\n",
      "{1, 100}\n",
      "Data/7_Maurer_inprep_followup/k18.png\n",
      "{0, 255}\n",
      "{1, 2, 100}\n",
      "Data/7_Maurer_inprep_followup/k30.png\n",
      "{0, 255}\n",
      "{1, 2, 3, 100}\n",
      "Data/7_Maurer_inprep_followup/k24.png\n",
      "{0, 255}\n",
      "{1, 2, 100}\n",
      "Data/7_Maurer_inprep_followup/k25.png\n",
      "{0, 255}\n",
      "{1, 2, 3, 100}\n",
      "Data/7_Maurer_inprep_followup/k31.png\n",
      "{0, 255}\n",
      "{1, 2, 100}\n",
      "Data/7_Maurer_inprep_followup/k19.png\n",
      "{0, 255}\n",
      "{1, 2, 100}\n",
      "Data/7_Maurer_inprep_followup/c3.png\n",
      "{0, 255}\n",
      "{1, 100}\n",
      "Data/7_Maurer_inprep_followup/c38.png\n",
      "{0, 255}\n",
      "{1, 2, 3, 100, 4, 5}\n",
      "Data/7_Maurer_inprep_followup/c10.png\n",
      "{0, 255}\n",
      "{1, 2, 3, 100}\n",
      "Data/7_Maurer_inprep_followup/c28.png\n",
      "{0, 255}\n",
      "{1, 100}\n",
      "Data/7_Maurer_inprep_followup/c14.png\n",
      "{0, 255}\n",
      "{1, 2, 100}\n",
      "Data/7_Maurer_inprep_followup/c7.png\n",
      "{0, 255}\n",
      "{1, 2, 100}\n",
      "Data/7_Maurer_inprep_followup/k35.png\n",
      "{0, 255}\n",
      "{1, 2, 100}\n",
      "Data/7_Maurer_inprep_followup/k21.png\n",
      "{0, 255}\n",
      "{1, 2, 100}\n",
      "Data/7_Maurer_inprep_followup/k20.png\n",
      "{0, 255}\n",
      "{1, 2, 100}\n",
      "Data/7_Maurer_inprep_followup/k34.png\n",
      "{0, 255}\n",
      "{1, 2, 100}\n",
      "Data/7_Maurer_inprep_followup/c6.png\n",
      "{0, 255}\n",
      "{1, 100}\n",
      "Data/7_Maurer_inprep_followup/c15.png\n",
      "{0, 255}\n",
      "{1, 2, 3, 100}\n",
      "Data/7_Maurer_inprep_followup/c29.png\n",
      "{0, 255}\n",
      "{1, 2, 3, 100}\n",
      "Data/7_Maurer_inprep_followup/c17.png\n",
      "{0, 255}\n",
      "{1, 2, 3, 100, 4}\n",
      "Data/7_Maurer_inprep_followup/c4.png\n",
      "{0, 255}\n",
      "{1, 100}\n",
      "Data/7_Maurer_inprep_followup/k22.png\n",
      "{0, 255}\n",
      "{1, 2, 3, 100}\n",
      "Data/7_Maurer_inprep_followup/k36.png\n",
      "{0, 255}\n",
      "{1, 100}\n",
      "Data/7_Maurer_inprep_followup/k37.png\n",
      "{0, 255}\n",
      "{1, 100}\n",
      "Data/7_Maurer_inprep_followup/k23.png\n",
      "{0, 255}\n",
      "{1, 2, 3, 100}\n",
      "Data/7_Maurer_inprep_followup/c5.png\n",
      "{0, 255}\n",
      "{1, 2, 3, 100, 4}\n",
      "Data/7_Maurer_inprep_followup/c16.png\n",
      "{0, 255}\n",
      "{1, 2, 3, 100}\n"
     ]
    }
   ],
   "source": [
    "from PIL import Image\n",
    "from numpy import asarray\n",
    "import matplotlib.pyplot as plt\n",
    "import numpy as np\n",
    "import cv2\n",
    "from os import listdir\n",
    "from os.path import isfile, join\n",
    "import random\n",
    "\n",
    "# read file function\n",
    "def read_dic(mypath:str)-> list:\n",
    "    onlyfiles = [mypath + '/'+f for f in listdir(mypath) if isfile(join(mypath, f)) and f != \".DS_Store\"]\n",
    "    return onlyfiles\n",
    "def find_min_max_ij(dic):   \n",
    "    i_s =[]\n",
    "    j_s =[]\n",
    "    for tup in dic:\n",
    "        i_s.append(tup[0])\n",
    "        j_s.append(tup[1])\n",
    "    i_min,i_max = min(i_s),max(i_s)\n",
    "    j_min,j_max = min(j_s),max(j_s)\n",
    "    return i_min,i_max,j_min,j_max\n",
    "# define contain function\n",
    "def contain(i_min1,i_max1,j_min1,j_max1,i_min2,i_max2,j_min2,j_max2):\n",
    "    if i_min1<i_min2 and j_min1<j_min2 and i_max1>i_max2 and j_max1>j_max2:\n",
    "        return True # label 1 contains label 2\n",
    "    else:\n",
    "        return False\n",
    "\n",
    "def flat_list(listt):\n",
    "    flat_list = [item for sublist in listt for item in sublist]\n",
    "    return set(flat_list)\n",
    "\n",
    "\n",
    "folder = read_dic('Data/7_Maurer_inprep_followup')\n",
    "image_Labels = []\n",
    "data_list = []\n",
    "for file in folder:\n",
    "    # load the image\n",
    "    image = Image.open(file)\n",
    "    # convert image to numpy array\n",
    "    data = asarray(image)\n",
    "    data = cv2.cvtColor(data, cv2.COLOR_BGR2GRAY)\n",
    "    # set thresholds\n",
    "    for m in range(data.shape[0]):\n",
    "        for n in range(data.shape[1]):\n",
    "            if data[m][n] > 127.5:\n",
    "                data[m][n] = 255\n",
    "            else:\n",
    "                data[m][n] = 0\n",
    "    num_labels, labels = cv2.connectedComponents(data)\n",
    "    print(file)\n",
    "    print(flat_list(data))\n",
    "\n",
    "    for i in range(data.shape[0]):\n",
    "        for j in range(data.shape[1]):\n",
    "\n",
    "            if data[i][j] == 0:\n",
    "                labels[i][j] = 100\n",
    "            # else:\n",
    "            #     print(data[i][j], labels[i][j])\n",
    "            #     labels[i][j] = labels[i][j]\n",
    "        # break\n",
    "    \n",
    "    print(flat_list(labels))\n",
    "    image_Labels.append(labels)\n",
    " \n",
    "\n",
    "    \n",
    "    \n",
    "    \n",
    "\n",
    "    # for i in range(data.shape[0]):\n",
    "    #     for j in range(data.shape[1]):\n",
    "    #         if data[i][j] == 255:\n",
    "    #             # print(labels[i][j])\n",
    "    #             pass\n",
    "    #         else:\n",
    "    #             labels[i][j] = 100\n",
    "    # # data_list.append(data)\n",
    "    # image_Labels.append(labels)\n",
    "\n",
    "    "
   ]
  },
  {
   "cell_type": "code",
   "execution_count": null,
   "id": "17dc0dad",
   "metadata": {},
   "outputs": [],
   "source": []
  },
  {
   "cell_type": "code",
   "execution_count": 58,
   "id": "7ab8e040",
   "metadata": {},
   "outputs": [
    {
     "name": "stdout",
     "output_type": "stream",
     "text": [
      "(121, 121)\n"
     ]
    },
    {
     "data": {
      "text/plain": [
       "{0, 1, 2, 3}"
      ]
     },
     "execution_count": 58,
     "metadata": {},
     "output_type": "execute_result"
    }
   ],
   "source": [
    "\n",
    "print(labels.shape)\n",
    "set(flat_list)"
   ]
  },
  {
   "cell_type": "code",
   "execution_count": 59,
   "id": "a8637aec",
   "metadata": {},
   "outputs": [
    {
     "data": {
      "text/plain": [
       "<matplotlib.image.AxesImage at 0x7fe08416a760>"
      ]
     },
     "execution_count": 59,
     "metadata": {},
     "output_type": "execute_result"
    },
    {
     "data": {
      "image/png": "[encoded data removed]",
      "text/plain": [
       "<Figure size 432x288 with 1 Axes>"
      ]
     },
     "metadata": {
      "needs_background": "light"
     },
     "output_type": "display_data"
    }
   ],
   "source": [
    "plt.imshow(labels)"
   ]
  },
  {
   "cell_type": "code",
   "execution_count": 78,
   "id": "f324e009",
   "metadata": {},
   "outputs": [
    {
     "name": "stdout",
     "output_type": "stream",
     "text": [
      "(121, 121)\n"
     ]
    },
    {
     "data": {
      "text/plain": [
       "{1, 100}"
      ]
     },
     "execution_count": 78,
     "metadata": {},
     "output_type": "execute_result"
    }
   ],
   "source": [
    "flat_list = [item for sublist in image_Labels[10] for item in sublist]\n",
    "print(labels.shape)\n",
    "set(flat_list)"
   ]
  },
  {
   "cell_type": "code",
   "execution_count": 74,
   "id": "84fd4e68",
   "metadata": {},
   "outputs": [
    {
     "name": "stdout",
     "output_type": "stream",
     "text": [
      "(121, 121)\n"
     ]
    },
    {
     "data": {
      "text/plain": [
       "{0, 255}"
      ]
     },
     "execution_count": 74,
     "metadata": {},
     "output_type": "execute_result"
    }
   ],
   "source": [
    "flat_list = [item for sublist in data for item in sublist]\n",
    "print(data.shape)\n",
    "set(flat_list)"
   ]
  },
  {
   "cell_type": "code",
   "execution_count": 79,
   "id": "7547a1b3",
   "metadata": {},
   "outputs": [
    {
     "data": {
      "text/plain": [
       "<matplotlib.image.AxesImage at 0x7fe08591a3d0>"
      ]
     },
     "execution_count": 79,
     "metadata": {},
     "output_type": "execute_result"
    },
    {
     "data": {
      "image/png": "[encoded data removed]",
      "text/plain": [
       "<Figure size 432x288 with 1 Axes>"
      ]
     },
     "metadata": {
      "needs_background": "light"
     },
     "output_type": "display_data"
    }
   ],
   "source": [
    "plt.imshow(image_Labels[20])"
   ]
  }
 ],
 "metadata": {
  "kernelspec": {
   "display_name": "Python 3 (ipykernel)",
   "language": "python",
   "name": "python3"
  },
  "language_info": {
   "codemirror_mode": {
    "name": "ipython",
    "version": 3
   },
   "file_extension": ".py",
   "mimetype": "text/x-python",
   "name": "python",
   "nbconvert_exporter": "python",
   "pygments_lexer": "ipython3",
   "version": "3.9.7"
  },
  "vscode": {
   "interpreter": {
    "hash": "472f3460692ba2c0861145e5e150d03c8a5c0e40e057944a047c431b9050b93d"
   }
  }
 },
 "nbformat": 4,
 "nbformat_minor": 5
}
