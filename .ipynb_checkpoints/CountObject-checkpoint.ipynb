{
 "cells": [
  {
   "cell_type": "code",
   "execution_count": 6,
   "id": "1a7929ce",
   "metadata": {},
   "outputs": [],
   "source": [
    "from PIL import Image\n",
    "from numpy import asarray\n",
    "import matplotlib.pyplot as plt\n",
    "import numpy as np\n",
    "import cv2\n",
    "from os import listdir\n",
    "from os.path import isfile, join\n",
    "import random"
   ]
  },
  {
   "cell_type": "code",
   "execution_count": 7,
   "id": "ccfec567",
   "metadata": {},
   "outputs": [],
   "source": [
    "# read file function\n",
    "def read_dic(mypath:str)-> list:\n",
    "    onlyfiles = [mypath + '/'+f for f in listdir(mypath) if isfile(join(mypath, f)) and f != \".DS_Store\"]\n",
    "    return onlyfiles"
   ]
  },
  {
   "cell_type": "code",
   "execution_count": 8,
   "id": "de45d337",
   "metadata": {},
   "outputs": [
    {
     "ename": "FileNotFoundError",
     "evalue": "[Errno 2] No such file or directory: '/Users/alex/Documents/GitHub/Visual-Similarity/Data/7_Maurer_inprep_followup'",
     "output_type": "error",
     "traceback": [
      "\u001b[0;31m---------------------------------------------------------------------------\u001b[0m",
      "\u001b[0;31mFileNotFoundError\u001b[0m                         Traceback (most recent call last)",
      "\u001b[0;32m/var/folders/r0/7zmfrj410jj_g3c46qpg99040000gn/T/ipykernel_84427/3052452230.py\u001b[0m in \u001b[0;36m<module>\u001b[0;34m\u001b[0m\n\u001b[0;32m----> 1\u001b[0;31m \u001b[0mfolder\u001b[0m \u001b[0;34m=\u001b[0m \u001b[0mread_dic\u001b[0m\u001b[0;34m(\u001b[0m\u001b[0;34m'/Users/alex/Documents/GitHub/Visual-Similarity/Data/7_Maurer_inprep_followup'\u001b[0m\u001b[0;34m)\u001b[0m\u001b[0;34m\u001b[0m\u001b[0;34m\u001b[0m\u001b[0m\n\u001b[0m\u001b[1;32m      2\u001b[0m \u001b[0mimage_Labels\u001b[0m \u001b[0;34m=\u001b[0m \u001b[0;34m[\u001b[0m\u001b[0;34m]\u001b[0m\u001b[0;34m\u001b[0m\u001b[0;34m\u001b[0m\u001b[0m\n\u001b[1;32m      3\u001b[0m \u001b[0;32mfor\u001b[0m \u001b[0mfile\u001b[0m \u001b[0;32min\u001b[0m \u001b[0mfolder\u001b[0m\u001b[0;34m:\u001b[0m\u001b[0;34m\u001b[0m\u001b[0;34m\u001b[0m\u001b[0m\n\u001b[1;32m      4\u001b[0m     \u001b[0;31m# load the image\u001b[0m\u001b[0;34m\u001b[0m\u001b[0;34m\u001b[0m\u001b[0m\n\u001b[1;32m      5\u001b[0m     \u001b[0mimage\u001b[0m \u001b[0;34m=\u001b[0m \u001b[0mImage\u001b[0m\u001b[0;34m.\u001b[0m\u001b[0mopen\u001b[0m\u001b[0;34m(\u001b[0m\u001b[0mfile\u001b[0m\u001b[0;34m)\u001b[0m\u001b[0;34m\u001b[0m\u001b[0;34m\u001b[0m\u001b[0m\n",
      "\u001b[0;32m/var/folders/r0/7zmfrj410jj_g3c46qpg99040000gn/T/ipykernel_84427/1151631083.py\u001b[0m in \u001b[0;36mread_dic\u001b[0;34m(mypath)\u001b[0m\n\u001b[1;32m      1\u001b[0m \u001b[0;31m# read file function\u001b[0m\u001b[0;34m\u001b[0m\u001b[0;34m\u001b[0m\u001b[0m\n\u001b[1;32m      2\u001b[0m \u001b[0;32mdef\u001b[0m \u001b[0mread_dic\u001b[0m\u001b[0;34m(\u001b[0m\u001b[0mmypath\u001b[0m\u001b[0;34m:\u001b[0m\u001b[0mstr\u001b[0m\u001b[0;34m)\u001b[0m\u001b[0;34m->\u001b[0m \u001b[0mlist\u001b[0m\u001b[0;34m:\u001b[0m\u001b[0;34m\u001b[0m\u001b[0;34m\u001b[0m\u001b[0m\n\u001b[0;32m----> 3\u001b[0;31m     \u001b[0monlyfiles\u001b[0m \u001b[0;34m=\u001b[0m \u001b[0;34m[\u001b[0m\u001b[0mmypath\u001b[0m \u001b[0;34m+\u001b[0m \u001b[0;34m'/'\u001b[0m\u001b[0;34m+\u001b[0m\u001b[0mf\u001b[0m \u001b[0;32mfor\u001b[0m \u001b[0mf\u001b[0m \u001b[0;32min\u001b[0m \u001b[0mlistdir\u001b[0m\u001b[0;34m(\u001b[0m\u001b[0mmypath\u001b[0m\u001b[0;34m)\u001b[0m \u001b[0;32mif\u001b[0m \u001b[0misfile\u001b[0m\u001b[0;34m(\u001b[0m\u001b[0mjoin\u001b[0m\u001b[0;34m(\u001b[0m\u001b[0mmypath\u001b[0m\u001b[0;34m,\u001b[0m \u001b[0mf\u001b[0m\u001b[0;34m)\u001b[0m\u001b[0;34m)\u001b[0m \u001b[0;32mand\u001b[0m \u001b[0mf\u001b[0m \u001b[0;34m!=\u001b[0m \u001b[0;34m\".DS_Store\"\u001b[0m\u001b[0;34m]\u001b[0m\u001b[0;34m\u001b[0m\u001b[0;34m\u001b[0m\u001b[0m\n\u001b[0m\u001b[1;32m      4\u001b[0m     \u001b[0;32mreturn\u001b[0m \u001b[0monlyfiles\u001b[0m\u001b[0;34m\u001b[0m\u001b[0;34m\u001b[0m\u001b[0m\n",
      "\u001b[0;31mFileNotFoundError\u001b[0m: [Errno 2] No such file or directory: '/Users/alex/Documents/GitHub/Visual-Similarity/Data/7_Maurer_inprep_followup'"
     ]
    }
   ],
   "source": [
    "folder = read_dic('/Users/alex/Documents/GitHub/Visual-Similarity/Data/7_Maurer_inprep_followup')\n",
    "image_Labels = []\n",
    "for file in folder:\n",
    "    # load the image\n",
    "    image = Image.open(file)\n",
    "    # convert image to numpy array\n",
    "    data = asarray(image)\n",
    "    data = cv2.cvtColor(data, cv2.COLOR_BGR2GRAY)\n",
    "    # set thresholds to adjust ink\n",
    "    for m in range(data.shape[0]):\n",
    "        for n in range(data.shape[1]):\n",
    "            if data[m][n] > 127.5:\n",
    "                data[m][n] = 255\n",
    "            else:\n",
    "                data[m][n] = 0\n",
    "    num_labels, labels = cv2.connectedComponents(data)\n",
    "    image_Labels.append(labels)\n",
    "    "
   ]
  },
  {
   "cell_type": "code",
   "execution_count": null,
   "id": "5bbfdd01",
   "metadata": {},
   "outputs": [],
   "source": [
    "flat_list = [item for sublist in labels for item in sublist]\n",
    "set(flat_list)\n",
    "flat_list = [item for sublist in data for item in sublist]\n",
    "set(flat_list)"
   ]
  },
  {
   "cell_type": "code",
   "execution_count": null,
   "id": "4a68d2e2",
   "metadata": {},
   "outputs": [],
   "source": [
    "# np.savetxt(\"/Users/alex/Desktop/data.csv\", data, delimiter=\",\")"
   ]
  },
  {
   "cell_type": "code",
   "execution_count": null,
   "id": "356a6573",
   "metadata": {},
   "outputs": [],
   "source": [
    "# list all i and j in dictionary according to labels\n",
    "dic = {}\n",
    "for i in range(labels.shape[0]):\n",
    "    for j in range(labels.shape[1]):\n",
    "        if labels[i][j] in dic.keys():\n",
    "            dic[labels[i][j]].append((i,j))\n",
    "        else:\n",
    "            dic[labels[i][j]] = []\n",
    "            dic[labels[i][j]].append((i,j))"
   ]
  },
  {
   "cell_type": "code",
   "execution_count": null,
   "id": "8c80f4d5",
   "metadata": {},
   "outputs": [],
   "source": [
    "# define function find min&max i&j in dictionary for each key\n",
    "def find_min_max_ij(dic):   \n",
    "    i_s =[]\n",
    "    j_s =[]\n",
    "    for tup in dic:\n",
    "        i_s.append(tup[0])\n",
    "        j_s.append(tup[1])\n",
    "    i_min,i_max = min(i_s),max(i_s)\n",
    "    j_min,j_max = min(j_s),max(j_s)\n",
    "    return i_min,i_max,j_min,j_max"
   ]
  },
  {
   "cell_type": "code",
   "execution_count": null,
   "id": "058601a6",
   "metadata": {},
   "outputs": [],
   "source": [
    "# make a dic for i&j min&max\n",
    "dic_min_max= {}\n",
    "for obj in dic.keys():\n",
    "    i_min,i_max,j_min,j_max = find_min_max_ij(dic[obj])\n",
    "    dic_min_max[obj] = [i_min,i_max,j_min,j_max]"
   ]
  },
  {
   "cell_type": "code",
   "execution_count": null,
   "id": "12f32707",
   "metadata": {},
   "outputs": [],
   "source": [
    "dic_min_max\n"
   ]
  },
  {
   "cell_type": "code",
   "execution_count": null,
   "id": "828e3a79",
   "metadata": {},
   "outputs": [],
   "source": [
    "print(i_min)"
   ]
  },
  {
   "cell_type": "code",
   "execution_count": null,
   "id": "8cab2b13",
   "metadata": {},
   "outputs": [],
   "source": [
    "# define contain function\n",
    "def contain(i_min1,i_max1,j_min1,j_max1,i_min2,i_max2,j_min2,j_max2):\n",
    "    if i_min1<i_min2 and j_min1<j_min2 and i_max1>i_max2 and j_max1>j_max2:\n",
    "        return True # label 1 contains label 2\n",
    "    else:\n",
    "        return False"
   ]
  },
  {
   "cell_type": "code",
   "execution_count": null,
   "id": "2c9972f2",
   "metadata": {},
   "outputs": [],
   "source": [
    "# find where the 0s are in original data -> 8 in 'labels'\n",
    "for key in dic.keys():\n",
    "    for k in range(len(dic[key])):\n",
    "        if data[dic[key][k]] == 255:\n",
    "            labels[dic[key][k]] = 8"
   ]
  },
  {
   "cell_type": "code",
   "execution_count": null,
   "id": "e63eb3ea",
   "metadata": {},
   "outputs": [],
   "source": [
    "# generate pairwise list of labels\n",
    "pair_list = []\n",
    "for t in range(0,len([*dic])):\n",
    "\tfor p in range(0,len([*dic])):\n",
    "\t\tif (t!=p):\n",
    "\t\t\tpair_list.append(([*dic][t],[*dic][p]))\n"
   ]
  },
  {
   "cell_type": "code",
   "execution_count": null,
   "id": "ff729023",
   "metadata": {},
   "outputs": [],
   "source": [
    "# contain function -> if some components are contained by the other, change them to the same\n",
    "for pair in pair_list:\n",
    "    key1 = pair[0]\n",
    "    key2 = pair[1]\n",
    "    if contain(dic_min_max[key1][0], dic_min_max[key1][1], dic_min_max[key1][2], dic_min_max[key1][3],\n",
    "    dic_min_max[key2][0], dic_min_max[key2][1], dic_min_max[key2][2], dic_min_max[key2][3]) == True:\n",
    "        for kk in range(len(dic[key1])):\n",
    "            labels[dic[key1][kk]] = labels[dic[key1][kk]]"
   ]
  },
  {
   "cell_type": "code",
   "execution_count": null,
   "id": "2b6870c4",
   "metadata": {},
   "outputs": [],
   "source": [
    "plt.imshow(labels)\n",
    "print(labels[52])"
   ]
  },
  {
   "cell_type": "code",
   "execution_count": 9,
   "id": "7d9fc26c",
   "metadata": {},
   "outputs": [
    {
     "ename": "FileNotFoundError",
     "evalue": "[Errno 2] No such file or directory: '/Users/alex/Documents/GitHub/Visual-Similarity/Data/7_Maurer_inprep_followup'",
     "output_type": "error",
     "traceback": [
      "\u001b[0;31m---------------------------------------------------------------------------\u001b[0m",
      "\u001b[0;31mFileNotFoundError\u001b[0m                         Traceback (most recent call last)",
      "\u001b[0;32m/var/folders/r0/7zmfrj410jj_g3c46qpg99040000gn/T/ipykernel_84427/3300185552.py\u001b[0m in \u001b[0;36m<module>\u001b[0;34m\u001b[0m\n\u001b[1;32m     13\u001b[0m     \u001b[0;32mreturn\u001b[0m \u001b[0monlyfiles\u001b[0m\u001b[0;34m\u001b[0m\u001b[0;34m\u001b[0m\u001b[0m\n\u001b[1;32m     14\u001b[0m \u001b[0;34m\u001b[0m\u001b[0m\n\u001b[0;32m---> 15\u001b[0;31m \u001b[0mfolder\u001b[0m \u001b[0;34m=\u001b[0m \u001b[0mread_dic\u001b[0m\u001b[0;34m(\u001b[0m\u001b[0;34m'/Users/alex/Documents/GitHub/Visual-Similarity/Data/7_Maurer_inprep_followup'\u001b[0m\u001b[0;34m)\u001b[0m\u001b[0;34m\u001b[0m\u001b[0;34m\u001b[0m\u001b[0m\n\u001b[0m\u001b[1;32m     16\u001b[0m \u001b[0mimage_Labels\u001b[0m \u001b[0;34m=\u001b[0m \u001b[0;34m[\u001b[0m\u001b[0;34m]\u001b[0m\u001b[0;34m\u001b[0m\u001b[0;34m\u001b[0m\u001b[0m\n\u001b[1;32m     17\u001b[0m \u001b[0;32mfor\u001b[0m \u001b[0mfile\u001b[0m \u001b[0;32min\u001b[0m \u001b[0mfolder\u001b[0m\u001b[0;34m:\u001b[0m\u001b[0;34m\u001b[0m\u001b[0;34m\u001b[0m\u001b[0m\n",
      "\u001b[0;32m/var/folders/r0/7zmfrj410jj_g3c46qpg99040000gn/T/ipykernel_84427/3300185552.py\u001b[0m in \u001b[0;36mread_dic\u001b[0;34m(mypath)\u001b[0m\n\u001b[1;32m     10\u001b[0m \u001b[0;31m# read file function\u001b[0m\u001b[0;34m\u001b[0m\u001b[0;34m\u001b[0m\u001b[0m\n\u001b[1;32m     11\u001b[0m \u001b[0;32mdef\u001b[0m \u001b[0mread_dic\u001b[0m\u001b[0;34m(\u001b[0m\u001b[0mmypath\u001b[0m\u001b[0;34m:\u001b[0m\u001b[0mstr\u001b[0m\u001b[0;34m)\u001b[0m\u001b[0;34m->\u001b[0m \u001b[0mlist\u001b[0m\u001b[0;34m:\u001b[0m\u001b[0;34m\u001b[0m\u001b[0;34m\u001b[0m\u001b[0m\n\u001b[0;32m---> 12\u001b[0;31m     \u001b[0monlyfiles\u001b[0m \u001b[0;34m=\u001b[0m \u001b[0;34m[\u001b[0m\u001b[0mmypath\u001b[0m \u001b[0;34m+\u001b[0m \u001b[0;34m'/'\u001b[0m\u001b[0;34m+\u001b[0m\u001b[0mf\u001b[0m \u001b[0;32mfor\u001b[0m \u001b[0mf\u001b[0m \u001b[0;32min\u001b[0m \u001b[0mlistdir\u001b[0m\u001b[0;34m(\u001b[0m\u001b[0mmypath\u001b[0m\u001b[0;34m)\u001b[0m \u001b[0;32mif\u001b[0m \u001b[0misfile\u001b[0m\u001b[0;34m(\u001b[0m\u001b[0mjoin\u001b[0m\u001b[0;34m(\u001b[0m\u001b[0mmypath\u001b[0m\u001b[0;34m,\u001b[0m \u001b[0mf\u001b[0m\u001b[0;34m)\u001b[0m\u001b[0;34m)\u001b[0m \u001b[0;32mand\u001b[0m \u001b[0mf\u001b[0m \u001b[0;34m!=\u001b[0m \u001b[0;34m\".DS_Store\"\u001b[0m\u001b[0;34m]\u001b[0m\u001b[0;34m\u001b[0m\u001b[0;34m\u001b[0m\u001b[0m\n\u001b[0m\u001b[1;32m     13\u001b[0m     \u001b[0;32mreturn\u001b[0m \u001b[0monlyfiles\u001b[0m\u001b[0;34m\u001b[0m\u001b[0;34m\u001b[0m\u001b[0m\n\u001b[1;32m     14\u001b[0m \u001b[0;34m\u001b[0m\u001b[0m\n",
      "\u001b[0;31mFileNotFoundError\u001b[0m: [Errno 2] No such file or directory: '/Users/alex/Documents/GitHub/Visual-Similarity/Data/7_Maurer_inprep_followup'"
     ]
    }
   ],
   "source": [
    "from PIL import Image\n",
    "from numpy import asarray\n",
    "import matplotlib.pyplot as plt\n",
    "import numpy as np\n",
    "import cv2\n",
    "from os import listdir\n",
    "from os.path import isfile, join\n",
    "import random\n",
    "\n",
    "# read file function\n",
    "def read_dic(mypath:str)-> list:\n",
    "    onlyfiles = [mypath + '/'+f for f in listdir(mypath) if isfile(join(mypath, f)) and f != \".DS_Store\"]\n",
    "    return onlyfiles\n",
    "\n",
    "folder = read_dic('/Users/alex/Documents/GitHub/Visual-Similarity/Data/7_Maurer_inprep_followup')\n",
    "image_Labels = []\n",
    "for file in folder:\n",
    "    # load the image\n",
    "    image = Image.open(file)\n",
    "    # convert image to numpy array\n",
    "    data = asarray(image)\n",
    "    data = cv2.cvtColor(data, cv2.COLOR_BGR2GRAY)\n",
    "    # set thresholds to adjust ink\n",
    "    for m in range(data.shape[0]):\n",
    "        for n in range(data.shape[1]):\n",
    "            if data[m][n] > 127.5:\n",
    "                data[m][n] = 255\n",
    "            else:\n",
    "                data[m][n] = 0\n",
    "    num_labels, labels = cv2.connectedComponents(data)\n",
    "    image_Labels.append(labels)\n",
    "\n",
    "for labels in image_Labels:\n",
    "    # list all i and j in dictionary according to labels\n",
    "    dic = {}\n",
    "    for i in range(labels.shape[0]):\n",
    "        for j in range(labels.shape[1]):\n",
    "            if labels[i][j] in dic.keys():\n",
    "                dic[labels[i][j]].append((i,j))\n",
    "            else:\n",
    "                dic[labels[i][j]] = []\n",
    "                dic[labels[i][j]].append((i,j))\n",
    "\n",
    "    # define function find min&max i&j in dictionary for each key\n",
    "    def find_min_max_ij(dic):   \n",
    "        i_s =[]\n",
    "        j_s =[]\n",
    "        for tup in dic:\n",
    "            i_s.append(tup[0])\n",
    "            j_s.append(tup[1])\n",
    "        i_min,i_max = min(i_s),max(i_s)\n",
    "        j_min,j_max = min(j_s),max(j_s)\n",
    "        return i_min,i_max,j_min,j_max\n",
    "\n",
    "    # make a dic for i&j min&max\n",
    "    dic_min_max= {}\n",
    "    for obj in dic.keys():\n",
    "        i_min,i_max,j_min,j_max = find_min_max_ij(dic[obj])\n",
    "        dic_min_max[obj] = [i_min,i_max,j_min,j_max]\n",
    "\n",
    "    # define contain function\n",
    "    def contain(i_min1,i_max1,j_min1,j_max1,i_min2,i_max2,j_min2,j_max2):\n",
    "        if i_min1<i_min2 and j_min1<j_min2 and i_max1>i_max2 and j_max1>j_max2:\n",
    "            return True # label 1 contains label 2\n",
    "        else:\n",
    "            return False\n",
    "\n",
    "    # find where the 0s are in original data -> 8 in 'labels'\n",
    "    for key in dic.keys():\n",
    "        for k in range(len(dic[key])):\n",
    "            if data[dic[key][k]] == 255:\n",
    "                labels[dic[key][k]] = 8\n",
    "\n",
    "    # generate pairwise list of labels\n",
    "    pair_list = []\n",
    "    for t in range(0,len([*dic])):\n",
    "        for p in range(0,len([*dic])):\n",
    "            if (t!=p):\n",
    "                pair_list.append(([*dic][t],[*dic][p]))\n",
    "\n",
    "    # contain function -> if some components are contained by the other, change them to the same\n",
    "    for pair in pair_list:\n",
    "        key1 = pair[0]\n",
    "        key2 = pair[1]\n",
    "        if contain(dic_min_max[key1][0], dic_min_max[key1][1], dic_min_max[key1][2], dic_min_max[key1][3],\n",
    "        dic_min_max[key2][0], dic_min_max[key2][1], dic_min_max[key2][2], dic_min_max[key2][3]) == True:\n",
    "            for kk in range(len(dic[key1])):\n",
    "                labels[dic[key1][kk]] = labels[dic[key1][kk]]\n"
   ]
  },
  {
   "cell_type": "code",
   "execution_count": null,
   "id": "ce126369",
   "metadata": {},
   "outputs": [],
   "source": [
    "\n"
   ]
  },
  {
   "cell_type": "code",
   "execution_count": 5,
   "id": "45c84c31",
   "metadata": {},
   "outputs": [
    {
     "ename": "NameError",
     "evalue": "name 'flat_list' is not defined",
     "output_type": "error",
     "traceback": [
      "\u001b[0;31m---------------------------------------------------------------------------\u001b[0m",
      "\u001b[0;31mNameError\u001b[0m                                 Traceback (most recent call last)",
      "\u001b[0;32m/var/folders/r0/7zmfrj410jj_g3c46qpg99040000gn/T/ipykernel_84427/669000693.py\u001b[0m in \u001b[0;36m<module>\u001b[0;34m\u001b[0m\n\u001b[0;32m----> 1\u001b[0;31m \u001b[0mset\u001b[0m\u001b[0;34m(\u001b[0m\u001b[0mflat_list\u001b[0m\u001b[0;34m)\u001b[0m\u001b[0;34m\u001b[0m\u001b[0;34m\u001b[0m\u001b[0m\n\u001b[0m",
      "\u001b[0;31mNameError\u001b[0m: name 'flat_list' is not defined"
     ]
    }
   ],
   "source": [
    "set(flat_list)"
   ]
  },
  {
   "cell_type": "code",
   "execution_count": null,
   "id": "d5a7b5e1",
   "metadata": {},
   "outputs": [],
   "source": [
    "dic"
   ]
  },
  {
   "cell_type": "code",
   "execution_count": null,
   "id": "4d294554",
   "metadata": {},
   "outputs": [],
   "source": [
    "from PIL import Image\n",
    "from numpy import asarray\n",
    "import matplotlib.pyplot as plt\n",
    "import numpy as np\n",
    "import cv2\n",
    "from os import listdir\n",
    "from os.path import isfile, join\n",
    "import random\n",
    "from PIL import Image\n",
    "import json\n",
    "\n",
    "# read file function\n",
    "def read_dic(mypath:str)-> list:\n",
    "    onlyfiles = [mypath + '/'+f for f in listdir(mypath) if isfile(join(mypath, f)) and f != \".DS_Store\"]\n",
    "    return onlyfiles\n",
    "def find_min_max_ij(dic):   \n",
    "    i_s =[]\n",
    "    j_s =[]\n",
    "    for tup in dic:\n",
    "        i_s.append(tup[0])\n",
    "        j_s.append(tup[1])\n",
    "    i_min,i_max = min(i_s),max(i_s)\n",
    "    j_min,j_max = min(j_s),max(j_s)\n",
    "    return i_min,i_max,j_min,j_max\n",
    "# define contain function\n",
    "def contain(i_min1,i_max1,j_min1,j_max1,i_min2,i_max2,j_min2,j_max2):\n",
    "    if i_min1<i_min2 and j_min1<j_min2 and i_max1>i_max2 and j_max1>j_max2:\n",
    "        return True # label 1 contains label 2\n",
    "    else:\n",
    "        return False\n",
    "\n",
    "def flat_list(listt):\n",
    "    flat_list = [item for sublist in listt for item in sublist]\n",
    "    return set(flat_list)\n",
    "\n",
    "\n",
    "f = open ('words_stroks8.json', \"r\")\n",
    "total_strokes = json.load(f)\n",
    "with open('Chi_8.txt') as f:\n",
    "    lines = f.readlines()\n",
    "a = lines[0].split(' ')\n",
    "\n",
    "folder = read_dic('Data/8_Maurer_inprep_repsup')\n",
    "contain_obj = {}\n",
    "image_Labels = []\n",
    "data_list = []\n",
    "image_stats = []\n",
    "ims= []\n",
    "\n",
    "for file in folder:\n",
    "    \n",
    "    image_stat = []\n",
    "    img = cv2.imread(file, 0)\n",
    "\n",
    "    num_labels, labels, stats, centroids = cv2.connectedComponentsWithStats(img, connectivity=8, ltype=None)\n",
    "    print(stats)\n",
    "    \n",
    "    ind = []\n",
    "    flag = 0\n",
    "    for stat in stats:\n",
    "        count = 1\n",
    "        allt = 1\n",
    "        if stat[2] == 1575:\n",
    "            flag +=1\n",
    "            pass\n",
    "        else:\n",
    "            for i in range(stat[0],stat[2]):\n",
    "                for j in range(stat[1],stat[3]):\n",
    "                    allt +=1 \n",
    "                    if img[i][j] == 0:\n",
    "                        count += 1\n",
    "#         print(count/allt)\n",
    "        if count/allt > 0.99:\n",
    "            ind.append(flag)\n",
    "            image_stat.append(stat)\n",
    "        flag +=1 \n",
    "\n",
    "    image_stats.append(image_stat)\n",
    "#     算contain\n",
    "    length = len(image_stat)\n",
    "    count = 0\n",
    "    foo = image_stat\n",
    "    for i in range(len(image_stat)):\n",
    "        for j in range(i + 1, len(image_stat)):\n",
    "            \n",
    "            i_min1, j_min1 = image_stat[i][0], image_stat[i][1]\n",
    "            i_max1, j_max1 = image_stat[i][0]+image_stat[i][2], image_stat[i][1]+image_stat[i][3]\n",
    "            i_min2, j_min2 = image_stat[j][0], image_stat[j][1]\n",
    "            i_max2, j_max2 = image_stat[j][0]+image_stat[j][2], image_stat[j][1]+image_stat[j][3]\n",
    "              \n",
    "            if contain(i_min1,i_max1,j_min1,j_max1,i_min2,i_max2,j_min2,j_max2):\n",
    "                count +=1 \n",
    "                try:\n",
    "                    foo.remove(image_stat[j])\n",
    "                except:\n",
    "                    pass\n",
    "    \n",
    "            \n",
    "    contain_obj[file] = ['number of obj: '+ str(length - count), 'number of contain: '+ str(count)]\n",
    "\n",
    "\n",
    "dic_pic_stroke = {}\n",
    "\n",
    "loc = 'Data/8_Maurer_inprep_repsup_crop'\n",
    "for i in range(1,61):\n",
    "    \n",
    "    c_loc_picH = loc + '/'+ 'CSH'+str(i)+'.png'\n",
    "    c_loc_picL = loc + '/'+ 'CSL'+str(i)+'.png'\n",
    "    k_loc_picH = loc + '/'+ 'KSH'+str(i)+'.png'\n",
    "    k_loc_picL = loc + '/'+ 'KSL'+str(i)+'.png'\n",
    "    dic_pic_stroke[c_loc_picH] = (a[i-1],total_strokes[a[i-1]])\n",
    "    dic_pic_stroke[c_loc_picL] = (a[59+i],total_strokes[a[59+i]])\n",
    "    dic_pic_stroke[k_loc_picH] = (a[119+i],'none')\n",
    "    dic_pic_stroke[k_loc_picL] = (a[179+i],'none')  \n",
    "        \n",
    "    \n",
    "for key in contain_obj.keys():\n",
    "    contain_obj[key].insert(0,dic_pic_stroke[key][1])\n",
    "    contain_obj[key].insert(0,dic_pic_stroke[key][0])  \n",
    "    \n",
    "contain_obj\n"
   ]
  },
  {
   "cell_type": "code",
   "execution_count": 1,
   "id": "18a25dd9",
   "metadata": {},
   "outputs": [],
   "source": [
    "import os\n",
    "os.environ[\"KMP_DUPLICATE_LIB_OK\"]=\"TRUE\""
   ]
  },
  {
   "cell_type": "code",
   "execution_count": 3,
   "id": "7c6284d9",
   "metadata": {},
   "outputs": [],
   "source": [
    "file1 = 'Data/7_Maurer_inprep_followup/k24.png'\n",
    "file2 = 'Data/8_Maurer_inprep_repsup_crop/KSL41.png'\n",
    "file3 = '/Users/huangkexin/Downloads/compresspng/CSH1.png'\n"
   ]
  },
  {
   "cell_type": "code",
   "execution_count": 4,
   "id": "3c33dbe0",
   "metadata": {},
   "outputs": [
    {
     "ename": "NameError",
     "evalue": "name 'image' is not defined",
     "output_type": "error",
     "traceback": [
      "\u001b[0;31m---------------------------------------------------------------------------\u001b[0m",
      "\u001b[0;31mNameError\u001b[0m                                 Traceback (most recent call last)",
      "\u001b[0;32m/var/folders/r0/7zmfrj410jj_g3c46qpg99040000gn/T/ipykernel_84427/3749893313.py\u001b[0m in \u001b[0;36m<module>\u001b[0;34m\u001b[0m\n\u001b[0;32m----> 1\u001b[0;31m \u001b[0mtype\u001b[0m\u001b[0;34m(\u001b[0m\u001b[0mimage\u001b[0m\u001b[0;34m)\u001b[0m\u001b[0;34m\u001b[0m\u001b[0;34m\u001b[0m\u001b[0m\n\u001b[0m",
      "\u001b[0;31mNameError\u001b[0m: name 'image' is not defined"
     ]
    }
   ],
   "source": [
    "type(image)"
   ]
  },
  {
   "cell_type": "code",
   "execution_count": 250,
   "id": "a754e8ae",
   "metadata": {},
   "outputs": [],
   "source": [
    "# Converting those pixels with values 1-127 to 0 and others to 1\n",
    "# img = cv2.threshold(img, 127, 255, cv2.THRESH_BINARY)[1]\n",
    "# Applying cv2.connectedComponents() \n",
    "# num_labels, labels = cv2.connectedComponents(img)\n",
    "num_labels, labels, stats, centroids = cv2.connectedComponentsWithStats(data, connectivity=8, ltype=None)\n",
    "       "
   ]
  },
  {
   "cell_type": "code",
   "execution_count": 251,
   "id": "a411f50d",
   "metadata": {},
   "outputs": [
    {
     "data": {
      "text/plain": [
       "<matplotlib.image.AxesImage at 0x7feb5991a760>"
      ]
     },
     "execution_count": 251,
     "metadata": {},
     "output_type": "execute_result"
    },
    {
     "data": {
      "image/png": "[encoded data removed]",
      "text/plain": [
       "<Figure size 432x288 with 1 Axes>"
      ]
     },
     "metadata": {
      "needs_background": "light"
     },
     "output_type": "display_data"
    }
   ],
   "source": [
    "plt.imshow(labels)"
   ]
  },
  {
   "cell_type": "code",
   "execution_count": 175,
   "id": "0ad1b100",
   "metadata": {},
   "outputs": [],
   "source": [
    "import pandas as pd\n",
    "\n",
    "df=pd.DataFrame.from_dict(contain_obj,orient='index')\n",
    "df.to_excel(\"7_count_obj.xlsx\")"
   ]
  },
  {
   "cell_type": "code",
   "execution_count": 156,
   "id": "76423f10",
   "metadata": {},
   "outputs": [
    {
     "data": {
      "text/plain": [
       "'這'"
      ]
     },
     "execution_count": 156,
     "metadata": {},
     "output_type": "execute_result"
    }
   ],
   "source": []
  },
  {
   "cell_type": "code",
   "execution_count": 123,
   "id": "19bc6dbf",
   "metadata": {},
   "outputs": [
    {
     "data": {
      "text/plain": [
       "4"
      ]
     },
     "execution_count": 123,
     "metadata": {},
     "output_type": "execute_result"
    }
   ],
   "source": [
    "import json\n",
    "f = open ('words_stroks7.json', \"r\")\n",
    "total_strokes = json.load(f)\n"
   ]
  },
  {
   "cell_type": "code",
   "execution_count": 140,
   "id": "e5bb9c6f",
   "metadata": {},
   "outputs": [],
   "source": [
    "for key in contain_obj.keys():\n",
    "    contain_obj[key].insert(0,dic[key][1])\n",
    "    contain_obj[key].insert(0,dic[key][0])"
   ]
  },
  {
   "cell_type": "code",
   "execution_count": 141,
   "id": "296ba268",
   "metadata": {},
   "outputs": [
    {
     "data": {
      "text/plain": [
       "{'Data/7_Maurer_inprep_followup/c33.png': ['number of obj: 2',\n",
       "  10,\n",
       "  'number of contain: 0'],\n",
       " 'Data/7_Maurer_inprep_followup/c27.png': ['number of obj: 4',\n",
       "  9,\n",
       "  'number of contain: 0'],\n",
       " 'Data/7_Maurer_inprep_followup/c8.png': ['number of obj: 3',\n",
       "  6,\n",
       "  'number of contain: 0'],\n",
       " 'Data/7_Maurer_inprep_followup/k12.png': ['number of obj: 3',\n",
       "  'none',\n",
       "  'number of contain: 0'],\n",
       " 'Data/7_Maurer_inprep_followup/k13.png': ['number of obj: 4',\n",
       "  'none',\n",
       "  'number of contain: 0'],\n",
       " 'Data/7_Maurer_inprep_followup/c9.png': ['number of obj: 1',\n",
       "  6,\n",
       "  'number of contain: 1'],\n",
       " 'Data/7_Maurer_inprep_followup/c26.png': ['number of obj: 4',\n",
       "  10,\n",
       "  'number of contain: 0'],\n",
       " 'Data/7_Maurer_inprep_followup/c32.png': ['number of obj: 4',\n",
       "  10,\n",
       "  'number of contain: 0'],\n",
       " 'Data/7_Maurer_inprep_followup/c24.png': ['number of obj: 1',\n",
       "  8,\n",
       "  'number of contain: 0'],\n",
       " 'Data/7_Maurer_inprep_followup/c30.png': ['number of obj: 2',\n",
       "  9,\n",
       "  'number of contain: 0'],\n",
       " 'Data/7_Maurer_inprep_followup/c18.png': ['number of obj: 4',\n",
       "  7,\n",
       "  'number of contain: 0'],\n",
       " 'Data/7_Maurer_inprep_followup/k39.png': ['number of obj: 2',\n",
       "  'none',\n",
       "  'number of contain: 0'],\n",
       " 'Data/7_Maurer_inprep_followup/k11.png': ['number of obj: 3',\n",
       "  'none',\n",
       "  'number of contain: 0'],\n",
       " 'Data/7_Maurer_inprep_followup/k10.png': ['number of obj: 1',\n",
       "  'none',\n",
       "  'number of contain: 0'],\n",
       " 'Data/7_Maurer_inprep_followup/k38.png': ['number of obj: 4',\n",
       "  'none',\n",
       "  'number of contain: 0'],\n",
       " 'Data/7_Maurer_inprep_followup/c19.png': ['number of obj: 1',\n",
       "  8,\n",
       "  'number of contain: 0'],\n",
       " 'Data/7_Maurer_inprep_followup/c31.png': ['number of obj: 1',\n",
       "  9,\n",
       "  'number of contain: 1'],\n",
       " 'Data/7_Maurer_inprep_followup/c25.png': ['number of obj: 1',\n",
       "  8,\n",
       "  'number of contain: 4'],\n",
       " 'Data/7_Maurer_inprep_followup/c21.png': ['number of obj: 1',\n",
       "  8,\n",
       "  'number of contain: 0'],\n",
       " 'Data/7_Maurer_inprep_followup/c35.png': ['number of obj: 2',\n",
       "  10,\n",
       "  'number of contain: 2'],\n",
       " 'Data/7_Maurer_inprep_followup/k14.png': ['number of obj: 3',\n",
       "  'none',\n",
       "  'number of contain: 0'],\n",
       " 'Data/7_Maurer_inprep_followup/k28.png': ['number of obj: 4',\n",
       "  'none',\n",
       "  'number of contain: 0'],\n",
       " 'Data/7_Maurer_inprep_followup/k29.png': ['number of obj: 3',\n",
       "  'none',\n",
       "  'number of contain: 0'],\n",
       " 'Data/7_Maurer_inprep_followup/k15.png': ['number of obj: 3',\n",
       "  'none',\n",
       "  'number of contain: 0'],\n",
       " 'Data/7_Maurer_inprep_followup/c34.png': ['number of obj: 3',\n",
       "  10,\n",
       "  'number of contain: 0'],\n",
       " 'Data/7_Maurer_inprep_followup/c20.png': ['number of obj: 1',\n",
       "  8,\n",
       "  'number of contain: 0'],\n",
       " 'Data/7_Maurer_inprep_followup/c36.png': ['number of obj: 2',\n",
       "  10,\n",
       "  'number of contain: 1'],\n",
       " 'Data/7_Maurer_inprep_followup/c22.png': ['number of obj: 2',\n",
       "  8,\n",
       "  'number of contain: 0'],\n",
       " 'Data/7_Maurer_inprep_followup/k17.png': ['number of obj: 3',\n",
       "  'none',\n",
       "  'number of contain: 0'],\n",
       " 'Data/7_Maurer_inprep_followup/k16.png': ['number of obj: 3',\n",
       "  'none',\n",
       "  'number of contain: 0'],\n",
       " 'Data/7_Maurer_inprep_followup/c23.png': ['number of obj: 1',\n",
       "  8,\n",
       "  'number of contain: 0'],\n",
       " 'Data/7_Maurer_inprep_followup/c37.png': ['number of obj: 2',\n",
       "  10,\n",
       "  'number of contain: 1'],\n",
       " 'Data/7_Maurer_inprep_followup/k1.png': ['number of obj: 2',\n",
       "  'none',\n",
       "  'number of contain: 0'],\n",
       " 'Data/7_Maurer_inprep_followup/k3.png': ['number of obj: 2',\n",
       "  'none',\n",
       "  'number of contain: 0'],\n",
       " 'Data/7_Maurer_inprep_followup/k2.png': ['number of obj: 2',\n",
       "  'none',\n",
       "  'number of contain: 0'],\n",
       " 'Data/7_Maurer_inprep_followup/k6.png': ['number of obj: 1',\n",
       "  'none',\n",
       "  'number of contain: 0'],\n",
       " 'Data/7_Maurer_inprep_followup/k7.png': ['number of obj: 2',\n",
       "  'none',\n",
       "  'number of contain: 0'],\n",
       " 'Data/7_Maurer_inprep_followup/k5.png': ['number of obj: 3',\n",
       "  'none',\n",
       "  'number of contain: 0'],\n",
       " 'Data/7_Maurer_inprep_followup/k4.png': ['number of obj: 2',\n",
       "  'none',\n",
       "  'number of contain: 0'],\n",
       " 'Data/7_Maurer_inprep_followup/c40.png': ['number of obj: 4',\n",
       "  14,\n",
       "  'number of contain: 2'],\n",
       " 'Data/7_Maurer_inprep_followup/k9.png': ['number of obj: 3',\n",
       "  'none',\n",
       "  'number of contain: 0'],\n",
       " 'Data/7_Maurer_inprep_followup/k8.png': ['number of obj: 3',\n",
       "  'none',\n",
       "  'number of contain: 0'],\n",
       " 'Data/7_Maurer_inprep_followup/k40.png': ['number of obj: 2',\n",
       "  'none',\n",
       "  'number of contain: 0'],\n",
       " 'Data/7_Maurer_inprep_followup/c12.png': ['number of obj: 2',\n",
       "  6,\n",
       "  'number of contain: 0'],\n",
       " 'Data/7_Maurer_inprep_followup/c1.png': ['number of obj: 1',\n",
       "  4,\n",
       "  'number of contain: 0'],\n",
       " 'Data/7_Maurer_inprep_followup/k27.png': ['number of obj: 3',\n",
       "  'none',\n",
       "  'number of contain: 0'],\n",
       " 'Data/7_Maurer_inprep_followup/k33.png': ['number of obj: 4',\n",
       "  'none',\n",
       "  'number of contain: 0'],\n",
       " 'Data/7_Maurer_inprep_followup/k32.png': ['number of obj: 4',\n",
       "  'none',\n",
       "  'number of contain: 0'],\n",
       " 'Data/7_Maurer_inprep_followup/k26.png': ['number of obj: 5',\n",
       "  'none',\n",
       "  'number of contain: 0'],\n",
       " 'Data/7_Maurer_inprep_followup/c13.png': ['number of obj: 1',\n",
       "  6,\n",
       "  'number of contain: 0'],\n",
       " 'Data/7_Maurer_inprep_followup/c11.png': ['number of obj: 2',\n",
       "  6,\n",
       "  'number of contain: 0'],\n",
       " 'Data/7_Maurer_inprep_followup/c39.png': ['number of obj: 1',\n",
       "  11,\n",
       "  'number of contain: 0'],\n",
       " 'Data/7_Maurer_inprep_followup/c2.png': ['number of obj: 2',\n",
       "  4,\n",
       "  'number of contain: 0'],\n",
       " 'Data/7_Maurer_inprep_followup/k18.png': ['number of obj: 3',\n",
       "  'none',\n",
       "  'number of contain: 0'],\n",
       " 'Data/7_Maurer_inprep_followup/k30.png': ['number of obj: 2',\n",
       "  'none',\n",
       "  'number of contain: 0'],\n",
       " 'Data/7_Maurer_inprep_followup/k24.png': ['number of obj: 2',\n",
       "  'none',\n",
       "  'number of contain: 0'],\n",
       " 'Data/7_Maurer_inprep_followup/k25.png': ['number of obj: 3',\n",
       "  'none',\n",
       "  'number of contain: 0'],\n",
       " 'Data/7_Maurer_inprep_followup/k31.png': ['number of obj: 5',\n",
       "  'none',\n",
       "  'number of contain: 0'],\n",
       " 'Data/7_Maurer_inprep_followup/k19.png': ['number of obj: 3',\n",
       "  'none',\n",
       "  'number of contain: 0'],\n",
       " 'Data/7_Maurer_inprep_followup/c3.png': ['number of obj: 4',\n",
       "  4,\n",
       "  'number of contain: 0'],\n",
       " 'Data/7_Maurer_inprep_followup/c38.png': ['number of obj: 1',\n",
       "  11,\n",
       "  'number of contain: 0'],\n",
       " 'Data/7_Maurer_inprep_followup/c10.png': ['number of obj: 1',\n",
       "  6,\n",
       "  'number of contain: 0'],\n",
       " 'Data/7_Maurer_inprep_followup/c28.png': ['number of obj: 1',\n",
       "  9,\n",
       "  'number of contain: 0'],\n",
       " 'Data/7_Maurer_inprep_followup/c14.png': ['number of obj: 5',\n",
       "  8,\n",
       "  'number of contain: 0'],\n",
       " 'Data/7_Maurer_inprep_followup/c7.png': ['number of obj: 2',\n",
       "  5,\n",
       "  'number of contain: 0'],\n",
       " 'Data/7_Maurer_inprep_followup/k35.png': ['number of obj: 5',\n",
       "  'none',\n",
       "  'number of contain: 0'],\n",
       " 'Data/7_Maurer_inprep_followup/k21.png': ['number of obj: 4',\n",
       "  'none',\n",
       "  'number of contain: 0'],\n",
       " 'Data/7_Maurer_inprep_followup/k20.png': ['number of obj: 4',\n",
       "  'none',\n",
       "  'number of contain: 0'],\n",
       " 'Data/7_Maurer_inprep_followup/k34.png': ['number of obj: 4',\n",
       "  'none',\n",
       "  'number of contain: 0'],\n",
       " 'Data/7_Maurer_inprep_followup/c6.png': ['number of obj: 1',\n",
       "  5,\n",
       "  'number of contain: 0'],\n",
       " 'Data/7_Maurer_inprep_followup/c15.png': ['number of obj: 2',\n",
       "  8,\n",
       "  'number of contain: 0'],\n",
       " 'Data/7_Maurer_inprep_followup/c29.png': ['number of obj: 1',\n",
       "  9,\n",
       "  'number of contain: 0'],\n",
       " 'Data/7_Maurer_inprep_followup/c17.png': ['number of obj: 1',\n",
       "  7,\n",
       "  'number of contain: 0'],\n",
       " 'Data/7_Maurer_inprep_followup/c4.png': ['number of obj: 1',\n",
       "  4,\n",
       "  'number of contain: 0'],\n",
       " 'Data/7_Maurer_inprep_followup/k22.png': ['number of obj: 4',\n",
       "  'none',\n",
       "  'number of contain: 0'],\n",
       " 'Data/7_Maurer_inprep_followup/k36.png': ['number of obj: 3',\n",
       "  'none',\n",
       "  'number of contain: 0'],\n",
       " 'Data/7_Maurer_inprep_followup/k37.png': ['number of obj: 4',\n",
       "  'none',\n",
       "  'number of contain: 0'],\n",
       " 'Data/7_Maurer_inprep_followup/k23.png': ['number of obj: 2',\n",
       "  'none',\n",
       "  'number of contain: 0'],\n",
       " 'Data/7_Maurer_inprep_followup/c5.png': ['number of obj: 1',\n",
       "  5,\n",
       "  'number of contain: 0'],\n",
       " 'Data/7_Maurer_inprep_followup/c16.png': ['number of obj: 1',\n",
       "  7,\n",
       "  'number of contain: 0']}"
      ]
     },
     "execution_count": 141,
     "metadata": {},
     "output_type": "execute_result"
    }
   ],
   "source": [
    "contain_obj"
   ]
  },
  {
   "cell_type": "code",
   "execution_count": 192,
   "id": "df6c72a6",
   "metadata": {},
   "outputs": [
    {
     "data": {
      "text/plain": [
       "{0, 1, 2}"
      ]
     },
     "execution_count": 192,
     "metadata": {},
     "output_type": "execute_result"
    }
   ],
   "source": [
    "loc = 'Data/8_Maurer_inprep_repsup_crop/CSL53.png'\n",
    "img = cv2.imread(loc, 0)\n",
    "img = cv2.threshold(img, 127, 255, cv2.THRESH_BINARY)[1]\n",
    "num_labels, labels = cv2.connectedComponents(img)\n"
   ]
  },
  {
   "cell_type": "code",
   "execution_count": 134,
   "id": "099084fa",
   "metadata": {},
   "outputs": [
    {
     "data": {
      "text/plain": [
       "{'Data/7_Maurer_inprep_followup/c1.png': ('日', 4),\n",
       " 'Data/7_Maurer_inprep_followup/k1.png': ('수', 'none'),\n",
       " 'Data/7_Maurer_inprep_followup/c2.png': ('不', 4),\n",
       " 'Data/7_Maurer_inprep_followup/k2.png': ('서', 'none'),\n",
       " 'Data/7_Maurer_inprep_followup/c3.png': ('心', 4),\n",
       " 'Data/7_Maurer_inprep_followup/k3.png': ('다', 'none'),\n",
       " 'Data/7_Maurer_inprep_followup/c4.png': ('天', 4),\n",
       " 'Data/7_Maurer_inprep_followup/k4.png': ('교', 'none'),\n",
       " 'Data/7_Maurer_inprep_followup/c5.png': ('四', 5),\n",
       " 'Data/7_Maurer_inprep_followup/k5.png': ('하', 'none'),\n",
       " 'Data/7_Maurer_inprep_followup/c6.png': ('去', 5),\n",
       " 'Data/7_Maurer_inprep_followup/k6.png': ('보', 'none'),\n",
       " 'Data/7_Maurer_inprep_followup/c7.png': ('外', 5),\n",
       " 'Data/7_Maurer_inprep_followup/k7.png': ('같', 'none'),\n",
       " 'Data/7_Maurer_inprep_followup/c8.png': ('回', 6),\n",
       " 'Data/7_Maurer_inprep_followup/k8.png': ('대', 'none'),\n",
       " 'Data/7_Maurer_inprep_followup/c9.png': ('吃', 6),\n",
       " 'Data/7_Maurer_inprep_followup/k9.png': ('회', 'none'),\n",
       " 'Data/7_Maurer_inprep_followup/c10.png': ('早', 6),\n",
       " 'Data/7_Maurer_inprep_followup/k10.png': ('포', 'none'),\n",
       " 'Data/7_Maurer_inprep_followup/c11.png': ('字', 6),\n",
       " 'Data/7_Maurer_inprep_followup/k11.png': ('들', 'none'),\n",
       " 'Data/7_Maurer_inprep_followup/c12.png': ('她', 6),\n",
       " 'Data/7_Maurer_inprep_followup/k12.png': ('센', 'none'),\n",
       " 'Data/7_Maurer_inprep_followup/c13.png': ('有', 6),\n",
       " 'Data/7_Maurer_inprep_followup/k13.png': ('받', 'none'),\n",
       " 'Data/7_Maurer_inprep_followup/c14.png': ('沒', 8),\n",
       " 'Data/7_Maurer_inprep_followup/k14.png': ('집', 'none'),\n",
       " 'Data/7_Maurer_inprep_followup/c15.png': ('把', 8),\n",
       " 'Data/7_Maurer_inprep_followup/k15.png': ('살', 'none'),\n",
       " 'Data/7_Maurer_inprep_followup/c16.png': ('身', 7),\n",
       " 'Data/7_Maurer_inprep_followup/k16.png': ('생', 'none'),\n",
       " 'Data/7_Maurer_inprep_followup/c17.png': ('弟', 7),\n",
       " 'Data/7_Maurer_inprep_followup/k17.png': ('앞', 'none'),\n",
       " 'Data/7_Maurer_inprep_followup/c18.png': ('些', 7),\n",
       " 'Data/7_Maurer_inprep_followup/k18.png': ('말', 'none'),\n",
       " 'Data/7_Maurer_inprep_followup/c19.png': ('兒', 8),\n",
       " 'Data/7_Maurer_inprep_followup/k19.png': ('화', 'none'),\n",
       " 'Data/7_Maurer_inprep_followup/c20.png': ('具', 8),\n",
       " 'Data/7_Maurer_inprep_followup/k20.png': ('좋', 'none'),\n",
       " 'Data/7_Maurer_inprep_followup/c21.png': ('放', 8),\n",
       " 'Data/7_Maurer_inprep_followup/k21.png': ('없', 'none'),\n",
       " 'Data/7_Maurer_inprep_followup/c22.png': ('明', 8),\n",
       " 'Data/7_Maurer_inprep_followup/k22.png': ('함', 'none'),\n",
       " 'Data/7_Maurer_inprep_followup/c23.png': ('果', 8),\n",
       " 'Data/7_Maurer_inprep_followup/k23.png': ('렇', 'none'),\n",
       " 'Data/7_Maurer_inprep_followup/c24.png': ('爸', 8),\n",
       " 'Data/7_Maurer_inprep_followup/k24.png': ('물', 'none'),\n",
       " 'Data/7_Maurer_inprep_followup/c25.png': ('雨', 8),\n",
       " 'Data/7_Maurer_inprep_followup/k25.png': ('떻', 'none'),\n",
       " 'Data/7_Maurer_inprep_followup/c26.png': ('洗', 10),\n",
       " 'Data/7_Maurer_inprep_followup/k26.png': ('空', 'none'),\n",
       " 'Data/7_Maurer_inprep_followup/c27.png': ('保', 9),\n",
       " 'Data/7_Maurer_inprep_followup/k27.png': ('空', 'none'),\n",
       " 'Data/7_Maurer_inprep_followup/c28.png': ('美', 9),\n",
       " 'Data/7_Maurer_inprep_followup/k28.png': ('空', 'none'),\n",
       " 'Data/7_Maurer_inprep_followup/c29.png': ('星', 9),\n",
       " 'Data/7_Maurer_inprep_followup/k29.png': ('空', 'none'),\n",
       " 'Data/7_Maurer_inprep_followup/c30.png': ('音', 9),\n",
       " 'Data/7_Maurer_inprep_followup/k30.png': ('空', 'none'),\n",
       " 'Data/7_Maurer_inprep_followup/c31.png': ('風', 9),\n",
       " 'Data/7_Maurer_inprep_followup/k31.png': ('空', 'none'),\n",
       " 'Data/7_Maurer_inprep_followup/c32.png': ('活', 10),\n",
       " 'Data/7_Maurer_inprep_followup/k32.png': ('空', 'none'),\n",
       " 'Data/7_Maurer_inprep_followup/c33.png': ('師', 10),\n",
       " 'Data/7_Maurer_inprep_followup/k33.png': ('空', 'none'),\n",
       " 'Data/7_Maurer_inprep_followup/c34.png': ('哪', 10),\n",
       " 'Data/7_Maurer_inprep_followup/k34.png': ('空', 'none'),\n",
       " 'Data/7_Maurer_inprep_followup/c35.png': ('氣', 10),\n",
       " 'Data/7_Maurer_inprep_followup/k35.png': ('空', 'none'),\n",
       " 'Data/7_Maurer_inprep_followup/c36.png': ('時', 10),\n",
       " 'Data/7_Maurer_inprep_followup/k36.png': ('空', 'none'),\n",
       " 'Data/7_Maurer_inprep_followup/c37.png': ('個', 10),\n",
       " 'Data/7_Maurer_inprep_followup/k37.png': ('空', 'none'),\n",
       " 'Data/7_Maurer_inprep_followup/c38.png': ('動', 11),\n",
       " 'Data/7_Maurer_inprep_followup/k38.png': ('空', 'none'),\n",
       " 'Data/7_Maurer_inprep_followup/c39.png': ('習', 11),\n",
       " 'Data/7_Maurer_inprep_followup/k39.png': ('空', 'none'),\n",
       " 'Data/7_Maurer_inprep_followup/c40.png': ('這', 14),\n",
       " 'Data/7_Maurer_inprep_followup/k40.png': ('空', 'none')}"
      ]
     },
     "execution_count": 134,
     "metadata": {},
     "output_type": "execute_result"
    }
   ],
   "source": [
    "dic = {}\n",
    "loc = 'Data/7_Maurer_inprep_followup'\n",
    "for i in range(1,41):\n",
    "    c_loc_pic = loc + '/'+ 'c'+str(i)+'.png'\n",
    "    k_loc_pic = loc + '/'+ 'k'+str(i)+'.png'\n",
    "    dic[c_loc_pic] = (a[i-1],total_strokes[a[i-1]])\n",
    "    dic[k_loc_pic] = (a[40+i-1],'none')\n",
    "dic"
   ]
  },
  {
   "cell_type": "code",
   "execution_count": 55,
   "id": "c5ca841a",
   "metadata": {},
   "outputs": [
    {
     "data": {
      "text/plain": [
       "True"
      ]
     },
     "execution_count": 55,
     "metadata": {},
     "output_type": "execute_result"
    }
   ],
   "source": [
    "[1,2,3] in [[1,2,3]]"
   ]
  },
  {
   "cell_type": "code",
   "execution_count": 45,
   "id": "30bd99b9",
   "metadata": {},
   "outputs": [
    {
     "data": {
      "text/plain": [
       "<matplotlib.image.AxesImage at 0x7feb48569f40>"
      ]
     },
     "execution_count": 45,
     "metadata": {},
     "output_type": "execute_result"
    },
    {
     "data": {
      "image/png": "[encoded data removed]",
      "text/plain": [
       "<Figure size 432x288 with 1 Axes>"
      ]
     },
     "metadata": {
      "needs_background": "light"
     },
     "output_type": "display_data"
    }
   ],
   "source": [
    "plt.imshow(ims[20][1])"
   ]
  },
  {
   "cell_type": "code",
   "execution_count": 46,
   "id": "bc387d52",
   "metadata": {},
   "outputs": [
    {
     "data": {
      "text/plain": [
       "<matplotlib.image.AxesImage at 0x7feb200473a0>"
      ]
     },
     "execution_count": 46,
     "metadata": {},
     "output_type": "execute_result"
    },
    {
     "data": {
      "image/png": "[encoded data removed]",
      "text/plain": [
       "<Figure size 432x288 with 1 Axes>"
      ]
     },
     "metadata": {
      "needs_background": "light"
     },
     "output_type": "display_data"
    }
   ],
   "source": [
    "plt.imshow(ims[20][2])"
   ]
  }
 ],
 "metadata": {
  "kernelspec": {
   "display_name": "Python 3 (ipykernel)",
   "language": "python",
   "name": "python3"
  },
  "language_info": {
   "codemirror_mode": {
    "name": "ipython",
    "version": 3
   },
   "file_extension": ".py",
   "mimetype": "text/x-python",
   "name": "python",
   "nbconvert_exporter": "python",
   "pygments_lexer": "ipython3",
   "version": "3.9.7"
  },
  "vscode": {
   "interpreter": {
    "hash": "472f3460692ba2c0861145e5e150d03c8a5c0e40e057944a047c431b9050b93d"
   }
  }
 },
 "nbformat": 4,
 "nbformat_minor": 5
}
