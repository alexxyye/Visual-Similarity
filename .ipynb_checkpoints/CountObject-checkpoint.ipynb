{
 "cells": [
  {
   "cell_type": "code",
   "execution_count": 1,
   "id": "1a7929ce",
   "metadata": {},
   "outputs": [],
   "source": [
    "from PIL import Image\n",
    "from numpy import asarray\n",
    "import matplotlib.pyplot as plt\n",
    "import numpy as np\n",
    "import cv2\n",
    "from os import listdir\n",
    "from os.path import isfile, join\n",
    "import random"
   ]
  },
  {
   "cell_type": "code",
   "execution_count": 2,
   "id": "ccfec567",
   "metadata": {},
   "outputs": [],
   "source": [
    "# read file function\n",
    "def read_dic(mypath:str)-> list:\n",
    "    onlyfiles = [mypath + '/'+f for f in listdir(mypath) if isfile(join(mypath, f)) and f != \".DS_Store\"]\n",
    "    return onlyfiles"
   ]
  },
  {
   "cell_type": "code",
   "execution_count": null,
   "id": "de45d337",
   "metadata": {},
   "outputs": [],
   "source": [
    "folder = read_dic('/Users/alex/Documents/GitHub/Visual-Similarity/Data/7_Maurer_inprep_followup')\n",
    "image_Labels = []\n",
    "for file in folder:\n",
    "    # load the image\n",
    "    image = Image.open(file)\n",
    "    # convert image to numpy array\n",
    "    data = asarray(image)\n",
    "    data = cv2.cvtColor(data, cv2.COLOR_BGR2GRAY)\n",
    "    # set thresholds to adjust ink\n",
    "    for m in range(data.shape[0]):\n",
    "        for n in range(data.shape[1]):\n",
    "            if data[m][n] > 127.5:\n",
    "                data[m][n] = 255\n",
    "            else:\n",
    "                data[m][n] = 0\n",
    "    num_labels, labels = cv2.connectedComponents(data)\n",
    "    image_Labels.append(labels)\n",
    "    "
   ]
  },
  {
   "cell_type": "code",
   "execution_count": null,
   "id": "5bbfdd01",
   "metadata": {},
   "outputs": [],
   "source": [
    "flat_list = [item for sublist in labels for item in sublist]\n",
    "set(flat_list)\n",
    "flat_list = [item for sublist in data for item in sublist]\n",
    "set(flat_list)"
   ]
  },
  {
   "cell_type": "code",
   "execution_count": null,
   "id": "4a68d2e2",
   "metadata": {},
   "outputs": [],
   "source": [
    "# np.savetxt(\"/Users/alex/Desktop/data.csv\", data, delimiter=\",\")"
   ]
  },
  {
   "cell_type": "code",
   "execution_count": null,
   "id": "356a6573",
   "metadata": {},
   "outputs": [],
   "source": [
    "# list all i and j in dictionary according to labels\n",
    "dic = {}\n",
    "for i in range(labels.shape[0]):\n",
    "    for j in range(labels.shape[1]):\n",
    "        if labels[i][j] in dic.keys():\n",
    "            dic[labels[i][j]].append((i,j))\n",
    "        else:\n",
    "            dic[labels[i][j]] = []\n",
    "            dic[labels[i][j]].append((i,j))"
   ]
  },
  {
   "cell_type": "code",
   "execution_count": null,
   "id": "8c80f4d5",
   "metadata": {},
   "outputs": [],
   "source": [
    "# define function find min&max i&j in dictionary for each key\n",
    "def find_min_max_ij(dic):   \n",
    "    i_s =[]\n",
    "    j_s =[]\n",
    "    for tup in dic:\n",
    "        i_s.append(tup[0])\n",
    "        j_s.append(tup[1])\n",
    "    i_min,i_max = min(i_s),max(i_s)\n",
    "    j_min,j_max = min(j_s),max(j_s)\n",
    "    return i_min,i_max,j_min,j_max"
   ]
  },
  {
   "cell_type": "code",
   "execution_count": null,
   "id": "058601a6",
   "metadata": {},
   "outputs": [],
   "source": [
    "# make a dic for i&j min&max\n",
    "dic_min_max= {}\n",
    "for obj in dic.keys():\n",
    "    i_min,i_max,j_min,j_max = find_min_max_ij(dic[obj])\n",
    "    dic_min_max[obj] = [i_min,i_max,j_min,j_max]"
   ]
  },
  {
   "cell_type": "code",
   "execution_count": null,
   "id": "12f32707",
   "metadata": {},
   "outputs": [],
   "source": [
    "dic_min_max\n"
   ]
  },
  {
   "cell_type": "code",
   "execution_count": null,
   "id": "828e3a79",
   "metadata": {},
   "outputs": [],
   "source": [
    "print(i_min)"
   ]
  },
  {
   "cell_type": "code",
   "execution_count": null,
   "id": "8cab2b13",
   "metadata": {},
   "outputs": [],
   "source": [
    "# define contain function\n",
    "def contain(i_min1,i_max1,j_min1,j_max1,i_min2,i_max2,j_min2,j_max2):\n",
    "    if i_min1<i_min2 and j_min1<j_min2 and i_max1>i_max2 and j_max1>j_max2:\n",
    "        return True # label 1 contains label 2\n",
    "    else:\n",
    "        return False"
   ]
  },
  {
   "cell_type": "code",
   "execution_count": null,
   "id": "2c9972f2",
   "metadata": {},
   "outputs": [],
   "source": [
    "# find where the 0s are in original data -> 8 in 'labels'\n",
    "for key in dic.keys():\n",
    "    for k in range(len(dic[key])):\n",
    "        if data[dic[key][k]] == 255:\n",
    "            labels[dic[key][k]] = 8"
   ]
  },
  {
   "cell_type": "code",
   "execution_count": null,
   "id": "e63eb3ea",
   "metadata": {},
   "outputs": [],
   "source": [
    "# generate pairwise list of labels\n",
    "pair_list = []\n",
    "for t in range(0,len([*dic])):\n",
    "\tfor p in range(0,len([*dic])):\n",
    "\t\tif (t!=p):\n",
    "\t\t\tpair_list.append(([*dic][t],[*dic][p]))\n"
   ]
  },
  {
   "cell_type": "code",
   "execution_count": null,
   "id": "ff729023",
   "metadata": {},
   "outputs": [],
   "source": [
    "# contain function -> if some components are contained by the other, change them to the same\n",
    "for pair in pair_list:\n",
    "    key1 = pair[0]\n",
    "    key2 = pair[1]\n",
    "    if contain(dic_min_max[key1][0], dic_min_max[key1][1], dic_min_max[key1][2], dic_min_max[key1][3],\n",
    "    dic_min_max[key2][0], dic_min_max[key2][1], dic_min_max[key2][2], dic_min_max[key2][3]) == True:\n",
    "        for kk in range(len(dic[key1])):\n",
    "            labels[dic[key1][kk]] = labels[dic[key1][kk]]"
   ]
  },
  {
   "cell_type": "code",
   "execution_count": null,
   "id": "2b6870c4",
   "metadata": {},
   "outputs": [],
   "source": [
    "plt.imshow(labels)\n",
    "print(labels[52])"
   ]
  },
  {
   "cell_type": "code",
   "execution_count": null,
   "id": "7d9fc26c",
   "metadata": {},
   "outputs": [],
   "source": [
    "from PIL import Image\n",
    "from numpy import asarray\n",
    "import matplotlib.pyplot as plt\n",
    "import numpy as np\n",
    "import cv2\n",
    "from os import listdir\n",
    "from os.path import isfile, join\n",
    "import random\n",
    "\n",
    "# read file function\n",
    "def read_dic(mypath:str)-> list:\n",
    "    onlyfiles = [mypath + '/'+f for f in listdir(mypath) if isfile(join(mypath, f)) and f != \".DS_Store\"]\n",
    "    return onlyfiles\n",
    "\n",
    "folder = read_dic('/Users/alex/Documents/GitHub/Visual-Similarity/Data/7_Maurer_inprep_followup')\n",
    "image_Labels = []\n",
    "for file in folder:\n",
    "    # load the image\n",
    "    image = Image.open(file)\n",
    "    # convert image to numpy array\n",
    "    data = asarray(image)\n",
    "    data = cv2.cvtColor(data, cv2.COLOR_BGR2GRAY)\n",
    "    # set thresholds to adjust ink\n",
    "    for m in range(data.shape[0]):\n",
    "        for n in range(data.shape[1]):\n",
    "            if data[m][n] > 127.5:\n",
    "                data[m][n] = 255\n",
    "            else:\n",
    "                data[m][n] = 0\n",
    "    num_labels, labels = cv2.connectedComponents(data)\n",
    "    image_Labels.append(labels)\n",
    "\n",
    "for labels in image_Labels:\n",
    "    # list all i and j in dictionary according to labels\n",
    "    dic = {}\n",
    "    for i in range(labels.shape[0]):\n",
    "        for j in range(labels.shape[1]):\n",
    "            if labels[i][j] in dic.keys():\n",
    "                dic[labels[i][j]].append((i,j))\n",
    "            else:\n",
    "                dic[labels[i][j]] = []\n",
    "                dic[labels[i][j]].append((i,j))\n",
    "\n",
    "    # define function find min&max i&j in dictionary for each key\n",
    "    def find_min_max_ij(dic):   \n",
    "        i_s =[]\n",
    "        j_s =[]\n",
    "        for tup in dic:\n",
    "            i_s.append(tup[0])\n",
    "            j_s.append(tup[1])\n",
    "        i_min,i_max = min(i_s),max(i_s)\n",
    "        j_min,j_max = min(j_s),max(j_s)\n",
    "        return i_min,i_max,j_min,j_max\n",
    "\n",
    "    # make a dic for i&j min&max\n",
    "    dic_min_max= {}\n",
    "    for obj in dic.keys():\n",
    "        i_min,i_max,j_min,j_max = find_min_max_ij(dic[obj])\n",
    "        dic_min_max[obj] = [i_min,i_max,j_min,j_max]\n",
    "\n",
    "    # define contain function\n",
    "    def contain(i_min1,i_max1,j_min1,j_max1,i_min2,i_max2,j_min2,j_max2):\n",
    "        if i_min1<i_min2 and j_min1<j_min2 and i_max1>i_max2 and j_max1>j_max2:\n",
    "            return True # label 1 contains label 2\n",
    "        else:\n",
    "            return False\n",
    "\n",
    "    # find where the 0s are in original data -> 8 in 'labels'\n",
    "    for key in dic.keys():\n",
    "        for k in range(len(dic[key])):\n",
    "            if data[dic[key][k]] == 255:\n",
    "                labels[dic[key][k]] = 8\n",
    "\n",
    "    # generate pairwise list of labels\n",
    "    pair_list = []\n",
    "    for t in range(0,len([*dic])):\n",
    "        for p in range(0,len([*dic])):\n",
    "            if (t!=p):\n",
    "                pair_list.append(([*dic][t],[*dic][p]))\n",
    "\n",
    "    # contain function -> if some components are contained by the other, change them to the same\n",
    "    for pair in pair_list:\n",
    "        key1 = pair[0]\n",
    "        key2 = pair[1]\n",
    "        if contain(dic_min_max[key1][0], dic_min_max[key1][1], dic_min_max[key1][2], dic_min_max[key1][3],\n",
    "        dic_min_max[key2][0], dic_min_max[key2][1], dic_min_max[key2][2], dic_min_max[key2][3]) == True:\n",
    "            for kk in range(len(dic[key1])):\n",
    "                labels[dic[key1][kk]] = labels[dic[key1][kk]]\n"
   ]
  },
  {
   "cell_type": "code",
   "execution_count": null,
   "id": "ce126369",
   "metadata": {},
   "outputs": [],
   "source": [
    "\n"
   ]
  },
  {
   "cell_type": "code",
   "execution_count": null,
   "id": "45c84c31",
   "metadata": {},
   "outputs": [],
   "source": [
    "set(flat_list)"
   ]
  },
  {
   "cell_type": "code",
   "execution_count": null,
   "id": "d5a7b5e1",
   "metadata": {},
   "outputs": [],
   "source": [
    "dic"
   ]
  },
  {
   "cell_type": "code",
   "execution_count": 22,
   "id": "91894c0b",
   "metadata": {},
   "outputs": [
    {
     "ename": "IndexError",
     "evalue": "list index out of range",
     "output_type": "error",
     "traceback": [
      "\u001b[0;31m---------------------------------------------------------------------------\u001b[0m",
      "\u001b[0;31mIndexError\u001b[0m                                Traceback (most recent call last)",
      "\u001b[1;32m/Users/alex/Documents/GitHub/Visual-Similarity/CountObject.ipynb Cell 20\u001b[0m in \u001b[0;36m<cell line: 1>\u001b[0;34m()\u001b[0m\n\u001b[0;32m----> <a href='vscode-notebook-cell:/Users/alex/Documents/GitHub/Visual-Similarity/CountObject.ipynb#X21sZmlsZQ%3D%3D?line=0'>1</a>\u001b[0m plt\u001b[39m.\u001b[39mimshow(image_Labels[\u001b[39m10\u001b[39;49m])\n",
      "\u001b[0;31mIndexError\u001b[0m: list index out of range"
     ]
    }
   ],
   "source": [
    "plt.imshow(image_Labels[10])\n"
   ]
  },
  {
   "cell_type": "code",
   "execution_count": 74,
   "id": "4d294554",
   "metadata": {},
   "outputs": [
    {
     "name": "stdout",
     "output_type": "stream",
     "text": [
      "c33.png number of obj:  2 number of contain 0\n",
      "c27.png number of obj:  4 number of contain 0\n",
      "c8.png number of obj:  3 number of contain 0\n",
      "k12.png number of obj:  3 number of contain 0\n",
      "k13.png number of obj:  4 number of contain 0\n",
      "ok\n",
      "c9.png number of obj:  1 number of contain 1\n",
      "c26.png number of obj:  4 number of contain 0\n",
      "c32.png number of obj:  4 number of contain 0\n",
      "c24.png number of obj:  1 number of contain 0\n",
      "c30.png number of obj:  2 number of contain 0\n",
      "c18.png number of obj:  4 number of contain 0\n",
      "k39.png number of obj:  2 number of contain 0\n",
      "k11.png number of obj:  3 number of contain 0\n",
      "k10.png number of obj:  1 number of contain 0\n",
      "k38.png number of obj:  4 number of contain 0\n",
      "c19.png number of obj:  1 number of contain 0\n",
      "ok\n",
      "c31.png number of obj:  1 number of contain 1\n",
      "ok\n",
      "ok\n",
      "ok\n",
      "ok\n",
      "c25.png number of obj:  1 number of contain 4\n",
      "c21.png number of obj:  1 number of contain 0\n",
      "ok\n",
      "ok\n",
      "c35.png number of obj:  2 number of contain 2\n",
      "k14.png number of obj:  3 number of contain 0\n",
      "k28.png number of obj:  4 number of contain 0\n",
      "k29.png number of obj:  3 number of contain 0\n",
      "k15.png number of obj:  3 number of contain 0\n",
      "c34.png number of obj:  3 number of contain 0\n",
      "c20.png number of obj:  1 number of contain 0\n",
      "ok\n",
      "c36.png number of obj:  2 number of contain 1\n",
      "c22.png number of obj:  2 number of contain 0\n",
      "k17.png number of obj:  3 number of contain 0\n",
      "k16.png number of obj:  3 number of contain 0\n",
      "c23.png number of obj:  1 number of contain 0\n",
      "ok\n",
      "c37.png number of obj:  2 number of contain 1\n",
      "k1.png number of obj:  2 number of contain 0\n",
      "k3.png number of obj:  2 number of contain 0\n",
      "k2.png number of obj:  2 number of contain 0\n",
      "k6.png number of obj:  1 number of contain 0\n",
      "k7.png number of obj:  2 number of contain 0\n",
      "k5.png number of obj:  3 number of contain 0\n",
      "k4.png number of obj:  2 number of contain 0\n",
      "ok\n",
      "ok\n",
      "c40.png number of obj:  4 number of contain 2\n",
      "k9.png number of obj:  3 number of contain 0\n",
      "k8.png number of obj:  3 number of contain 0\n",
      "k40.png number of obj:  2 number of contain 0\n",
      "c12.png number of obj:  2 number of contain 0\n",
      "c1.png number of obj:  1 number of contain 0\n",
      "k27.png number of obj:  3 number of contain 0\n",
      "k33.png number of obj:  4 number of contain 0\n",
      "k32.png number of obj:  4 number of contain 0\n",
      "k26.png number of obj:  5 number of contain 0\n",
      "c13.png number of obj:  1 number of contain 0\n",
      "c11.png number of obj:  2 number of contain 0\n",
      "c39.png number of obj:  1 number of contain 0\n",
      "c2.png number of obj:  2 number of contain 0\n",
      "k18.png number of obj:  3 number of contain 0\n",
      "k30.png number of obj:  2 number of contain 0\n",
      "k24.png number of obj:  2 number of contain 0\n",
      "k25.png number of obj:  3 number of contain 0\n",
      "k31.png number of obj:  5 number of contain 0\n",
      "k19.png number of obj:  3 number of contain 0\n",
      "c3.png number of obj:  4 number of contain 0\n",
      "c38.png number of obj:  1 number of contain 0\n",
      "c10.png number of obj:  1 number of contain 0\n",
      "c28.png number of obj:  1 number of contain 0\n",
      "c14.png number of obj:  5 number of contain 0\n",
      "c7.png number of obj:  2 number of contain 0\n",
      "k35.png number of obj:  5 number of contain 0\n",
      "k21.png number of obj:  4 number of contain 0\n",
      "k20.png number of obj:  4 number of contain 0\n",
      "k34.png number of obj:  4 number of contain 0\n",
      "c6.png number of obj:  1 number of contain 0\n",
      "c15.png number of obj:  2 number of contain 0\n",
      "c29.png number of obj:  1 number of contain 0\n",
      "c17.png number of obj:  1 number of contain 0\n",
      "c4.png number of obj:  1 number of contain 0\n",
      "k22.png number of obj:  4 number of contain 0\n",
      "k36.png number of obj:  3 number of contain 0\n",
      "k37.png number of obj:  4 number of contain 0\n",
      "k23.png number of obj:  2 number of contain 0\n",
      "c5.png number of obj:  1 number of contain 0\n",
      "c16.png number of obj:  1 number of contain 0\n"
     ]
    }
   ],
   "source": [
    "from PIL import Image\n",
    "from numpy import asarray\n",
    "import matplotlib.pyplot as plt\n",
    "import numpy as np\n",
    "import cv2\n",
    "from os import listdir\n",
    "from os.path import isfile, join\n",
    "import random\n",
    "from PIL import Image\n",
    "\n",
    "# read file function\n",
    "def read_dic(mypath:str)-> list:\n",
    "    onlyfiles = [mypath + '/'+f for f in listdir(mypath) if isfile(join(mypath, f)) and f != \".DS_Store\"]\n",
    "    return onlyfiles\n",
    "def find_min_max_ij(dic):   \n",
    "    i_s =[]\n",
    "    j_s =[]\n",
    "    for tup in dic:\n",
    "        i_s.append(tup[0])\n",
    "        j_s.append(tup[1])\n",
    "    i_min,i_max = min(i_s),max(i_s)\n",
    "    j_min,j_max = min(j_s),max(j_s)\n",
    "    return i_min,i_max,j_min,j_max\n",
    "# define contain function\n",
    "def contain(i_min1,i_max1,j_min1,j_max1,i_min2,i_max2,j_min2,j_max2):\n",
    "    if i_min1<i_min2 and j_min1<j_min2 and i_max1>i_max2 and j_max1>j_max2:\n",
    "        return True # label 1 contains label 2\n",
    "    else:\n",
    "        return False\n",
    "\n",
    "def flat_list(listt):\n",
    "    flat_list = [item for sublist in listt for item in sublist]\n",
    "    return set(flat_list)\n",
    "\n",
    "with open('7.txt') as f:\n",
    "    lines = f.readlines()\n",
    "a = lines[0].split(' ')\n",
    "\n",
    "folder = read_dic('Data/7_Maurer_inprep_followup')\n",
    "loc = 'Data/7_Maurer_inprep_followup'\n",
    "image_Labels = []\n",
    "data_list = []\n",
    "image_stats = []\n",
    "ims= []\n",
    "\n",
    "for file in folder:\n",
    "    image_stat = []\n",
    "    # load the image\n",
    "    image = Image.open(file)\n",
    "    # convert image to numpy array\n",
    "    data = asarray(image)\n",
    "    data = cv2.cvtColor(data, cv2.COLOR_BGR2GRAY)\n",
    "    # set thresholds\n",
    "    for m in range(data.shape[0]):\n",
    "        for n in range(data.shape[1]):\n",
    "            if data[m][n] > 127.5:\n",
    "                data[m][n] = 0\n",
    "            else:\n",
    "                data[m][n] = 1\n",
    "    data_list.append(data)\n",
    "    num_labels, labels, stats, centroids = cv2.connectedComponentsWithStats(data, connectivity=8, ltype=None)\n",
    "    \n",
    "    background = 100\n",
    "    ind = []\n",
    "    flag = 0\n",
    "    for stat in stats:\n",
    "        count = 1\n",
    "        allt = 1\n",
    "        if stat[4] == 13827:\n",
    "            flag +=1\n",
    "            pass\n",
    "#         if 1 != 2:\n",
    "#             pass\n",
    "        else:\n",
    "            for i in range(stat[0],stat[2]):\n",
    "                for j in range(stat[1],stat[3]):\n",
    "                    allt +=1 \n",
    "                    if data[i][j] == 0:\n",
    "                        count += 1\n",
    "#         print(count/allt)\n",
    "        if count/allt > 0.99:\n",
    "            ind.append(flag)\n",
    "            image_stat.append(stat)\n",
    "        flag +=1 \n",
    "#     print(file,ind)\n",
    "    image_stats.append(image_stat)\n",
    "#     算contain\n",
    "    length = len(image_stat)\n",
    "    count = 0\n",
    "    foo = image_stat\n",
    "#     bar = []\n",
    "    for i in range(len(image_stat)):\n",
    "        for j in range(i + 1, len(image_stat)):\n",
    "            \n",
    "            i_min1, j_min1 = image_stat[i][0], image_stat[i][1]\n",
    "            i_max1, j_max1 = image_stat[i][0]+image_stat[i][2], image_stat[i][1]+image_stat[i][3]\n",
    "            i_min2, j_min2 = image_stat[j][0], image_stat[j][1]\n",
    "            i_max2, j_max2 = image_stat[j][0]+image_stat[j][2], image_stat[j][1]+image_stat[j][3]\n",
    "            \n",
    "#             if contain(i_min1,i_max1,j_min1,j_max1,i_min2,i_max2,j_min2,j_max2):\n",
    "#                 count +=1 \n",
    "#                 if [i_min1,i_max1,j_min1,j_max1] not in foo:\n",
    "#                     foo.append([i_min1,i_max1,j_min1,j_max1])\n",
    "#             elif [i_min1,i_max1,j_min1,j_max1] not in foo and [i_min2,i_max2,j_min2,j_max2] not in foo:\n",
    "#                 foo.append([i_min1,i_max1,j_min1,j_max1])\n",
    "#                 foo.append([i_min2,i_max2,j_min2,j_max2])\n",
    "#             else:\n",
    "#                 pass\n",
    "    \n",
    "            if contain(i_min1,i_max1,j_min1,j_max1,i_min2,i_max2,j_min2,j_max2):\n",
    "                count +=1 \n",
    "                try:\n",
    "                    foo.remove(image_stat[j])\n",
    "                except:\n",
    "                    print('ok')\n",
    "    \n",
    "    c_loc_pic = loc + '/'+ 'c'+str(i)\n",
    "    k_loc_pic = loc + '/'+ 'k'+str(i)\n",
    "    dic[c_loc_pic] = (a[i-1],1)\n",
    "    dic[k_loc_pic] = (a[40+i-1],1)\n",
    "    \n",
    "            \n",
    "    print(file.split('/')[-1],'number of obj: ',length - count,'number of contain', count)\n",
    "    \n",
    "    im = []\n",
    "#     print(len(foo))\n",
    "    for fo in range(len(foo)):\n",
    "        i_min1, j_min1 = foo[fo][0], foo[fo][1]\n",
    "        i_max1, j_max1 = foo[fo][0]+foo[fo][2], foo[fo][1]+foo[fo][3]\n",
    "\n",
    "        im1 = data[i_min1:i_max1,j_min1:j_max1]\n",
    "        im.append(im1)\n",
    "        \n",
    "        plt.imsave('7/'+file.split('/')[-1].split('.')[-2]+'_'+str(fo)+'.png', im1)\n",
    "   \n",
    "\n",
    "    ims.append(im)\n",
    "        \n",
    "    \n",
    "    \n"
   ]
  },
  {
   "cell_type": "code",
   "execution_count": 76,
   "id": "b0e60268",
   "metadata": {},
   "outputs": [
    {
     "data": {
      "text/plain": [
       "[array([ 39,  38,  41,  44, 657], dtype=int32)]"
      ]
     },
     "execution_count": 76,
     "metadata": {},
     "output_type": "execute_result"
    }
   ],
   "source": [
    "image_stat"
   ]
  },
  {
   "cell_type": "code",
   "execution_count": 52,
   "id": "c8c01752",
   "metadata": {},
   "outputs": [
    {
     "data": {
      "text/plain": [
       "[array([[0, 0, 0, 0, 0, 0, 0, 0, 0, 0, 0, 0, 0, 0, 0, 0, 0, 0, 0, 0, 0, 0,\n",
       "         0, 0, 0, 0, 0, 0, 0, 0, 0, 0, 0, 0, 1],\n",
       "        [0, 0, 0, 0, 0, 0, 0, 0, 0, 0, 0, 0, 0, 0, 0, 0, 0, 0, 0, 0, 0, 0,\n",
       "         0, 0, 0, 0, 0, 0, 0, 0, 0, 0, 0, 0, 0],\n",
       "        [0, 0, 0, 0, 0, 0, 0, 0, 0, 0, 0, 0, 0, 0, 0, 0, 0, 0, 0, 0, 0, 0,\n",
       "         0, 0, 0, 0, 0, 0, 0, 0, 0, 0, 0, 0, 0],\n",
       "        [0, 0, 0, 0, 0, 0, 0, 0, 0, 0, 0, 1, 1, 1, 1, 1, 1, 1, 1, 1, 1, 1,\n",
       "         1, 1, 1, 1, 1, 1, 1, 1, 1, 1, 1, 1, 1],\n",
       "        [0, 0, 0, 0, 0, 0, 0, 0, 0, 0, 0, 1, 1, 1, 1, 1, 1, 1, 1, 1, 1, 1,\n",
       "         1, 1, 1, 1, 1, 1, 1, 1, 1, 1, 1, 1, 1],\n",
       "        [0, 0, 0, 0, 0, 0, 0, 0, 0, 0, 0, 1, 1, 1, 1, 1, 1, 1, 1, 1, 1, 1,\n",
       "         1, 1, 1, 1, 1, 1, 1, 1, 1, 1, 1, 1, 1],\n",
       "        [0, 0, 0, 0, 0, 0, 0, 0, 0, 0, 0, 1, 1, 1, 1, 0, 0, 0, 0, 0, 0, 0,\n",
       "         0, 0, 0, 0, 0, 0, 0, 0, 0, 0, 0, 0, 0],\n",
       "        [0, 0, 0, 0, 0, 0, 0, 0, 0, 0, 0, 1, 1, 1, 1, 0, 0, 0, 0, 0, 0, 0,\n",
       "         0, 0, 0, 0, 0, 0, 0, 0, 0, 0, 0, 0, 0],\n",
       "        [0, 0, 0, 0, 0, 0, 0, 0, 0, 0, 0, 1, 1, 1, 1, 0, 0, 0, 0, 0, 0, 0,\n",
       "         0, 0, 0, 0, 0, 0, 0, 0, 0, 0, 0, 0, 0],\n",
       "        [0, 0, 0, 0, 0, 0, 0, 0, 0, 0, 0, 1, 1, 1, 1, 0, 0, 0, 0, 0, 0, 0,\n",
       "         0, 0, 0, 0, 0, 0, 0, 0, 0, 0, 0, 0, 0],\n",
       "        [0, 0, 0, 0, 0, 0, 0, 0, 0, 0, 0, 1, 1, 1, 1, 0, 0, 0, 0, 0, 0, 0,\n",
       "         0, 0, 0, 0, 0, 0, 0, 0, 0, 0, 0, 0, 0],\n",
       "        [0, 0, 0, 0, 0, 0, 0, 0, 0, 0, 0, 1, 1, 1, 1, 0, 0, 0, 0, 0, 0, 0,\n",
       "         0, 0, 0, 0, 0, 0, 0, 0, 0, 0, 0, 0, 0],\n",
       "        [0, 0, 0, 0, 0, 0, 0, 0, 0, 0, 0, 1, 1, 1, 1, 0, 0, 0, 0, 0, 0, 0,\n",
       "         0, 0, 0, 0, 0, 0, 0, 0, 0, 0, 0, 0, 0],\n",
       "        [0, 0, 0, 0, 0, 0, 0, 0, 0, 0, 0, 1, 1, 1, 1, 0, 0, 0, 0, 0, 0, 0,\n",
       "         0, 0, 0, 0, 0, 0, 0, 0, 0, 0, 0, 0, 0],\n",
       "        [0, 0, 0, 0, 0, 0, 0, 0, 0, 0, 0, 1, 1, 1, 1, 0, 0, 0, 0, 0, 0, 0,\n",
       "         0, 0, 0, 0, 0, 0, 0, 0, 0, 0, 0, 0, 0],\n",
       "        [0, 0, 0, 0, 0, 0, 0, 0, 0, 0, 0, 1, 1, 1, 1, 1, 1, 1, 1, 1, 1, 1,\n",
       "         1, 1, 1, 1, 1, 1, 1, 1, 1, 1, 1, 1, 1],\n",
       "        [0, 0, 0, 0, 0, 0, 0, 0, 0, 0, 0, 1, 1, 1, 1, 1, 1, 1, 1, 1, 1, 1,\n",
       "         1, 1, 1, 1, 1, 1, 1, 1, 1, 1, 1, 1, 1],\n",
       "        [0, 0, 0, 0, 0, 0, 0, 0, 0, 0, 0, 1, 1, 1, 1, 1, 1, 1, 1, 1, 1, 1,\n",
       "         1, 1, 1, 1, 1, 1, 1, 1, 1, 1, 1, 1, 1],\n",
       "        [0, 0, 0, 0, 0, 0, 0, 0, 0, 0, 0, 0, 0, 0, 0, 0, 0, 0, 0, 0, 0, 0,\n",
       "         0, 0, 0, 0, 0, 0, 0, 0, 0, 0, 0, 0, 0],\n",
       "        [0, 0, 0, 0, 0, 0, 0, 0, 0, 0, 0, 0, 0, 0, 0, 0, 0, 0, 0, 0, 0, 0,\n",
       "         0, 0, 0, 0, 0, 0, 0, 0, 0, 0, 0, 0, 0],\n",
       "        [0, 0, 0, 0, 0, 0, 0, 0, 0, 0, 0, 0, 0, 0, 0, 0, 0, 0, 0, 0, 0, 0,\n",
       "         0, 0, 0, 0, 0, 0, 0, 0, 0, 0, 0, 0, 0]], dtype=uint8),\n",
       " array([[0, 0, 0, 0, 0, 0, 0, 0, 0, 0, 0, 0, 0, 0, 0, 0, 0, 0, 0, 0, 0, 0,\n",
       "         0, 0, 0, 0, 0, 0, 0, 0],\n",
       "        [0, 0, 0, 0, 0, 0, 0, 0, 0, 0, 0, 0, 0, 0, 0, 0, 0, 0, 0, 0, 0, 0,\n",
       "         0, 0, 0, 0, 0, 0, 0, 0],\n",
       "        [0, 0, 0, 0, 0, 0, 0, 0, 0, 0, 0, 0, 0, 0, 0, 0, 0, 0, 0, 0, 0, 0,\n",
       "         0, 0, 0, 0, 0, 0, 0, 0],\n",
       "        [0, 0, 0, 0, 0, 0, 0, 0, 0, 0, 0, 0, 0, 0, 0, 0, 0, 0, 0, 0, 0, 0,\n",
       "         0, 0, 0, 0, 0, 0, 0, 0],\n",
       "        [0, 0, 0, 0, 0, 0, 0, 0, 0, 0, 0, 0, 0, 0, 0, 0, 0, 0, 0, 0, 0, 0,\n",
       "         0, 0, 0, 0, 0, 0, 0, 0],\n",
       "        [0, 0, 0, 0, 0, 1, 1, 1, 0, 0, 0, 0, 0, 0, 0, 0, 0, 0, 0, 0, 0, 1,\n",
       "         1, 1, 0, 0, 0, 0, 0, 0],\n",
       "        [0, 0, 0, 0, 0, 1, 1, 1, 0, 0, 0, 0, 0, 0, 0, 0, 0, 0, 0, 0, 0, 1,\n",
       "         1, 1, 0, 0, 0, 0, 0, 0],\n",
       "        [0, 0, 0, 0, 0, 1, 1, 1, 0, 0, 0, 0, 0, 0, 0, 0, 0, 0, 0, 0, 0, 1,\n",
       "         1, 1, 0, 0, 0, 0, 0, 0],\n",
       "        [0, 0, 0, 0, 0, 1, 1, 1, 0, 0, 0, 0, 0, 0, 0, 0, 0, 0, 0, 0, 0, 1,\n",
       "         1, 1, 0, 0, 0, 0, 0, 0],\n",
       "        [0, 0, 0, 0, 0, 1, 1, 1, 0, 0, 0, 0, 0, 0, 0, 0, 0, 0, 0, 0, 0, 1,\n",
       "         1, 1, 0, 0, 0, 0, 0, 0],\n",
       "        [0, 0, 0, 0, 0, 1, 1, 1, 0, 0, 0, 0, 0, 0, 0, 0, 0, 0, 0, 0, 0, 1,\n",
       "         1, 1, 0, 0, 0, 0, 0, 0],\n",
       "        [0, 0, 0, 0, 0, 1, 1, 1, 1, 0, 0, 0, 0, 0, 0, 0, 0, 0, 0, 0, 1, 1,\n",
       "         1, 1, 0, 0, 0, 0, 0, 0],\n",
       "        [0, 0, 0, 0, 0, 1, 1, 1, 1, 1, 1, 1, 1, 1, 1, 1, 1, 1, 1, 1, 1, 1,\n",
       "         1, 1, 0, 0, 0, 0, 0, 0],\n",
       "        [0, 0, 0, 0, 0, 1, 1, 1, 1, 1, 1, 1, 1, 1, 1, 1, 1, 1, 1, 1, 1, 1,\n",
       "         1, 1, 0, 0, 0, 0, 0, 0],\n",
       "        [0, 0, 0, 0, 0, 1, 1, 1, 1, 0, 0, 0, 0, 0, 0, 0, 0, 0, 0, 0, 1, 1,\n",
       "         1, 1, 0, 0, 0, 0, 0, 0],\n",
       "        [0, 0, 0, 0, 0, 1, 1, 1, 0, 0, 0, 0, 0, 0, 0, 0, 0, 0, 0, 0, 0, 1,\n",
       "         1, 1, 0, 0, 0, 0, 0, 0],\n",
       "        [0, 0, 0, 0, 0, 1, 1, 1, 0, 0, 0, 0, 0, 0, 0, 0, 0, 0, 0, 0, 0, 1,\n",
       "         1, 1, 0, 0, 0, 0, 0, 0],\n",
       "        [0, 0, 0, 0, 0, 1, 1, 1, 0, 0, 0, 0, 0, 0, 0, 0, 0, 0, 0, 0, 0, 1,\n",
       "         1, 1, 0, 0, 0, 0, 0, 0],\n",
       "        [0, 0, 0, 0, 0, 1, 1, 1, 0, 0, 0, 0, 0, 0, 0, 0, 0, 0, 0, 0, 0, 1,\n",
       "         1, 1, 0, 0, 0, 0, 0, 0],\n",
       "        [0, 0, 0, 0, 0, 1, 1, 1, 0, 0, 0, 0, 0, 0, 0, 0, 0, 0, 0, 0, 0, 1,\n",
       "         1, 1, 0, 0, 0, 0, 0, 0],\n",
       "        [0, 0, 0, 0, 0, 1, 1, 1, 0, 0, 0, 0, 0, 0, 0, 0, 0, 0, 0, 0, 0, 1,\n",
       "         1, 1, 0, 0, 0, 0, 0, 0],\n",
       "        [0, 0, 0, 0, 0, 1, 1, 1, 1, 0, 0, 0, 0, 0, 0, 0, 0, 0, 0, 0, 0, 1,\n",
       "         1, 1, 0, 0, 0, 0, 0, 0],\n",
       "        [0, 0, 0, 0, 0, 1, 1, 1, 1, 1, 1, 1, 1, 1, 1, 1, 1, 1, 1, 1, 1, 1,\n",
       "         1, 1, 0, 0, 0, 0, 0, 0],\n",
       "        [0, 0, 0, 0, 0, 1, 1, 1, 1, 1, 1, 1, 1, 1, 1, 1, 1, 1, 1, 1, 1, 1,\n",
       "         1, 1, 0, 0, 0, 0, 0, 0],\n",
       "        [0, 0, 0, 0, 0, 1, 1, 1, 1, 1, 1, 1, 1, 1, 1, 1, 1, 1, 1, 1, 1, 1,\n",
       "         1, 1, 0, 0, 0, 0, 0, 0],\n",
       "        [0, 0, 0, 0, 0, 0, 0, 0, 0, 0, 0, 0, 0, 0, 0, 0, 0, 0, 0, 0, 0, 0,\n",
       "         0, 0, 0, 0, 0, 0, 0, 0],\n",
       "        [0, 0, 0, 0, 0, 0, 0, 0, 0, 0, 0, 0, 0, 0, 0, 0, 0, 0, 0, 0, 0, 0,\n",
       "         0, 0, 0, 0, 0, 0, 0, 0],\n",
       "        [0, 0, 0, 0, 0, 0, 0, 0, 0, 0, 0, 0, 0, 0, 0, 0, 0, 0, 0, 0, 0, 0,\n",
       "         0, 0, 0, 0, 0, 0, 0, 0],\n",
       "        [0, 0, 0, 0, 0, 0, 0, 0, 0, 0, 0, 0, 0, 0, 0, 0, 0, 0, 0, 0, 0, 0,\n",
       "         0, 0, 0, 0, 0, 0, 0, 0]], dtype=uint8),\n",
       " array([[0, 0, 0, 0, 0, 0, 0, 1, 1, 1, 1, 0, 0, 0, 0, 0, 0, 0, 0, 0, 0, 0,\n",
       "         0, 0, 0],\n",
       "        [0, 0, 0, 0, 0, 0, 0, 1, 1, 1, 1, 0, 0, 0, 0, 0, 0, 0, 0, 0, 0, 0,\n",
       "         0, 0, 0],\n",
       "        [0, 0, 0, 0, 0, 0, 0, 1, 1, 1, 1, 0, 0, 0, 0, 0, 0, 0, 0, 0, 0, 0,\n",
       "         0, 0, 0],\n",
       "        [0, 0, 0, 0, 0, 0, 0, 1, 1, 1, 1, 0, 0, 0, 0, 0, 0, 0, 0, 0, 0, 0,\n",
       "         0, 0, 0],\n",
       "        [0, 0, 0, 0, 0, 0, 0, 1, 1, 1, 1, 0, 0, 0, 0, 0, 0, 0, 0, 0, 0, 0,\n",
       "         0, 0, 0],\n",
       "        [0, 0, 0, 0, 0, 0, 0, 1, 1, 1, 1, 0, 0, 0, 0, 0, 0, 0, 0, 0, 0, 0,\n",
       "         0, 0, 0],\n",
       "        [0, 0, 0, 0, 0, 0, 0, 1, 1, 1, 1, 0, 0, 0, 0, 0, 0, 0, 0, 0, 0, 0,\n",
       "         0, 0, 0],\n",
       "        [0, 0, 0, 0, 0, 0, 0, 1, 1, 1, 1, 0, 0, 0, 0, 0, 0, 0, 0, 0, 0, 0,\n",
       "         0, 0, 0],\n",
       "        [0, 0, 0, 0, 0, 0, 0, 1, 1, 1, 1, 0, 0, 0, 0, 0, 0, 0, 0, 0, 0, 0,\n",
       "         0, 0, 0],\n",
       "        [0, 0, 0, 0, 0, 0, 0, 1, 1, 1, 1, 1, 1, 1, 1, 1, 1, 1, 0, 0, 0, 0,\n",
       "         0, 0, 0],\n",
       "        [0, 0, 0, 0, 0, 0, 0, 1, 1, 1, 1, 1, 1, 1, 1, 1, 1, 1, 0, 0, 0, 0,\n",
       "         0, 0, 0],\n",
       "        [0, 0, 0, 0, 0, 0, 0, 1, 1, 1, 1, 1, 1, 1, 1, 1, 1, 1, 0, 0, 0, 0,\n",
       "         0, 0, 0],\n",
       "        [0, 0, 0, 0, 0, 0, 0, 1, 1, 1, 1, 0, 0, 0, 0, 0, 0, 0, 0, 0, 0, 0,\n",
       "         0, 0, 0],\n",
       "        [0, 0, 0, 0, 0, 0, 0, 1, 1, 1, 1, 0, 0, 0, 0, 0, 0, 0, 0, 0, 0, 0,\n",
       "         0, 0, 0],\n",
       "        [0, 0, 0, 0, 0, 0, 0, 1, 1, 1, 1, 0, 0, 0, 0, 0, 0, 0, 0, 0, 0, 0,\n",
       "         0, 0, 0],\n",
       "        [0, 0, 0, 0, 0, 0, 0, 1, 1, 1, 1, 0, 0, 0, 0, 0, 0, 0, 0, 0, 0, 0,\n",
       "         0, 0, 0],\n",
       "        [0, 0, 0, 0, 0, 0, 0, 1, 1, 1, 1, 0, 0, 0, 0, 0, 0, 0, 0, 0, 0, 0,\n",
       "         0, 0, 0],\n",
       "        [0, 0, 0, 0, 0, 0, 0, 1, 1, 1, 1, 0, 0, 0, 0, 0, 0, 0, 0, 0, 0, 0,\n",
       "         0, 0, 0],\n",
       "        [0, 0, 0, 0, 0, 0, 0, 1, 1, 1, 1, 0, 0, 0, 0, 0, 0, 0, 0, 0, 0, 0,\n",
       "         0, 0, 0],\n",
       "        [0, 0, 0, 0, 0, 0, 0, 1, 1, 1, 1, 0, 0, 0, 0, 0, 0, 0, 0, 0, 0, 0,\n",
       "         0, 0, 0],\n",
       "        [0, 0, 0, 0, 0, 0, 0, 1, 1, 1, 1, 0, 0, 0, 0, 0, 0, 0, 0, 0, 0, 0,\n",
       "         0, 0, 0],\n",
       "        [0, 0, 0, 0, 0, 0, 0, 1, 1, 1, 1, 0, 0, 0, 0, 0, 0, 0, 0, 0, 0, 0,\n",
       "         0, 0, 0],\n",
       "        [0, 0, 0, 0, 0, 0, 0, 1, 1, 1, 1, 0, 0, 0, 0, 0, 0, 0, 0, 0, 0, 0,\n",
       "         0, 0, 0],\n",
       "        [0, 0, 0, 0, 0, 0, 0, 1, 1, 1, 1, 0, 0, 0, 0, 0, 0, 0, 0, 0, 0, 0,\n",
       "         0, 0, 0],\n",
       "        [0, 0, 0, 0, 0, 0, 0, 0, 0, 0, 0, 0, 0, 0, 0, 0, 0, 0, 0, 0, 0, 0,\n",
       "         0, 0, 0],\n",
       "        [0, 0, 0, 0, 0, 0, 0, 0, 0, 0, 0, 0, 0, 0, 0, 0, 0, 0, 0, 0, 0, 0,\n",
       "         0, 0, 0],\n",
       "        [1, 1, 1, 1, 1, 1, 1, 1, 1, 1, 1, 1, 0, 0, 0, 0, 0, 0, 0, 0, 0, 0,\n",
       "         0, 0, 0],\n",
       "        [1, 1, 1, 1, 1, 1, 1, 1, 1, 1, 1, 1, 0, 0, 0, 0, 0, 0, 0, 0, 0, 0,\n",
       "         0, 0, 0],\n",
       "        [1, 1, 1, 1, 1, 1, 1, 1, 1, 1, 1, 1, 0, 0, 0, 0, 0, 0, 0, 0, 0, 0,\n",
       "         0, 0, 0],\n",
       "        [0, 0, 0, 0, 0, 0, 0, 0, 0, 0, 0, 0, 0, 0, 0, 0, 0, 0, 0, 0, 0, 0,\n",
       "         0, 0, 0],\n",
       "        [0, 0, 0, 0, 0, 0, 0, 0, 0, 0, 0, 0, 0, 0, 0, 0, 0, 0, 0, 0, 0, 0,\n",
       "         0, 0, 0],\n",
       "        [0, 0, 0, 0, 0, 0, 0, 0, 0, 0, 0, 0, 0, 0, 0, 0, 0, 0, 0, 0, 0, 0,\n",
       "         0, 0, 0],\n",
       "        [0, 0, 0, 0, 0, 0, 0, 0, 0, 0, 0, 0, 0, 0, 0, 0, 0, 0, 0, 0, 0, 0,\n",
       "         0, 0, 0],\n",
       "        [0, 0, 0, 0, 0, 0, 0, 0, 0, 0, 0, 0, 0, 0, 0, 0, 0, 0, 0, 0, 0, 0,\n",
       "         0, 0, 0],\n",
       "        [0, 0, 0, 0, 0, 0, 0, 0, 0, 0, 0, 0, 0, 0, 0, 0, 0, 0, 0, 0, 0, 0,\n",
       "         0, 0, 0],\n",
       "        [0, 0, 0, 0, 0, 0, 0, 0, 0, 0, 0, 0, 0, 0, 0, 0, 0, 0, 0, 0, 0, 0,\n",
       "         0, 0, 0],\n",
       "        [0, 0, 0, 0, 0, 0, 0, 0, 0, 0, 0, 0, 0, 0, 0, 0, 0, 0, 0, 0, 0, 0,\n",
       "         0, 0, 0],\n",
       "        [0, 0, 0, 0, 0, 0, 0, 0, 0, 0, 0, 0, 0, 0, 0, 0, 0, 0, 0, 0, 0, 0,\n",
       "         0, 0, 0]], dtype=uint8)]"
      ]
     },
     "execution_count": 52,
     "metadata": {},
     "output_type": "execute_result"
    }
   ],
   "source": [
    "ims[20]"
   ]
  },
  {
   "cell_type": "code",
   "execution_count": 95,
   "id": "08462140",
   "metadata": {},
   "outputs": [],
   "source": [
    "with open('7.txt') as f:\n",
    "    lines = f.readlines()\n",
    "a = lines[0].split(' ')\n",
    "len(a)"
   ]
  },
  {
   "cell_type": "code",
   "execution_count": 97,
   "id": "6a3245ec",
   "metadata": {},
   "outputs": [
    {
     "data": {
      "text/plain": [
       "['日 不 心 天 四 去 外 回 吃 早 字 她 有 沒 把 身 弟 些 兒 具 放 明 果 爸 雨 洗 保 美 星 音 風 活 師 哪 氣 時 個 動 習 這 수 서 다 교 하 보 같 대 회 포 들 센 받 집 살 생 앞 말 화 좋 없 함 렇 물 떻 空 空 空 空 空 空 空 空 空 空 空 空 空 空 空']"
      ]
     },
     "execution_count": 97,
     "metadata": {},
     "output_type": "execute_result"
    }
   ],
   "source": [
    "lines"
   ]
  },
  {
   "cell_type": "code",
   "execution_count": 96,
   "id": "22beb8a4",
   "metadata": {},
   "outputs": [
    {
     "data": {
      "text/plain": [
       "80"
      ]
     },
     "execution_count": 96,
     "metadata": {},
     "output_type": "execute_result"
    }
   ],
   "source": [
    "a = lines[0].split(' ')\n",
    "len(a)"
   ]
  },
  {
   "cell_type": "code",
   "execution_count": 99,
   "id": "c5ab1293",
   "metadata": {},
   "outputs": [
    {
     "data": {
      "text/plain": [
       "{'Data/7_Maurer_inprep_followup/c1': ('日', 1),\n",
       " 'Data/7_Maurer_inprep_followup/k1': ('수', 1),\n",
       " 'Data/7_Maurer_inprep_followup/c2': ('不', 1),\n",
       " 'Data/7_Maurer_inprep_followup/k2': ('서', 1),\n",
       " 'Data/7_Maurer_inprep_followup/c3': ('心', 1),\n",
       " 'Data/7_Maurer_inprep_followup/k3': ('다', 1),\n",
       " 'Data/7_Maurer_inprep_followup/c4': ('天', 1),\n",
       " 'Data/7_Maurer_inprep_followup/k4': ('교', 1),\n",
       " 'Data/7_Maurer_inprep_followup/c5': ('四', 1),\n",
       " 'Data/7_Maurer_inprep_followup/k5': ('하', 1),\n",
       " 'Data/7_Maurer_inprep_followup/c6': ('去', 1),\n",
       " 'Data/7_Maurer_inprep_followup/k6': ('보', 1),\n",
       " 'Data/7_Maurer_inprep_followup/c7': ('外', 1),\n",
       " 'Data/7_Maurer_inprep_followup/k7': ('같', 1),\n",
       " 'Data/7_Maurer_inprep_followup/c8': ('回', 1),\n",
       " 'Data/7_Maurer_inprep_followup/k8': ('대', 1),\n",
       " 'Data/7_Maurer_inprep_followup/c9': ('吃', 1),\n",
       " 'Data/7_Maurer_inprep_followup/k9': ('회', 1),\n",
       " 'Data/7_Maurer_inprep_followup/c10': ('早', 1),\n",
       " 'Data/7_Maurer_inprep_followup/k10': ('포', 1),\n",
       " 'Data/7_Maurer_inprep_followup/c11': ('字', 1),\n",
       " 'Data/7_Maurer_inprep_followup/k11': ('들', 1),\n",
       " 'Data/7_Maurer_inprep_followup/c12': ('她', 1),\n",
       " 'Data/7_Maurer_inprep_followup/k12': ('센', 1),\n",
       " 'Data/7_Maurer_inprep_followup/c13': ('有', 1),\n",
       " 'Data/7_Maurer_inprep_followup/k13': ('받', 1),\n",
       " 'Data/7_Maurer_inprep_followup/c14': ('沒', 1),\n",
       " 'Data/7_Maurer_inprep_followup/k14': ('집', 1),\n",
       " 'Data/7_Maurer_inprep_followup/c15': ('把', 1),\n",
       " 'Data/7_Maurer_inprep_followup/k15': ('살', 1),\n",
       " 'Data/7_Maurer_inprep_followup/c16': ('身', 1),\n",
       " 'Data/7_Maurer_inprep_followup/k16': ('생', 1),\n",
       " 'Data/7_Maurer_inprep_followup/c17': ('弟', 1),\n",
       " 'Data/7_Maurer_inprep_followup/k17': ('앞', 1),\n",
       " 'Data/7_Maurer_inprep_followup/c18': ('些', 1),\n",
       " 'Data/7_Maurer_inprep_followup/k18': ('말', 1),\n",
       " 'Data/7_Maurer_inprep_followup/c19': ('兒', 1),\n",
       " 'Data/7_Maurer_inprep_followup/k19': ('화', 1),\n",
       " 'Data/7_Maurer_inprep_followup/c20': ('具', 1),\n",
       " 'Data/7_Maurer_inprep_followup/k20': ('좋', 1),\n",
       " 'Data/7_Maurer_inprep_followup/c21': ('放', 1),\n",
       " 'Data/7_Maurer_inprep_followup/k21': ('없', 1),\n",
       " 'Data/7_Maurer_inprep_followup/c22': ('明', 1),\n",
       " 'Data/7_Maurer_inprep_followup/k22': ('함', 1),\n",
       " 'Data/7_Maurer_inprep_followup/c23': ('果', 1),\n",
       " 'Data/7_Maurer_inprep_followup/k23': ('렇', 1),\n",
       " 'Data/7_Maurer_inprep_followup/c24': ('爸', 1),\n",
       " 'Data/7_Maurer_inprep_followup/k24': ('물', 1),\n",
       " 'Data/7_Maurer_inprep_followup/c25': ('雨', 1),\n",
       " 'Data/7_Maurer_inprep_followup/k25': ('떻', 1),\n",
       " 'Data/7_Maurer_inprep_followup/c26': ('洗', 1),\n",
       " 'Data/7_Maurer_inprep_followup/k26': ('空', 1),\n",
       " 'Data/7_Maurer_inprep_followup/c27': ('保', 1),\n",
       " 'Data/7_Maurer_inprep_followup/k27': ('空', 1),\n",
       " 'Data/7_Maurer_inprep_followup/c28': ('美', 1),\n",
       " 'Data/7_Maurer_inprep_followup/k28': ('空', 1),\n",
       " 'Data/7_Maurer_inprep_followup/c29': ('星', 1),\n",
       " 'Data/7_Maurer_inprep_followup/k29': ('空', 1),\n",
       " 'Data/7_Maurer_inprep_followup/c30': ('音', 1),\n",
       " 'Data/7_Maurer_inprep_followup/k30': ('空', 1),\n",
       " 'Data/7_Maurer_inprep_followup/c31': ('風', 1),\n",
       " 'Data/7_Maurer_inprep_followup/k31': ('空', 1),\n",
       " 'Data/7_Maurer_inprep_followup/c32': ('活', 1),\n",
       " 'Data/7_Maurer_inprep_followup/k32': ('空', 1),\n",
       " 'Data/7_Maurer_inprep_followup/c33': ('師', 1),\n",
       " 'Data/7_Maurer_inprep_followup/k33': ('空', 1),\n",
       " 'Data/7_Maurer_inprep_followup/c34': ('哪', 1),\n",
       " 'Data/7_Maurer_inprep_followup/k34': ('空', 1),\n",
       " 'Data/7_Maurer_inprep_followup/c35': ('氣', 1),\n",
       " 'Data/7_Maurer_inprep_followup/k35': ('空', 1),\n",
       " 'Data/7_Maurer_inprep_followup/c36': ('時', 1),\n",
       " 'Data/7_Maurer_inprep_followup/k36': ('空', 1),\n",
       " 'Data/7_Maurer_inprep_followup/c37': ('個', 1),\n",
       " 'Data/7_Maurer_inprep_followup/k37': ('空', 1),\n",
       " 'Data/7_Maurer_inprep_followup/c38': ('動', 1),\n",
       " 'Data/7_Maurer_inprep_followup/k38': ('空', 1),\n",
       " 'Data/7_Maurer_inprep_followup/c39': ('習', 1),\n",
       " 'Data/7_Maurer_inprep_followup/k39': ('空', 1),\n",
       " 'Data/7_Maurer_inprep_followup/c40': ('這', 1),\n",
       " 'Data/7_Maurer_inprep_followup/k40': ('空', 1)}"
      ]
     },
     "execution_count": 99,
     "metadata": {},
     "output_type": "execute_result"
    }
   ],
   "source": [
    "\n",
    "dic = {}\n",
    "loc = 'Data/7_Maurer_inprep_followup'\n",
    "for i in range(1,41):\n",
    "    c_loc_pic = loc + '/'+ 'c'+str(i)\n",
    "    k_loc_pic = loc + '/'+ 'k'+str(i)\n",
    "    dic[c_loc_pic] = (a[i-1],1)\n",
    "    dic[k_loc_pic] = (a[40+i-1],1)\n",
    "dic"
   ]
  },
  {
   "cell_type": "code",
   "execution_count": 55,
   "id": "c3d6fdd3",
   "metadata": {},
   "outputs": [
    {
     "data": {
      "text/plain": [
       "True"
      ]
     },
     "execution_count": 55,
     "metadata": {},
     "output_type": "execute_result"
    }
   ],
   "source": [
    "[1,2,3] in [[1,2,3]]"
   ]
  },
  {
   "cell_type": "code",
   "execution_count": 45,
   "id": "68f7bfba",
   "metadata": {},
   "outputs": [
    {
     "data": {
      "text/plain": [
       "<matplotlib.image.AxesImage at 0x7feb48569f40>"
      ]
     },
     "execution_count": 45,
     "metadata": {},
     "output_type": "execute_result"
    },
    {
     "data": {
      "image/png": "[encoded data removed]",
      "text/plain": [
       "<Figure size 432x288 with 1 Axes>"
      ]
     },
     "metadata": {
      "needs_background": "light"
     },
     "output_type": "display_data"
    }
   ],
   "source": [
    "plt.imshow(ims[20][1])"
   ]
  },
  {
   "cell_type": "code",
   "execution_count": 46,
   "id": "d291c484",
   "metadata": {},
   "outputs": [
    {
     "data": {
      "text/plain": [
       "<matplotlib.image.AxesImage at 0x7feb200473a0>"
      ]
     },
     "execution_count": 46,
     "metadata": {},
     "output_type": "execute_result"
    },
    {
     "data": {
      "image/png": "[encoded data removed]",
      "text/plain": [
       "<Figure size 432x288 with 1 Axes>"
      ]
     },
     "metadata": {
      "needs_background": "light"
     },
     "output_type": "display_data"
    }
   ],
   "source": [
    "plt.imshow(ims[20][2])"
   ]
  }
 ],
 "metadata": {
  "kernelspec": {
   "display_name": "Python 3 (ipykernel)",
   "language": "python",
   "name": "python3"
  },
  "language_info": {
   "codemirror_mode": {
    "name": "ipython",
    "version": 3
   },
   "file_extension": ".py",
   "mimetype": "text/x-python",
   "name": "python",
   "nbconvert_exporter": "python",
   "pygments_lexer": "ipython3",
   "version": "3.9.7"
  },
  "vscode": {
   "interpreter": {
    "hash": "472f3460692ba2c0861145e5e150d03c8a5c0e40e057944a047c431b9050b93d"
   }
  }
 },
 "nbformat": 4,
 "nbformat_minor": 5
}
