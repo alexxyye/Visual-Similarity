{
 "cells": [
  {
   "cell_type": "code",
   "execution_count": null,
   "id": "1a7929ce",
   "metadata": {},
   "outputs": [],
   "source": [
    "from PIL import Image\n",
    "from numpy import asarray\n",
    "import matplotlib.pyplot as plt\n",
    "import numpy as np\n",
    "import cv2\n",
    "from os import listdir\n",
    "from os.path import isfile, join\n",
    "import random"
   ]
  },
  {
   "cell_type": "code",
   "execution_count": null,
   "id": "ccfec567",
   "metadata": {},
   "outputs": [],
   "source": [
    "# read file function\n",
    "def read_dic(mypath:str)-> list:\n",
    "    onlyfiles = [mypath + '/'+f for f in listdir(mypath) if isfile(join(mypath, f)) and f != \".DS_Store\"]\n",
    "    return onlyfiles"
   ]
  },
  {
   "cell_type": "code",
   "execution_count": null,
   "id": "de45d337",
   "metadata": {},
   "outputs": [],
   "source": [
    "folder = read_dic('/Users/alex/Documents/GitHub/Visual-Similarity/Data/7_Maurer_inprep_followup')\n",
    "image_Labels = []\n",
    "for file in folder:\n",
    "    # load the image\n",
    "    image = Image.open(file)\n",
    "    # convert image to numpy array\n",
    "    data = asarray(image)\n",
    "    data = cv2.cvtColor(data, cv2.COLOR_BGR2GRAY)\n",
    "    # set thresholds to adjust ink\n",
    "    for m in range(data.shape[0]):\n",
    "        for n in range(data.shape[1]):\n",
    "            if data[m][n] > 127.5:\n",
    "                data[m][n] = 255\n",
    "            else:\n",
    "                data[m][n] = 0\n",
    "    num_labels, labels = cv2.connectedComponents(data)\n",
    "    image_Labels.append(labels)\n",
    "    "
   ]
  },
  {
   "cell_type": "code",
   "execution_count": null,
   "id": "4a68d2e2",
   "metadata": {},
   "outputs": [],
   "source": [
    "# np.savetxt(\"/Users/alex/Desktop/data.csv\", data, delimiter=\",\")"
   ]
  },
  {
   "cell_type": "code",
   "execution_count": null,
   "id": "356a6573",
   "metadata": {},
   "outputs": [],
   "source": [
    "# list all i and j in dictionary according to labels\n",
    "dic = {}\n",
    "for i in range(labels.shape[0]):\n",
    "    for j in range(labels.shape[1]):\n",
    "        if labels[i][j] in dic.keys():\n",
    "            dic[labels[i][j]].append((i,j))\n",
    "        else:\n",
    "            dic[labels[i][j]] = []\n",
    "            dic[labels[i][j]].append((i,j))"
   ]
  },
  {
   "cell_type": "code",
   "execution_count": null,
   "id": "8c80f4d5",
   "metadata": {},
   "outputs": [],
   "source": [
    "# define function find min&max i&j in dictionary for each key\n",
    "def find_min_max_ij(dic):   \n",
    "    i_s =[]\n",
    "    j_s =[]\n",
    "    for tup in dic:\n",
    "        i_s.append(tup[0])\n",
    "        j_s.append(tup[1])\n",
    "    i_min,i_max = min(i_s),max(i_s)\n",
    "    j_min,j_max = min(j_s),max(j_s)\n",
    "    return i_min,i_max,j_min,j_max"
   ]
  },
  {
   "cell_type": "code",
   "execution_count": null,
   "id": "058601a6",
   "metadata": {},
   "outputs": [],
   "source": [
    "# make a dic for i&j min&max\n",
    "dic_min_max= {}\n",
    "for obj in dic.keys():\n",
    "    i_min,i_max,j_min,j_max = find_min_max_ij(dic[obj])\n",
    "    dic_min_max[obj] = [i_min,i_max,j_min,j_max]"
   ]
  },
  {
   "cell_type": "code",
   "execution_count": null,
   "id": "12f32707",
   "metadata": {},
   "outputs": [],
   "source": [
    "dic_min_max\n"
   ]
  },
  {
   "cell_type": "code",
   "execution_count": null,
   "id": "828e3a79",
   "metadata": {},
   "outputs": [],
   "source": [
    "print(i_min)"
   ]
  },
  {
   "cell_type": "code",
   "execution_count": null,
   "id": "8cab2b13",
   "metadata": {},
   "outputs": [],
   "source": [
    "# define contain function\n",
    "def contain(i_min1,i_max1,j_min1,j_max1,i_min2,i_max2,j_min2,j_max2):\n",
    "    if i_min1<i_min2 and j_min1<j_min2 and i_max1>i_max2 and j_max1>j_max2:\n",
    "        return True # label 1 contains label 2\n",
    "    else:\n",
    "        return False"
   ]
  },
  {
   "cell_type": "code",
   "execution_count": null,
   "id": "2c9972f2",
   "metadata": {},
   "outputs": [],
   "source": [
    "# find where the 0s are in original data -> 8 in 'labels'\n",
    "for key in dic.keys():\n",
    "    for k in range(len(dic[key])):\n",
    "        if data[dic[key][k]] == 255:\n",
    "            labels[dic[key][k]] = 8"
   ]
  },
  {
   "cell_type": "code",
   "execution_count": null,
   "id": "e63eb3ea",
   "metadata": {},
   "outputs": [],
   "source": [
    "# generate pairwise list of labels\n",
    "pair_list = []\n",
    "for t in range(0,len([*dic])):\n",
    "\tfor p in range(0,len([*dic])):\n",
    "\t\tif (t!=p):\n",
    "\t\t\tpair_list.append(([*dic][t],[*dic][p]))\n"
   ]
  },
  {
   "cell_type": "code",
   "execution_count": null,
   "id": "ff729023",
   "metadata": {},
   "outputs": [],
   "source": [
    "# contain function -> if some components are contained by the other, change them to the same\n",
    "for pair in pair_list:\n",
    "    key1 = pair[0]\n",
    "    key2 = pair[1]\n",
    "    if contain(dic_min_max[key1][0], dic_min_max[key1][1], dic_min_max[key1][2], dic_min_max[key1][3],\n",
    "    dic_min_max[key2][0], dic_min_max[key2][1], dic_min_max[key2][2], dic_min_max[key2][3]) == True:\n",
    "        for kk in range(len(dic[key1])):\n",
    "            labels[dic[key1][kk]] = labels[dic[key1][kk]]"
   ]
  },
  {
   "cell_type": "code",
   "execution_count": null,
   "id": "2b6870c4",
   "metadata": {},
   "outputs": [],
   "source": [
    "plt.imshow(labels)\n",
    "print(labels[52])"
   ]
  },
  {
   "cell_type": "code",
   "execution_count": 1,
   "id": "7d9fc26c",
   "metadata": {},
   "outputs": [
    {
     "data": {
      "text/plain": [
       "<matplotlib.image.AxesImage at 0x7ff0f89bac10>"
      ]
     },
     "execution_count": 1,
     "metadata": {},
     "output_type": "execute_result"
    },
    {
     "data": {
      "image/png": "[encoded data removed]",
      "text/plain": [
       "<Figure size 432x288 with 1 Axes>"
      ]
     },
     "metadata": {
      "needs_background": "light"
     },
     "output_type": "display_data"
    }
   ],
   "source": [
    "from PIL import Image\n",
    "from numpy import asarray\n",
    "import matplotlib.pyplot as plt\n",
    "import numpy as np\n",
    "import cv2\n",
    "from os import listdir\n",
    "from os.path import isfile, join\n",
    "import random\n",
    "\n",
    "# read file function\n",
    "def read_dic(mypath:str)-> list:\n",
    "    onlyfiles = [mypath + '/'+f for f in listdir(mypath) if isfile(join(mypath, f)) and f != \".DS_Store\"]\n",
    "    return onlyfiles\n",
    "\n",
    "folder = read_dic('/Users/alex/Documents/GitHub/Visual-Similarity/Data/7_Maurer_inprep_followup')\n",
    "image_Labels = []\n",
    "for file in folder:\n",
    "    # load the image\n",
    "    image = Image.open(file)\n",
    "    # convert image to numpy array\n",
    "    data = asarray(image)\n",
    "    data = cv2.cvtColor(data, cv2.COLOR_BGR2GRAY)\n",
    "    # set thresholds to adjust ink\n",
    "    for m in range(data.shape[0]):\n",
    "        for n in range(data.shape[1]):\n",
    "            if data[m][n] > 127.5:\n",
    "                data[m][n] = 255\n",
    "            else:\n",
    "                data[m][n] = 0\n",
    "    num_labels, labels = cv2.connectedComponents(data)\n",
    "    image_Labels.append(labels)\n",
    "\n",
    "for labels in image_Labels:\n",
    "    # list all i and j in dictionary according to labels\n",
    "    dic = {}\n",
    "    for i in range(labels.shape[0]):\n",
    "        for j in range(labels.shape[1]):\n",
    "            if labels[i][j] in dic.keys():\n",
    "                dic[labels[i][j]].append((i,j))\n",
    "            else:\n",
    "                dic[labels[i][j]] = []\n",
    "                dic[labels[i][j]].append((i,j))\n",
    "\n",
    "    # define function find min&max i&j in dictionary for each key\n",
    "    def find_min_max_ij(dic):   \n",
    "        i_s =[]\n",
    "        j_s =[]\n",
    "        for tup in dic:\n",
    "            i_s.append(tup[0])\n",
    "            j_s.append(tup[1])\n",
    "        i_min,i_max = min(i_s),max(i_s)\n",
    "        j_min,j_max = min(j_s),max(j_s)\n",
    "        return i_min,i_max,j_min,j_max\n",
    "\n",
    "    # make a dic for i&j min&max\n",
    "    dic_min_max= {}\n",
    "    for obj in dic.keys():\n",
    "        i_min,i_max,j_min,j_max = find_min_max_ij(dic[obj])\n",
    "        dic_min_max[obj] = [i_min,i_max,j_min,j_max]\n",
    "\n",
    "    # define contain function\n",
    "    def contain(i_min1,i_max1,j_min1,j_max1,i_min2,i_max2,j_min2,j_max2):\n",
    "        if i_min1<i_min2 and j_min1<j_min2 and i_max1>i_max2 and j_max1>j_max2:\n",
    "            return True # label 1 contains label 2\n",
    "        else:\n",
    "            return False\n",
    "\n",
    "    # find where the 0s are in original data -> 8 in 'labels'\n",
    "    for key in dic.keys():\n",
    "        for k in range(len(dic[key])):\n",
    "            if data[dic[key][k]] == 255:\n",
    "                labels[dic[key][k]] = 8\n",
    "\n",
    "    # generate pairwise list of labels\n",
    "    pair_list = []\n",
    "    for t in range(0,len([*dic])):\n",
    "        for p in range(0,len([*dic])):\n",
    "            if (t!=p):\n",
    "                pair_list.append(([*dic][t],[*dic][p]))\n",
    "\n",
    "    # contain function -> if some components are contained by the other, change them to the same\n",
    "    for pair in pair_list:\n",
    "        key1 = pair[0]\n",
    "        key2 = pair[1]\n",
    "        if contain(dic_min_max[key1][0], dic_min_max[key1][1], dic_min_max[key1][2], dic_min_max[key1][3],\n",
    "        dic_min_max[key2][0], dic_min_max[key2][1], dic_min_max[key2][2], dic_min_max[key2][3]) == True:\n",
    "            for kk in range(len(dic[key1])):\n",
    "                labels[dic[key1][kk]] = labels[dic[key1][kk]]\n"
   ]
  },
  {
   "cell_type": "code",
   "execution_count": 8,
   "id": "91894c0b",
   "metadata": {},
   "outputs": [
    {
     "data": {
      "text/plain": [
       "<matplotlib.image.AxesImage at 0x7ff0fcf32790>"
      ]
     },
     "execution_count": 8,
     "metadata": {},
     "output_type": "execute_result"
    },
    {
     "data": {
      "image/png": "[encoded data removed]",
      "text/plain": [
       "<Figure size 432x288 with 1 Axes>"
      ]
     },
     "metadata": {
      "needs_background": "light"
     },
     "output_type": "display_data"
    }
   ],
   "source": [
    "plt.imshow(image_Labels[3])\n"
   ]
  },
  {
   "cell_type": "code",
   "execution_count": null,
   "id": "4d294554",
   "metadata": {},
   "outputs": [],
   "source": []
  }
 ],
 "metadata": {
  "kernelspec": {
   "display_name": "Python 3.9.12 ('base')",
   "language": "python",
   "name": "python3"
  },
  "language_info": {
   "codemirror_mode": {
    "name": "ipython",
    "version": 3
   },
   "file_extension": ".py",
   "mimetype": "text/x-python",
   "name": "python",
   "nbconvert_exporter": "python",
   "pygments_lexer": "ipython3",
   "version": "3.9.12"
  },
  "vscode": {
   "interpreter": {
    "hash": "472f3460692ba2c0861145e5e150d03c8a5c0e40e057944a047c431b9050b93d"
   }
  }
 },
 "nbformat": 4,
 "nbformat_minor": 5
}
