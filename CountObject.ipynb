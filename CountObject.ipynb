{
 "cells": [
  {
   "cell_type": "code",
   "execution_count": 1,
   "id": "1a7929ce",
   "metadata": {},
   "outputs": [],
   "source": [
    "from PIL import Image\n",
    "from numpy import asarray\n",
    "import matplotlib.pyplot as plt\n",
    "import numpy as np\n",
    "import cv2\n",
    "from os import listdir\n",
    "from os.path import isfile, join\n",
    "import random"
   ]
  },
  {
   "cell_type": "code",
   "execution_count": 2,
   "id": "ccfec567",
   "metadata": {},
   "outputs": [],
   "source": [
    "# read file function\n",
    "def read_dic(mypath:str)-> list:\n",
    "    onlyfiles = [mypath + '/'+f for f in listdir(mypath) if isfile(join(mypath, f)) and f != \".DS_Store\"]\n",
    "    return onlyfiles"
   ]
  },
  {
   "cell_type": "code",
   "execution_count": null,
   "id": "de45d337",
   "metadata": {},
   "outputs": [],
   "source": [
    "folder = read_dic('/Users/alex/Documents/GitHub/Visual-Similarity/Data/7_Maurer_inprep_followup')\n",
    "image_Labels = []\n",
    "for file in folder:\n",
    "    # load the image\n",
    "    image = Image.open(file)\n",
    "    # convert image to numpy array\n",
    "    data = asarray(image)\n",
    "    data = cv2.cvtColor(data, cv2.COLOR_BGR2GRAY)\n",
    "    # set thresholds to adjust ink\n",
    "    for m in range(data.shape[0]):\n",
    "        for n in range(data.shape[1]):\n",
    "            if data[m][n] > 127.5:\n",
    "                data[m][n] = 255\n",
    "            else:\n",
    "                data[m][n] = 0\n",
    "    num_labels, labels = cv2.connectedComponents(data)\n",
    "    image_Labels.append(labels)\n",
    "    "
   ]
  },
  {
   "cell_type": "code",
   "execution_count": null,
   "id": "5bbfdd01",
   "metadata": {},
   "outputs": [],
   "source": [
    "flat_list = [item for sublist in labels for item in sublist]\n",
    "set(flat_list)\n",
    "flat_list = [item for sublist in data for item in sublist]\n",
    "set(flat_list)"
   ]
  },
  {
   "cell_type": "code",
   "execution_count": null,
   "id": "4a68d2e2",
   "metadata": {},
   "outputs": [],
   "source": [
    "# np.savetxt(\"/Users/alex/Desktop/data.csv\", data, delimiter=\",\")"
   ]
  },
  {
   "cell_type": "code",
   "execution_count": null,
   "id": "356a6573",
   "metadata": {},
   "outputs": [],
   "source": [
    "# list all i and j in dictionary according to labels\n",
    "dic = {}\n",
    "for i in range(labels.shape[0]):\n",
    "    for j in range(labels.shape[1]):\n",
    "        if labels[i][j] in dic.keys():\n",
    "            dic[labels[i][j]].append((i,j))\n",
    "        else:\n",
    "            dic[labels[i][j]] = []\n",
    "            dic[labels[i][j]].append((i,j))"
   ]
  },
  {
   "cell_type": "code",
   "execution_count": null,
   "id": "8c80f4d5",
   "metadata": {},
   "outputs": [],
   "source": [
    "# define function find min&max i&j in dictionary for each key\n",
    "def find_min_max_ij(dic):   \n",
    "    i_s =[]\n",
    "    j_s =[]\n",
    "    for tup in dic:\n",
    "        i_s.append(tup[0])\n",
    "        j_s.append(tup[1])\n",
    "    i_min,i_max = min(i_s),max(i_s)\n",
    "    j_min,j_max = min(j_s),max(j_s)\n",
    "    return i_min,i_max,j_min,j_max"
   ]
  },
  {
   "cell_type": "code",
   "execution_count": null,
   "id": "058601a6",
   "metadata": {},
   "outputs": [],
   "source": [
    "# make a dic for i&j min&max\n",
    "dic_min_max= {}\n",
    "for obj in dic.keys():\n",
    "    i_min,i_max,j_min,j_max = find_min_max_ij(dic[obj])\n",
    "    dic_min_max[obj] = [i_min,i_max,j_min,j_max]"
   ]
  },
  {
   "cell_type": "code",
   "execution_count": null,
   "id": "12f32707",
   "metadata": {},
   "outputs": [],
   "source": [
    "dic_min_max\n"
   ]
  },
  {
   "cell_type": "code",
   "execution_count": null,
   "id": "828e3a79",
   "metadata": {},
   "outputs": [],
   "source": [
    "print(i_min)"
   ]
  },
  {
   "cell_type": "code",
   "execution_count": null,
   "id": "8cab2b13",
   "metadata": {},
   "outputs": [],
   "source": [
    "# define contain function\n",
    "def contain(i_min1,i_max1,j_min1,j_max1,i_min2,i_max2,j_min2,j_max2):\n",
    "    if i_min1<i_min2 and j_min1<j_min2 and i_max1>i_max2 and j_max1>j_max2:\n",
    "        return True # label 1 contains label 2\n",
    "    else:\n",
    "        return False"
   ]
  },
  {
   "cell_type": "code",
   "execution_count": null,
   "id": "2c9972f2",
   "metadata": {},
   "outputs": [],
   "source": [
    "# find where the 0s are in original data -> 8 in 'labels'\n",
    "for key in dic.keys():\n",
    "    for k in range(len(dic[key])):\n",
    "        if data[dic[key][k]] == 255:\n",
    "            labels[dic[key][k]] = 8"
   ]
  },
  {
   "cell_type": "code",
   "execution_count": null,
   "id": "e63eb3ea",
   "metadata": {},
   "outputs": [],
   "source": [
    "# generate pairwise list of labels\n",
    "pair_list = []\n",
    "for t in range(0,len([*dic])):\n",
    "\tfor p in range(0,len([*dic])):\n",
    "\t\tif (t!=p):\n",
    "\t\t\tpair_list.append(([*dic][t],[*dic][p]))\n"
   ]
  },
  {
   "cell_type": "code",
   "execution_count": null,
   "id": "ff729023",
   "metadata": {},
   "outputs": [],
   "source": [
    "# contain function -> if some components are contained by the other, change them to the same\n",
    "for pair in pair_list:\n",
    "    key1 = pair[0]\n",
    "    key2 = pair[1]\n",
    "    if contain(dic_min_max[key1][0], dic_min_max[key1][1], dic_min_max[key1][2], dic_min_max[key1][3],\n",
    "    dic_min_max[key2][0], dic_min_max[key2][1], dic_min_max[key2][2], dic_min_max[key2][3]) == True:\n",
    "        for kk in range(len(dic[key1])):\n",
    "            labels[dic[key1][kk]] = labels[dic[key1][kk]]"
   ]
  },
  {
   "cell_type": "code",
   "execution_count": null,
   "id": "2b6870c4",
   "metadata": {},
   "outputs": [],
   "source": [
    "plt.imshow(labels)\n",
    "print(labels[52])"
   ]
  },
  {
   "cell_type": "code",
   "execution_count": null,
   "id": "7d9fc26c",
   "metadata": {},
   "outputs": [],
   "source": [
    "from PIL import Image\n",
    "from numpy import asarray\n",
    "import matplotlib.pyplot as plt\n",
    "import numpy as np\n",
    "import cv2\n",
    "from os import listdir\n",
    "from os.path import isfile, join\n",
    "import random\n",
    "\n",
    "# read file function\n",
    "def read_dic(mypath:str)-> list:\n",
    "    onlyfiles = [mypath + '/'+f for f in listdir(mypath) if isfile(join(mypath, f)) and f != \".DS_Store\"]\n",
    "    return onlyfiles\n",
    "\n",
    "folder = read_dic('/Users/alex/Documents/GitHub/Visual-Similarity/Data/7_Maurer_inprep_followup')\n",
    "image_Labels = []\n",
    "for file in folder:\n",
    "    # load the image\n",
    "    image = Image.open(file)\n",
    "    # convert image to numpy array\n",
    "    data = asarray(image)\n",
    "    data = cv2.cvtColor(data, cv2.COLOR_BGR2GRAY)\n",
    "    # set thresholds to adjust ink\n",
    "    for m in range(data.shape[0]):\n",
    "        for n in range(data.shape[1]):\n",
    "            if data[m][n] > 127.5:\n",
    "                data[m][n] = 255\n",
    "            else:\n",
    "                data[m][n] = 0\n",
    "    num_labels, labels = cv2.connectedComponents(data)\n",
    "    image_Labels.append(labels)\n",
    "\n",
    "for labels in image_Labels:\n",
    "    # list all i and j in dictionary according to labels\n",
    "    dic = {}\n",
    "    for i in range(labels.shape[0]):\n",
    "        for j in range(labels.shape[1]):\n",
    "            if labels[i][j] in dic.keys():\n",
    "                dic[labels[i][j]].append((i,j))\n",
    "            else:\n",
    "                dic[labels[i][j]] = []\n",
    "                dic[labels[i][j]].append((i,j))\n",
    "\n",
    "    # define function find min&max i&j in dictionary for each key\n",
    "    def find_min_max_ij(dic):   \n",
    "        i_s =[]\n",
    "        j_s =[]\n",
    "        for tup in dic:\n",
    "            i_s.append(tup[0])\n",
    "            j_s.append(tup[1])\n",
    "        i_min,i_max = min(i_s),max(i_s)\n",
    "        j_min,j_max = min(j_s),max(j_s)\n",
    "        return i_min,i_max,j_min,j_max\n",
    "\n",
    "    # make a dic for i&j min&max\n",
    "    dic_min_max= {}\n",
    "    for obj in dic.keys():\n",
    "        i_min,i_max,j_min,j_max = find_min_max_ij(dic[obj])\n",
    "        dic_min_max[obj] = [i_min,i_max,j_min,j_max]\n",
    "\n",
    "    # define contain function\n",
    "    def contain(i_min1,i_max1,j_min1,j_max1,i_min2,i_max2,j_min2,j_max2):\n",
    "        if i_min1<i_min2 and j_min1<j_min2 and i_max1>i_max2 and j_max1>j_max2:\n",
    "            return True # label 1 contains label 2\n",
    "        else:\n",
    "            return False\n",
    "\n",
    "    # find where the 0s are in original data -> 8 in 'labels'\n",
    "    for key in dic.keys():\n",
    "        for k in range(len(dic[key])):\n",
    "            if data[dic[key][k]] == 255:\n",
    "                labels[dic[key][k]] = 8\n",
    "\n",
    "    # generate pairwise list of labels\n",
    "    pair_list = []\n",
    "    for t in range(0,len([*dic])):\n",
    "        for p in range(0,len([*dic])):\n",
    "            if (t!=p):\n",
    "                pair_list.append(([*dic][t],[*dic][p]))\n",
    "\n",
    "    # contain function -> if some components are contained by the other, change them to the same\n",
    "    for pair in pair_list:\n",
    "        key1 = pair[0]\n",
    "        key2 = pair[1]\n",
    "        if contain(dic_min_max[key1][0], dic_min_max[key1][1], dic_min_max[key1][2], dic_min_max[key1][3],\n",
    "        dic_min_max[key2][0], dic_min_max[key2][1], dic_min_max[key2][2], dic_min_max[key2][3]) == True:\n",
    "            for kk in range(len(dic[key1])):\n",
    "                labels[dic[key1][kk]] = labels[dic[key1][kk]]\n"
   ]
  },
  {
   "cell_type": "code",
   "execution_count": null,
   "id": "ce126369",
   "metadata": {},
   "outputs": [],
   "source": [
    "\n"
   ]
  },
  {
   "cell_type": "code",
   "execution_count": null,
   "id": "45c84c31",
   "metadata": {},
   "outputs": [],
   "source": [
    "set(flat_list)"
   ]
  },
  {
   "cell_type": "code",
   "execution_count": null,
   "id": "d5a7b5e1",
   "metadata": {},
   "outputs": [],
   "source": [
    "dic"
   ]
  },
  {
   "cell_type": "code",
   "execution_count": 2,
   "id": "4d294554",
   "metadata": {},
   "outputs": [
    {
     "ename": "NameError",
     "evalue": "name 'data' is not defined",
     "output_type": "error",
     "traceback": [
      "\u001b[0;31m---------------------------------------------------------------------------\u001b[0m",
      "\u001b[0;31mNameError\u001b[0m                                 Traceback (most recent call last)",
      "\u001b[1;32m/Users/alex/Documents/GitHub/Visual-Similarity/CountObject.ipynb Cell 20\u001b[0m in \u001b[0;36m<cell line: 50>\u001b[0;34m()\u001b[0m\n\u001b[1;32m     <a href='vscode-notebook-cell:/Users/alex/Documents/GitHub/Visual-Similarity/CountObject.ipynb#X25sZmlsZQ%3D%3D?line=83'>84</a>\u001b[0m                 \u001b[39mfor\u001b[39;00m j \u001b[39min\u001b[39;00m \u001b[39mrange\u001b[39m(stat[\u001b[39m1\u001b[39m],stat[\u001b[39m3\u001b[39m]):\n\u001b[1;32m     <a href='vscode-notebook-cell:/Users/alex/Documents/GitHub/Visual-Similarity/CountObject.ipynb#X25sZmlsZQ%3D%3D?line=84'>85</a>\u001b[0m                     allt \u001b[39m+\u001b[39m\u001b[39m=\u001b[39m\u001b[39m1\u001b[39m \n\u001b[0;32m---> <a href='vscode-notebook-cell:/Users/alex/Documents/GitHub/Visual-Similarity/CountObject.ipynb#X25sZmlsZQ%3D%3D?line=85'>86</a>\u001b[0m                     \u001b[39mif\u001b[39;00m data[i][j] \u001b[39m==\u001b[39m \u001b[39m0\u001b[39m:\n\u001b[1;32m     <a href='vscode-notebook-cell:/Users/alex/Documents/GitHub/Visual-Similarity/CountObject.ipynb#X25sZmlsZQ%3D%3D?line=86'>87</a>\u001b[0m                         count \u001b[39m+\u001b[39m\u001b[39m=\u001b[39m \u001b[39m1\u001b[39m\n\u001b[1;32m     <a href='vscode-notebook-cell:/Users/alex/Documents/GitHub/Visual-Similarity/CountObject.ipynb#X25sZmlsZQ%3D%3D?line=87'>88</a>\u001b[0m \u001b[39m#         print(count/allt)\u001b[39;00m\n",
      "\u001b[0;31mNameError\u001b[0m: name 'data' is not defined"
     ]
    }
   ],
   "source": [
    "from PIL import Image\n",
    "from numpy import asarray\n",
    "import matplotlib.pyplot as plt\n",
    "import numpy as np\n",
    "import cv2\n",
    "from os import listdir\n",
    "from os.path import isfile, join\n",
    "import random\n",
    "from PIL import Image\n",
    "import json\n",
    "\n",
    "# read file function\n",
    "def read_dic(mypath:str)-> list:\n",
    "    onlyfiles = [mypath + '/'+f for f in listdir(mypath) if isfile(join(mypath, f)) and f != \".DS_Store\"]\n",
    "    return onlyfiles\n",
    "def find_min_max_ij(dic):   \n",
    "    i_s =[]\n",
    "    j_s =[]\n",
    "    for tup in dic:\n",
    "        i_s.append(tup[0])\n",
    "        j_s.append(tup[1])\n",
    "    i_min,i_max = min(i_s),max(i_s)\n",
    "    j_min,j_max = min(j_s),max(j_s)\n",
    "    return i_min,i_max,j_min,j_max\n",
    "# define contain function\n",
    "def contain(i_min1,i_max1,j_min1,j_max1,i_min2,i_max2,j_min2,j_max2):\n",
    "    if i_min1<i_min2 and j_min1<j_min2 and i_max1>i_max2 and j_max1>j_max2:\n",
    "        return True # label 1 contains label 2\n",
    "    else:\n",
    "        return False\n",
    "\n",
    "def flat_list(listt):\n",
    "    flat_list = [item for sublist in listt for item in sublist]\n",
    "    return set(flat_list)\n",
    "\n",
    "\n",
    "f = open ('words_stroks8.json', \"r\")\n",
    "total_strokes = json.load(f)\n",
    "with open('Chi_8.txt') as f:\n",
    "    lines = f.readlines()\n",
    "a = lines[0].split(' ')\n",
    "\n",
    "folder = read_dic('Data/8_Maurer_inprep_repsup')\n",
    "contain_obj = {}\n",
    "image_Labels = []\n",
    "data_list = []\n",
    "image_stats = []\n",
    "ims= []\n",
    "\n",
    "for file in folder:\n",
    "    \n",
    "    image_stat = []\n",
    "    # load the image\n",
    "#     image = Image.open(file)\n",
    "    # convert image to numpy array\n",
    "    img = cv2.imread(file, 0)\n",
    "#     plt.imshow(data)\n",
    "#     data = cv2.cvtColor(img, cv2.COLOR_BGR2GRAY)\n",
    "    img = cv2.threshold(img, 127, 0, cv2.THRESH_BINARY)[1]\n",
    "    \n",
    "    # set thresholds\n",
    "#     for m in range(data.shape[0]):\n",
    "#         for n in range(data.shape[1]):\n",
    "#             if data[m][n] > 127.5:\n",
    "#                 data[m][n] = 0\n",
    "#             else:\n",
    "#                 data[m][n] = 1\n",
    "    data_list.append(img)\n",
    "    num_labels, labels, stats, centroids = cv2.connectedComponentsWithStats(img, connectivity=8, ltype=None)\n",
    "    \n",
    "    background = 100\n",
    "    ind = []\n",
    "    flag = 0\n",
    "    for stat in stats:\n",
    "        count = 1\n",
    "        allt = 1\n",
    "        if stat[4] == 13827:\n",
    "            flag +=1\n",
    "            pass\n",
    "#         if 1 != 2:\n",
    "#             pass\n",
    "        else:\n",
    "            for i in range(stat[0],stat[2]):\n",
    "                for j in range(stat[1],stat[3]):\n",
    "                    allt +=1 \n",
    "                    if data[i][j] == 0:\n",
    "                        count += 1\n",
    "#         print(count/allt)\n",
    "        if count/allt > 0.99:\n",
    "            ind.append(flag)\n",
    "            image_stat.append(stat)\n",
    "        flag +=1 \n",
    "#     print(file,ind)\n",
    "    image_stats.append(image_stat)\n",
    "#     算contain\n",
    "    length = len(image_stat)\n",
    "    count = 0\n",
    "    foo = image_stat\n",
    "#     bar = []\n",
    "    for i in range(len(image_stat)):\n",
    "        for j in range(i + 1, len(image_stat)):\n",
    "            \n",
    "            i_min1, j_min1 = image_stat[i][0], image_stat[i][1]\n",
    "            i_max1, j_max1 = image_stat[i][0]+image_stat[i][2], image_stat[i][1]+image_stat[i][3]\n",
    "            i_min2, j_min2 = image_stat[j][0], image_stat[j][1]\n",
    "            i_max2, j_max2 = image_stat[j][0]+image_stat[j][2], image_stat[j][1]+image_stat[j][3]\n",
    "            \n",
    "#             if contain(i_min1,i_max1,j_min1,j_max1,i_min2,i_max2,j_min2,j_max2):\n",
    "#                 count +=1 \n",
    "#                 if [i_min1,i_max1,j_min1,j_max1] not in foo:\n",
    "#                     foo.append([i_min1,i_max1,j_min1,j_max1])\n",
    "#             elif [i_min1,i_max1,j_min1,j_max1] not in foo and [i_min2,i_max2,j_min2,j_max2] not in foo:\n",
    "#                 foo.append([i_min1,i_max1,j_min1,j_max1])\n",
    "#                 foo.append([i_min2,i_max2,j_min2,j_max2])\n",
    "#             else:\n",
    "#                 pass\n",
    "    \n",
    "            if contain(i_min1,i_max1,j_min1,j_max1,i_min2,i_max2,j_min2,j_max2):\n",
    "                count +=1 \n",
    "                try:\n",
    "                    foo.remove(image_stat[j])\n",
    "                except:\n",
    "                    pass\n",
    "    \n",
    "    \n",
    "            \n",
    "#     print(file.split('/')[-1],'number of obj: ',length - count,'number of contain', count)\n",
    "    contain_obj[file] = ['number of obj: '+ str(length - count), 'number of contain: '+ str(count)]\n",
    "    \n",
    "    im = []\n",
    "#     print(len(foo))\n",
    "#     for fo in range(len(foo)):\n",
    "#         i_min1, j_min1 = foo[fo][0], foo[fo][1]\n",
    "#         i_max1, j_max1 = foo[fo][0]+foo[fo][2], foo[fo][1]+foo[fo][3]\n",
    "\n",
    "#         im1 = data[i_min1:i_max1,j_min1:j_max1]\n",
    "#         im.append(im1)\n",
    "        \n",
    "#         plt.imsave('7/'+file.split('/')[-1].split('.')[-2]+'_'+str(fo)+'.png', im1)\n",
    "   \n",
    "\n",
    "\n",
    "\n",
    "dic_pic_stroke = {}\n",
    "\n",
    "loc = 'Data/8_Maurer_inprep_repsup_crop'\n",
    "for i in range(1,61):\n",
    "    \n",
    "    c_loc_picH = loc + '/'+ 'CSH'+str(i)+'.png'\n",
    "    c_loc_picL = loc + '/'+ 'CSL'+str(i)+'.png'\n",
    "    k_loc_picH = loc + '/'+ 'KSH'+str(i)+'.png'\n",
    "    k_loc_picL = loc + '/'+ 'KSL'+str(i)+'.png'\n",
    "    dic_pic_stroke[c_loc_picH] = (a[i-1],total_strokes[a[i-1]])\n",
    "    dic_pic_stroke[c_loc_picL] = (a[59+i],total_strokes[a[59+i]])\n",
    "    dic_pic_stroke[k_loc_picH] = (a[119+i],'none')\n",
    "    dic_pic_stroke[k_loc_picL] = (a[179+i],'none')  \n",
    "        \n",
    "    \n",
    "for key in contain_obj.keys():\n",
    "    contain_obj[key].insert(0,dic_pic_stroke[key][1])\n",
    "    contain_obj[key].insert(0,dic_pic_stroke[key][0])  \n",
    "    \n",
    "contain_obj\n"
   ]
  },
  {
   "cell_type": "code",
   "execution_count": 210,
   "id": "78edeb7c",
   "metadata": {},
   "outputs": [
    {
     "data": {
      "text/plain": [
       "<matplotlib.image.AxesImage at 0x7feb594afa90>"
      ]
     },
     "execution_count": 210,
     "metadata": {},
     "output_type": "execute_result"
    },
    {
     "data": {
      "image/png": "[encoded data removed]",
      "text/plain": [
       "<Figure size 432x288 with 1 Axes>"
      ]
     },
     "metadata": {
      "needs_background": "light"
     },
     "output_type": "display_data"
    }
   ],
   "source": [
    "plt.imshow(labels)"
   ]
  },
  {
   "cell_type": "code",
   "execution_count": 37,
   "id": "c6508739",
   "metadata": {},
   "outputs": [],
   "source": [
    "file1 = 'Data/7_Maurer_inprep_followup/k24.png'\n",
    "file2 = '/Users/alex/Downloads/CSH1.png'\n"
   ]
  },
  {
   "cell_type": "code",
   "execution_count": 46,
   "id": "2cd567e3",
   "metadata": {},
   "outputs": [],
   "source": [
    "    # Getting the input image\n",
    "img = cv2.imread(file2, 0)\n",
    "    # Converting those pixels with values 1-127 to 0 and others to 1\n",
    "    # img = cv2.threshold(img, 127, 255, cv2.THRESH_BINARY)[1]\n",
    "    # # Applying cv2.connectedComponents() \n",
    "num_labels, labels, stats, centroids = cv2.connectedComponentsWithStats(data, connectivity=8, ltype=None)\n"
   ]
  },
  {
   "cell_type": "code",
   "execution_count": 47,
   "id": "78fa82ab",
   "metadata": {},
   "outputs": [
    {
     "data": {
      "text/plain": [
       "<matplotlib.image.AxesImage at 0x7f944a0b4460>"
      ]
     },
     "execution_count": 47,
     "metadata": {},
     "output_type": "execute_result"
    },
    {
     "data": {
      "image/png": "[encoded data removed]",
      "text/plain": [
       "<Figure size 432x288 with 1 Axes>"
      ]
     },
     "metadata": {
      "needs_background": "light"
     },
     "output_type": "display_data"
    }
   ],
   "source": [
    "plt.imshow(labels)"
   ]
  },
  {
   "cell_type": "code",
   "execution_count": 39,
   "id": "30c51624",
   "metadata": {},
   "outputs": [
    {
     "ename": "error",
     "evalue": "OpenCV(4.6.0) /Users/runner/work/opencv-python/opencv-python/opencv/modules/imgproc/src/color.simd_helpers.hpp:92: error: (-2:Unspecified error) in function 'cv::impl::(anonymous namespace)::CvtHelper<cv::impl::(anonymous namespace)::Set<3, 4, -1>, cv::impl::(anonymous namespace)::Set<1, -1, -1>, cv::impl::(anonymous namespace)::Set<0, 2, 5>, cv::impl::(anonymous namespace)::NONE>::CvtHelper(cv::InputArray, cv::OutputArray, int) [VScn = cv::impl::(anonymous namespace)::Set<3, 4, -1>, VDcn = cv::impl::(anonymous namespace)::Set<1, -1, -1>, VDepth = cv::impl::(anonymous namespace)::Set<0, 2, 5>, sizePolicy = cv::impl::(anonymous namespace)::NONE]'\n> Invalid number of channels in input image:\n>     'VScn::contains(scn)'\n> where\n>     'scn' is 1\n",
     "output_type": "error",
     "traceback": [
      "\u001b[0;31m---------------------------------------------------------------------------\u001b[0m",
      "\u001b[0;31merror\u001b[0m                                     Traceback (most recent call last)",
      "\u001b[1;32m/Users/alex/Documents/GitHub/Visual-Similarity/CountObject.ipynb Cell 23\u001b[0m in \u001b[0;36m<cell line: 7>\u001b[0;34m()\u001b[0m\n\u001b[1;32m      <a href='vscode-notebook-cell:/Users/alex/Documents/GitHub/Visual-Similarity/CountObject.ipynb#X32sZmlsZQ%3D%3D?line=3'>4</a>\u001b[0m data \u001b[39m=\u001b[39m asarray(image, dtype\u001b[39m=\u001b[39m\u001b[39m\"\u001b[39m\u001b[39muint8\u001b[39m\u001b[39m\"\u001b[39m)\n\u001b[1;32m      <a href='vscode-notebook-cell:/Users/alex/Documents/GitHub/Visual-Similarity/CountObject.ipynb#X32sZmlsZQ%3D%3D?line=4'>5</a>\u001b[0m \u001b[39m# plt.close()\u001b[39;00m\n\u001b[0;32m----> <a href='vscode-notebook-cell:/Users/alex/Documents/GitHub/Visual-Similarity/CountObject.ipynb#X32sZmlsZQ%3D%3D?line=6'>7</a>\u001b[0m data \u001b[39m=\u001b[39m cv2\u001b[39m.\u001b[39;49mcvtColor(data, cv2\u001b[39m.\u001b[39;49mCOLOR_BGR2GRAY)\n\u001b[1;32m      <a href='vscode-notebook-cell:/Users/alex/Documents/GitHub/Visual-Similarity/CountObject.ipynb#X32sZmlsZQ%3D%3D?line=7'>8</a>\u001b[0m \u001b[39m# set thresholds\u001b[39;00m\n\u001b[1;32m      <a href='vscode-notebook-cell:/Users/alex/Documents/GitHub/Visual-Similarity/CountObject.ipynb#X32sZmlsZQ%3D%3D?line=8'>9</a>\u001b[0m \u001b[39mfor\u001b[39;00m m \u001b[39min\u001b[39;00m \u001b[39mrange\u001b[39m(data\u001b[39m.\u001b[39mshape[\u001b[39m0\u001b[39m]):\n",
      "\u001b[0;31merror\u001b[0m: OpenCV(4.6.0) /Users/runner/work/opencv-python/opencv-python/opencv/modules/imgproc/src/color.simd_helpers.hpp:92: error: (-2:Unspecified error) in function 'cv::impl::(anonymous namespace)::CvtHelper<cv::impl::(anonymous namespace)::Set<3, 4, -1>, cv::impl::(anonymous namespace)::Set<1, -1, -1>, cv::impl::(anonymous namespace)::Set<0, 2, 5>, cv::impl::(anonymous namespace)::NONE>::CvtHelper(cv::InputArray, cv::OutputArray, int) [VScn = cv::impl::(anonymous namespace)::Set<3, 4, -1>, VDcn = cv::impl::(anonymous namespace)::Set<1, -1, -1>, VDepth = cv::impl::(anonymous namespace)::Set<0, 2, 5>, sizePolicy = cv::impl::(anonymous namespace)::NONE]'\n> Invalid number of channels in input image:\n>     'VScn::contains(scn)'\n> where\n>     'scn' is 1\n"
     ]
    }
   ],
   "source": [
    "image = Image.open(file2)\n",
    "\n",
    "# convert image to numpy array\n",
    "data = asarray(image, dtype=\"uint8\")\n",
    "# plt.close()\n",
    "\n",
    "data = cv2.cvtColor(data, cv2.COLOR_BGR2GRAY)\n",
    "# set thresholds\n",
    "for m in range(data.shape[0]):\n",
    "    for n in range(data.shape[1]):\n",
    "        if data[m][n] > 127.5:\n",
    "            data[m][n] = 0\n",
    "        else:\n",
    "            data[m][n] = 1\n",
    "num_labels, labels, stats, centroids = cv2.connectedComponentsWithStats(data, connectivity=8, ltype=None)\n",
    "       "
   ]
  },
  {
   "cell_type": "code",
   "execution_count": 34,
   "id": "b3d5430e",
   "metadata": {},
   "outputs": [
    {
     "data": {
      "text/plain": [
       "<matplotlib.image.AxesImage at 0x7f944ada7370>"
      ]
     },
     "execution_count": 34,
     "metadata": {},
     "output_type": "execute_result"
    },
    {
     "data": {
      "image/png": "[encoded data removed]",
      "text/plain": [
       "<Figure size 432x288 with 1 Axes>"
      ]
     },
     "metadata": {
      "needs_background": "light"
     },
     "output_type": "display_data"
    }
   ],
   "source": [
    "plt.imshow(data)"
   ]
  },
  {
   "cell_type": "code",
   "execution_count": 26,
   "id": "ea70bea1",
   "metadata": {},
   "outputs": [
    {
     "data": {
      "text/plain": [
       "{1}"
      ]
     },
     "execution_count": 26,
     "metadata": {},
     "output_type": "execute_result"
    }
   ],
   "source": [
    "set(flat_list(data))"
   ]
  },
  {
   "cell_type": "code",
   "execution_count": 175,
   "id": "b2ce3507",
   "metadata": {},
   "outputs": [],
   "source": [
    "import pandas as pd\n",
    "\n",
    "df=pd.DataFrame.from_dict(contain_obj,orient='index')\n",
    "df.to_excel(\"7_count_obj.xlsx\")"
   ]
  },
  {
   "cell_type": "code",
   "execution_count": 156,
   "id": "ff419f3a",
   "metadata": {},
   "outputs": [
    {
     "data": {
      "text/plain": [
       "'這'"
      ]
     },
     "execution_count": 156,
     "metadata": {},
     "output_type": "execute_result"
    }
   ],
   "source": []
  },
  {
   "cell_type": "code",
   "execution_count": 123,
   "id": "1c01eef6",
   "metadata": {},
   "outputs": [
    {
     "data": {
      "text/plain": [
       "4"
      ]
     },
     "execution_count": 123,
     "metadata": {},
     "output_type": "execute_result"
    }
   ],
   "source": [
    "import json\n",
    "f = open ('words_stroks7.json', \"r\")\n",
    "total_strokes = json.load(f)\n"
   ]
  },
  {
   "cell_type": "code",
   "execution_count": 140,
   "id": "ab7e6fb0",
   "metadata": {},
   "outputs": [],
   "source": [
    "for key in contain_obj.keys():\n",
    "    contain_obj[key].insert(0,dic[key][1])\n",
    "    contain_obj[key].insert(0,dic[key][0])"
   ]
  },
  {
   "cell_type": "code",
   "execution_count": 141,
   "id": "82f1bc8c",
   "metadata": {},
   "outputs": [
    {
     "data": {
      "text/plain": [
       "{'Data/7_Maurer_inprep_followup/c33.png': ['number of obj: 2',\n",
       "  10,\n",
       "  'number of contain: 0'],\n",
       " 'Data/7_Maurer_inprep_followup/c27.png': ['number of obj: 4',\n",
       "  9,\n",
       "  'number of contain: 0'],\n",
       " 'Data/7_Maurer_inprep_followup/c8.png': ['number of obj: 3',\n",
       "  6,\n",
       "  'number of contain: 0'],\n",
       " 'Data/7_Maurer_inprep_followup/k12.png': ['number of obj: 3',\n",
       "  'none',\n",
       "  'number of contain: 0'],\n",
       " 'Data/7_Maurer_inprep_followup/k13.png': ['number of obj: 4',\n",
       "  'none',\n",
       "  'number of contain: 0'],\n",
       " 'Data/7_Maurer_inprep_followup/c9.png': ['number of obj: 1',\n",
       "  6,\n",
       "  'number of contain: 1'],\n",
       " 'Data/7_Maurer_inprep_followup/c26.png': ['number of obj: 4',\n",
       "  10,\n",
       "  'number of contain: 0'],\n",
       " 'Data/7_Maurer_inprep_followup/c32.png': ['number of obj: 4',\n",
       "  10,\n",
       "  'number of contain: 0'],\n",
       " 'Data/7_Maurer_inprep_followup/c24.png': ['number of obj: 1',\n",
       "  8,\n",
       "  'number of contain: 0'],\n",
       " 'Data/7_Maurer_inprep_followup/c30.png': ['number of obj: 2',\n",
       "  9,\n",
       "  'number of contain: 0'],\n",
       " 'Data/7_Maurer_inprep_followup/c18.png': ['number of obj: 4',\n",
       "  7,\n",
       "  'number of contain: 0'],\n",
       " 'Data/7_Maurer_inprep_followup/k39.png': ['number of obj: 2',\n",
       "  'none',\n",
       "  'number of contain: 0'],\n",
       " 'Data/7_Maurer_inprep_followup/k11.png': ['number of obj: 3',\n",
       "  'none',\n",
       "  'number of contain: 0'],\n",
       " 'Data/7_Maurer_inprep_followup/k10.png': ['number of obj: 1',\n",
       "  'none',\n",
       "  'number of contain: 0'],\n",
       " 'Data/7_Maurer_inprep_followup/k38.png': ['number of obj: 4',\n",
       "  'none',\n",
       "  'number of contain: 0'],\n",
       " 'Data/7_Maurer_inprep_followup/c19.png': ['number of obj: 1',\n",
       "  8,\n",
       "  'number of contain: 0'],\n",
       " 'Data/7_Maurer_inprep_followup/c31.png': ['number of obj: 1',\n",
       "  9,\n",
       "  'number of contain: 1'],\n",
       " 'Data/7_Maurer_inprep_followup/c25.png': ['number of obj: 1',\n",
       "  8,\n",
       "  'number of contain: 4'],\n",
       " 'Data/7_Maurer_inprep_followup/c21.png': ['number of obj: 1',\n",
       "  8,\n",
       "  'number of contain: 0'],\n",
       " 'Data/7_Maurer_inprep_followup/c35.png': ['number of obj: 2',\n",
       "  10,\n",
       "  'number of contain: 2'],\n",
       " 'Data/7_Maurer_inprep_followup/k14.png': ['number of obj: 3',\n",
       "  'none',\n",
       "  'number of contain: 0'],\n",
       " 'Data/7_Maurer_inprep_followup/k28.png': ['number of obj: 4',\n",
       "  'none',\n",
       "  'number of contain: 0'],\n",
       " 'Data/7_Maurer_inprep_followup/k29.png': ['number of obj: 3',\n",
       "  'none',\n",
       "  'number of contain: 0'],\n",
       " 'Data/7_Maurer_inprep_followup/k15.png': ['number of obj: 3',\n",
       "  'none',\n",
       "  'number of contain: 0'],\n",
       " 'Data/7_Maurer_inprep_followup/c34.png': ['number of obj: 3',\n",
       "  10,\n",
       "  'number of contain: 0'],\n",
       " 'Data/7_Maurer_inprep_followup/c20.png': ['number of obj: 1',\n",
       "  8,\n",
       "  'number of contain: 0'],\n",
       " 'Data/7_Maurer_inprep_followup/c36.png': ['number of obj: 2',\n",
       "  10,\n",
       "  'number of contain: 1'],\n",
       " 'Data/7_Maurer_inprep_followup/c22.png': ['number of obj: 2',\n",
       "  8,\n",
       "  'number of contain: 0'],\n",
       " 'Data/7_Maurer_inprep_followup/k17.png': ['number of obj: 3',\n",
       "  'none',\n",
       "  'number of contain: 0'],\n",
       " 'Data/7_Maurer_inprep_followup/k16.png': ['number of obj: 3',\n",
       "  'none',\n",
       "  'number of contain: 0'],\n",
       " 'Data/7_Maurer_inprep_followup/c23.png': ['number of obj: 1',\n",
       "  8,\n",
       "  'number of contain: 0'],\n",
       " 'Data/7_Maurer_inprep_followup/c37.png': ['number of obj: 2',\n",
       "  10,\n",
       "  'number of contain: 1'],\n",
       " 'Data/7_Maurer_inprep_followup/k1.png': ['number of obj: 2',\n",
       "  'none',\n",
       "  'number of contain: 0'],\n",
       " 'Data/7_Maurer_inprep_followup/k3.png': ['number of obj: 2',\n",
       "  'none',\n",
       "  'number of contain: 0'],\n",
       " 'Data/7_Maurer_inprep_followup/k2.png': ['number of obj: 2',\n",
       "  'none',\n",
       "  'number of contain: 0'],\n",
       " 'Data/7_Maurer_inprep_followup/k6.png': ['number of obj: 1',\n",
       "  'none',\n",
       "  'number of contain: 0'],\n",
       " 'Data/7_Maurer_inprep_followup/k7.png': ['number of obj: 2',\n",
       "  'none',\n",
       "  'number of contain: 0'],\n",
       " 'Data/7_Maurer_inprep_followup/k5.png': ['number of obj: 3',\n",
       "  'none',\n",
       "  'number of contain: 0'],\n",
       " 'Data/7_Maurer_inprep_followup/k4.png': ['number of obj: 2',\n",
       "  'none',\n",
       "  'number of contain: 0'],\n",
       " 'Data/7_Maurer_inprep_followup/c40.png': ['number of obj: 4',\n",
       "  14,\n",
       "  'number of contain: 2'],\n",
       " 'Data/7_Maurer_inprep_followup/k9.png': ['number of obj: 3',\n",
       "  'none',\n",
       "  'number of contain: 0'],\n",
       " 'Data/7_Maurer_inprep_followup/k8.png': ['number of obj: 3',\n",
       "  'none',\n",
       "  'number of contain: 0'],\n",
       " 'Data/7_Maurer_inprep_followup/k40.png': ['number of obj: 2',\n",
       "  'none',\n",
       "  'number of contain: 0'],\n",
       " 'Data/7_Maurer_inprep_followup/c12.png': ['number of obj: 2',\n",
       "  6,\n",
       "  'number of contain: 0'],\n",
       " 'Data/7_Maurer_inprep_followup/c1.png': ['number of obj: 1',\n",
       "  4,\n",
       "  'number of contain: 0'],\n",
       " 'Data/7_Maurer_inprep_followup/k27.png': ['number of obj: 3',\n",
       "  'none',\n",
       "  'number of contain: 0'],\n",
       " 'Data/7_Maurer_inprep_followup/k33.png': ['number of obj: 4',\n",
       "  'none',\n",
       "  'number of contain: 0'],\n",
       " 'Data/7_Maurer_inprep_followup/k32.png': ['number of obj: 4',\n",
       "  'none',\n",
       "  'number of contain: 0'],\n",
       " 'Data/7_Maurer_inprep_followup/k26.png': ['number of obj: 5',\n",
       "  'none',\n",
       "  'number of contain: 0'],\n",
       " 'Data/7_Maurer_inprep_followup/c13.png': ['number of obj: 1',\n",
       "  6,\n",
       "  'number of contain: 0'],\n",
       " 'Data/7_Maurer_inprep_followup/c11.png': ['number of obj: 2',\n",
       "  6,\n",
       "  'number of contain: 0'],\n",
       " 'Data/7_Maurer_inprep_followup/c39.png': ['number of obj: 1',\n",
       "  11,\n",
       "  'number of contain: 0'],\n",
       " 'Data/7_Maurer_inprep_followup/c2.png': ['number of obj: 2',\n",
       "  4,\n",
       "  'number of contain: 0'],\n",
       " 'Data/7_Maurer_inprep_followup/k18.png': ['number of obj: 3',\n",
       "  'none',\n",
       "  'number of contain: 0'],\n",
       " 'Data/7_Maurer_inprep_followup/k30.png': ['number of obj: 2',\n",
       "  'none',\n",
       "  'number of contain: 0'],\n",
       " 'Data/7_Maurer_inprep_followup/k24.png': ['number of obj: 2',\n",
       "  'none',\n",
       "  'number of contain: 0'],\n",
       " 'Data/7_Maurer_inprep_followup/k25.png': ['number of obj: 3',\n",
       "  'none',\n",
       "  'number of contain: 0'],\n",
       " 'Data/7_Maurer_inprep_followup/k31.png': ['number of obj: 5',\n",
       "  'none',\n",
       "  'number of contain: 0'],\n",
       " 'Data/7_Maurer_inprep_followup/k19.png': ['number of obj: 3',\n",
       "  'none',\n",
       "  'number of contain: 0'],\n",
       " 'Data/7_Maurer_inprep_followup/c3.png': ['number of obj: 4',\n",
       "  4,\n",
       "  'number of contain: 0'],\n",
       " 'Data/7_Maurer_inprep_followup/c38.png': ['number of obj: 1',\n",
       "  11,\n",
       "  'number of contain: 0'],\n",
       " 'Data/7_Maurer_inprep_followup/c10.png': ['number of obj: 1',\n",
       "  6,\n",
       "  'number of contain: 0'],\n",
       " 'Data/7_Maurer_inprep_followup/c28.png': ['number of obj: 1',\n",
       "  9,\n",
       "  'number of contain: 0'],\n",
       " 'Data/7_Maurer_inprep_followup/c14.png': ['number of obj: 5',\n",
       "  8,\n",
       "  'number of contain: 0'],\n",
       " 'Data/7_Maurer_inprep_followup/c7.png': ['number of obj: 2',\n",
       "  5,\n",
       "  'number of contain: 0'],\n",
       " 'Data/7_Maurer_inprep_followup/k35.png': ['number of obj: 5',\n",
       "  'none',\n",
       "  'number of contain: 0'],\n",
       " 'Data/7_Maurer_inprep_followup/k21.png': ['number of obj: 4',\n",
       "  'none',\n",
       "  'number of contain: 0'],\n",
       " 'Data/7_Maurer_inprep_followup/k20.png': ['number of obj: 4',\n",
       "  'none',\n",
       "  'number of contain: 0'],\n",
       " 'Data/7_Maurer_inprep_followup/k34.png': ['number of obj: 4',\n",
       "  'none',\n",
       "  'number of contain: 0'],\n",
       " 'Data/7_Maurer_inprep_followup/c6.png': ['number of obj: 1',\n",
       "  5,\n",
       "  'number of contain: 0'],\n",
       " 'Data/7_Maurer_inprep_followup/c15.png': ['number of obj: 2',\n",
       "  8,\n",
       "  'number of contain: 0'],\n",
       " 'Data/7_Maurer_inprep_followup/c29.png': ['number of obj: 1',\n",
       "  9,\n",
       "  'number of contain: 0'],\n",
       " 'Data/7_Maurer_inprep_followup/c17.png': ['number of obj: 1',\n",
       "  7,\n",
       "  'number of contain: 0'],\n",
       " 'Data/7_Maurer_inprep_followup/c4.png': ['number of obj: 1',\n",
       "  4,\n",
       "  'number of contain: 0'],\n",
       " 'Data/7_Maurer_inprep_followup/k22.png': ['number of obj: 4',\n",
       "  'none',\n",
       "  'number of contain: 0'],\n",
       " 'Data/7_Maurer_inprep_followup/k36.png': ['number of obj: 3',\n",
       "  'none',\n",
       "  'number of contain: 0'],\n",
       " 'Data/7_Maurer_inprep_followup/k37.png': ['number of obj: 4',\n",
       "  'none',\n",
       "  'number of contain: 0'],\n",
       " 'Data/7_Maurer_inprep_followup/k23.png': ['number of obj: 2',\n",
       "  'none',\n",
       "  'number of contain: 0'],\n",
       " 'Data/7_Maurer_inprep_followup/c5.png': ['number of obj: 1',\n",
       "  5,\n",
       "  'number of contain: 0'],\n",
       " 'Data/7_Maurer_inprep_followup/c16.png': ['number of obj: 1',\n",
       "  7,\n",
       "  'number of contain: 0']}"
      ]
     },
     "execution_count": 141,
     "metadata": {},
     "output_type": "execute_result"
    }
   ],
   "source": [
    "contain_obj"
   ]
  },
  {
   "cell_type": "code",
   "execution_count": 192,
   "id": "970a29a7",
   "metadata": {},
   "outputs": [
    {
     "data": {
      "text/plain": [
       "{0, 1, 2}"
      ]
     },
     "execution_count": 192,
     "metadata": {},
     "output_type": "execute_result"
    }
   ],
   "source": [
    "loc = 'Data/8_Maurer_inprep_repsup_crop/CSL53.png'\n",
    "img = cv2.imread(loc, 0)\n",
    "img = cv2.threshold(img, 127, 255, cv2.THRESH_BINARY)[1]\n",
    "num_labels, labels = cv2.connectedComponents(img)\n"
   ]
  },
  {
   "cell_type": "code",
   "execution_count": 134,
   "id": "9cf4a294",
   "metadata": {},
   "outputs": [
    {
     "data": {
      "text/plain": [
       "{'Data/7_Maurer_inprep_followup/c1.png': ('日', 4),\n",
       " 'Data/7_Maurer_inprep_followup/k1.png': ('수', 'none'),\n",
       " 'Data/7_Maurer_inprep_followup/c2.png': ('不', 4),\n",
       " 'Data/7_Maurer_inprep_followup/k2.png': ('서', 'none'),\n",
       " 'Data/7_Maurer_inprep_followup/c3.png': ('心', 4),\n",
       " 'Data/7_Maurer_inprep_followup/k3.png': ('다', 'none'),\n",
       " 'Data/7_Maurer_inprep_followup/c4.png': ('天', 4),\n",
       " 'Data/7_Maurer_inprep_followup/k4.png': ('교', 'none'),\n",
       " 'Data/7_Maurer_inprep_followup/c5.png': ('四', 5),\n",
       " 'Data/7_Maurer_inprep_followup/k5.png': ('하', 'none'),\n",
       " 'Data/7_Maurer_inprep_followup/c6.png': ('去', 5),\n",
       " 'Data/7_Maurer_inprep_followup/k6.png': ('보', 'none'),\n",
       " 'Data/7_Maurer_inprep_followup/c7.png': ('外', 5),\n",
       " 'Data/7_Maurer_inprep_followup/k7.png': ('같', 'none'),\n",
       " 'Data/7_Maurer_inprep_followup/c8.png': ('回', 6),\n",
       " 'Data/7_Maurer_inprep_followup/k8.png': ('대', 'none'),\n",
       " 'Data/7_Maurer_inprep_followup/c9.png': ('吃', 6),\n",
       " 'Data/7_Maurer_inprep_followup/k9.png': ('회', 'none'),\n",
       " 'Data/7_Maurer_inprep_followup/c10.png': ('早', 6),\n",
       " 'Data/7_Maurer_inprep_followup/k10.png': ('포', 'none'),\n",
       " 'Data/7_Maurer_inprep_followup/c11.png': ('字', 6),\n",
       " 'Data/7_Maurer_inprep_followup/k11.png': ('들', 'none'),\n",
       " 'Data/7_Maurer_inprep_followup/c12.png': ('她', 6),\n",
       " 'Data/7_Maurer_inprep_followup/k12.png': ('센', 'none'),\n",
       " 'Data/7_Maurer_inprep_followup/c13.png': ('有', 6),\n",
       " 'Data/7_Maurer_inprep_followup/k13.png': ('받', 'none'),\n",
       " 'Data/7_Maurer_inprep_followup/c14.png': ('沒', 8),\n",
       " 'Data/7_Maurer_inprep_followup/k14.png': ('집', 'none'),\n",
       " 'Data/7_Maurer_inprep_followup/c15.png': ('把', 8),\n",
       " 'Data/7_Maurer_inprep_followup/k15.png': ('살', 'none'),\n",
       " 'Data/7_Maurer_inprep_followup/c16.png': ('身', 7),\n",
       " 'Data/7_Maurer_inprep_followup/k16.png': ('생', 'none'),\n",
       " 'Data/7_Maurer_inprep_followup/c17.png': ('弟', 7),\n",
       " 'Data/7_Maurer_inprep_followup/k17.png': ('앞', 'none'),\n",
       " 'Data/7_Maurer_inprep_followup/c18.png': ('些', 7),\n",
       " 'Data/7_Maurer_inprep_followup/k18.png': ('말', 'none'),\n",
       " 'Data/7_Maurer_inprep_followup/c19.png': ('兒', 8),\n",
       " 'Data/7_Maurer_inprep_followup/k19.png': ('화', 'none'),\n",
       " 'Data/7_Maurer_inprep_followup/c20.png': ('具', 8),\n",
       " 'Data/7_Maurer_inprep_followup/k20.png': ('좋', 'none'),\n",
       " 'Data/7_Maurer_inprep_followup/c21.png': ('放', 8),\n",
       " 'Data/7_Maurer_inprep_followup/k21.png': ('없', 'none'),\n",
       " 'Data/7_Maurer_inprep_followup/c22.png': ('明', 8),\n",
       " 'Data/7_Maurer_inprep_followup/k22.png': ('함', 'none'),\n",
       " 'Data/7_Maurer_inprep_followup/c23.png': ('果', 8),\n",
       " 'Data/7_Maurer_inprep_followup/k23.png': ('렇', 'none'),\n",
       " 'Data/7_Maurer_inprep_followup/c24.png': ('爸', 8),\n",
       " 'Data/7_Maurer_inprep_followup/k24.png': ('물', 'none'),\n",
       " 'Data/7_Maurer_inprep_followup/c25.png': ('雨', 8),\n",
       " 'Data/7_Maurer_inprep_followup/k25.png': ('떻', 'none'),\n",
       " 'Data/7_Maurer_inprep_followup/c26.png': ('洗', 10),\n",
       " 'Data/7_Maurer_inprep_followup/k26.png': ('空', 'none'),\n",
       " 'Data/7_Maurer_inprep_followup/c27.png': ('保', 9),\n",
       " 'Data/7_Maurer_inprep_followup/k27.png': ('空', 'none'),\n",
       " 'Data/7_Maurer_inprep_followup/c28.png': ('美', 9),\n",
       " 'Data/7_Maurer_inprep_followup/k28.png': ('空', 'none'),\n",
       " 'Data/7_Maurer_inprep_followup/c29.png': ('星', 9),\n",
       " 'Data/7_Maurer_inprep_followup/k29.png': ('空', 'none'),\n",
       " 'Data/7_Maurer_inprep_followup/c30.png': ('音', 9),\n",
       " 'Data/7_Maurer_inprep_followup/k30.png': ('空', 'none'),\n",
       " 'Data/7_Maurer_inprep_followup/c31.png': ('風', 9),\n",
       " 'Data/7_Maurer_inprep_followup/k31.png': ('空', 'none'),\n",
       " 'Data/7_Maurer_inprep_followup/c32.png': ('活', 10),\n",
       " 'Data/7_Maurer_inprep_followup/k32.png': ('空', 'none'),\n",
       " 'Data/7_Maurer_inprep_followup/c33.png': ('師', 10),\n",
       " 'Data/7_Maurer_inprep_followup/k33.png': ('空', 'none'),\n",
       " 'Data/7_Maurer_inprep_followup/c34.png': ('哪', 10),\n",
       " 'Data/7_Maurer_inprep_followup/k34.png': ('空', 'none'),\n",
       " 'Data/7_Maurer_inprep_followup/c35.png': ('氣', 10),\n",
       " 'Data/7_Maurer_inprep_followup/k35.png': ('空', 'none'),\n",
       " 'Data/7_Maurer_inprep_followup/c36.png': ('時', 10),\n",
       " 'Data/7_Maurer_inprep_followup/k36.png': ('空', 'none'),\n",
       " 'Data/7_Maurer_inprep_followup/c37.png': ('個', 10),\n",
       " 'Data/7_Maurer_inprep_followup/k37.png': ('空', 'none'),\n",
       " 'Data/7_Maurer_inprep_followup/c38.png': ('動', 11),\n",
       " 'Data/7_Maurer_inprep_followup/k38.png': ('空', 'none'),\n",
       " 'Data/7_Maurer_inprep_followup/c39.png': ('習', 11),\n",
       " 'Data/7_Maurer_inprep_followup/k39.png': ('空', 'none'),\n",
       " 'Data/7_Maurer_inprep_followup/c40.png': ('這', 14),\n",
       " 'Data/7_Maurer_inprep_followup/k40.png': ('空', 'none')}"
      ]
     },
     "execution_count": 134,
     "metadata": {},
     "output_type": "execute_result"
    }
   ],
   "source": [
    "dic = {}\n",
    "loc = 'Data/7_Maurer_inprep_followup'\n",
    "for i in range(1,41):\n",
    "    c_loc_pic = loc + '/'+ 'c'+str(i)+'.png'\n",
    "    k_loc_pic = loc + '/'+ 'k'+str(i)+'.png'\n",
    "    dic[c_loc_pic] = (a[i-1],total_strokes[a[i-1]])\n",
    "    dic[k_loc_pic] = (a[40+i-1],'none')\n",
    "dic"
   ]
  },
  {
   "cell_type": "code",
   "execution_count": 55,
   "id": "924ba326",
   "metadata": {},
   "outputs": [
    {
     "data": {
      "text/plain": [
       "True"
      ]
     },
     "execution_count": 55,
     "metadata": {},
     "output_type": "execute_result"
    }
   ],
   "source": [
    "[1,2,3] in [[1,2,3]]"
   ]
  },
  {
   "cell_type": "code",
   "execution_count": 45,
   "id": "c63c5b5c",
   "metadata": {},
   "outputs": [
    {
     "data": {
      "text/plain": [
       "<matplotlib.image.AxesImage at 0x7feb48569f40>"
      ]
     },
     "execution_count": 45,
     "metadata": {},
     "output_type": "execute_result"
    },
    {
     "data": {
      "image/png": "[encoded data removed]",
      "text/plain": [
       "<Figure size 432x288 with 1 Axes>"
      ]
     },
     "metadata": {
      "needs_background": "light"
     },
     "output_type": "display_data"
    }
   ],
   "source": [
    "plt.imshow(ims[20][1])"
   ]
  },
  {
   "cell_type": "code",
   "execution_count": 46,
   "id": "e4947a14",
   "metadata": {},
   "outputs": [
    {
     "data": {
      "text/plain": [
       "<matplotlib.image.AxesImage at 0x7feb200473a0>"
      ]
     },
     "execution_count": 46,
     "metadata": {},
     "output_type": "execute_result"
    },
    {
     "data": {
      "image/png": "[encoded data removed]",
      "text/plain": [
       "<Figure size 432x288 with 1 Axes>"
      ]
     },
     "metadata": {
      "needs_background": "light"
     },
     "output_type": "display_data"
    }
   ],
   "source": [
    "plt.imshow(ims[20][2])"
   ]
  }
 ],
 "metadata": {
  "kernelspec": {
   "display_name": "Python 3 (ipykernel)",
   "language": "python",
   "name": "python3"
  },
  "language_info": {
   "codemirror_mode": {
    "name": "ipython",
    "version": 3
   },
   "file_extension": ".py",
   "mimetype": "text/x-python",
   "name": "python",
   "nbconvert_exporter": "python",
   "pygments_lexer": "ipython3",
   "version": "3.9.12"
  },
  "vscode": {
   "interpreter": {
    "hash": "472f3460692ba2c0861145e5e150d03c8a5c0e40e057944a047c431b9050b93d"
   }
  }
 },
 "nbformat": 4,
 "nbformat_minor": 5
}
