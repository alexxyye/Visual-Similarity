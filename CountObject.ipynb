{
 "cells": [
  {
   "cell_type": "code",
   "execution_count": 1,
   "id": "1a7929ce",
   "metadata": {},
   "outputs": [],
   "source": [
    "from PIL import Image\n",
    "from numpy import asarray\n",
    "import matplotlib.pyplot as plt\n",
    "import numpy as np\n",
    "import cv2\n",
    "from os import listdir\n",
    "from os.path import isfile, join\n",
    "import random"
   ]
  },
  {
   "cell_type": "code",
   "execution_count": 2,
   "id": "ccfec567",
   "metadata": {},
   "outputs": [],
   "source": [
    "# read file function\n",
    "def read_dic(mypath:str)-> list:\n",
    "    onlyfiles = [mypath + '/'+f for f in listdir(mypath) if isfile(join(mypath, f)) and f != \".DS_Store\"]\n",
    "    return onlyfiles"
   ]
  },
  {
   "cell_type": "code",
   "execution_count": null,
   "id": "de45d337",
   "metadata": {},
   "outputs": [],
   "source": [
    "folder = read_dic('/Users/alex/Documents/GitHub/Visual-Similarity/Data/7_Maurer_inprep_followup')\n",
    "image_Labels = []\n",
    "for file in folder:\n",
    "    # load the image\n",
    "    image = Image.open(file)\n",
    "    # convert image to numpy array\n",
    "    data = asarray(image)\n",
    "    data = cv2.cvtColor(data, cv2.COLOR_BGR2GRAY)\n",
    "    # set thresholds to adjust ink\n",
    "    for m in range(data.shape[0]):\n",
    "        for n in range(data.shape[1]):\n",
    "            if data[m][n] > 127.5:\n",
    "                data[m][n] = 255\n",
    "            else:\n",
    "                data[m][n] = 0\n",
    "    num_labels, labels = cv2.connectedComponents(data)\n",
    "    image_Labels.append(labels)\n",
    "    "
   ]
  },
  {
   "cell_type": "code",
   "execution_count": null,
   "id": "5bbfdd01",
   "metadata": {},
   "outputs": [],
   "source": [
    "flat_list = [item for sublist in labels for item in sublist]\n",
    "set(flat_list)\n",
    "flat_list = [item for sublist in data for item in sublist]\n",
    "set(flat_list)"
   ]
  },
  {
   "cell_type": "code",
   "execution_count": null,
   "id": "4a68d2e2",
   "metadata": {},
   "outputs": [],
   "source": [
    "# np.savetxt(\"/Users/alex/Desktop/data.csv\", data, delimiter=\",\")"
   ]
  },
  {
   "cell_type": "code",
   "execution_count": null,
   "id": "356a6573",
   "metadata": {},
   "outputs": [],
   "source": [
    "# list all i and j in dictionary according to labels\n",
    "dic = {}\n",
    "for i in range(labels.shape[0]):\n",
    "    for j in range(labels.shape[1]):\n",
    "        if labels[i][j] in dic.keys():\n",
    "            dic[labels[i][j]].append((i,j))\n",
    "        else:\n",
    "            dic[labels[i][j]] = []\n",
    "            dic[labels[i][j]].append((i,j))"
   ]
  },
  {
   "cell_type": "code",
   "execution_count": null,
   "id": "8c80f4d5",
   "metadata": {},
   "outputs": [],
   "source": [
    "# define function find min&max i&j in dictionary for each key\n",
    "def find_min_max_ij(dic):   \n",
    "    i_s =[]\n",
    "    j_s =[]\n",
    "    for tup in dic:\n",
    "        i_s.append(tup[0])\n",
    "        j_s.append(tup[1])\n",
    "    i_min,i_max = min(i_s),max(i_s)\n",
    "    j_min,j_max = min(j_s),max(j_s)\n",
    "    return i_min,i_max,j_min,j_max"
   ]
  },
  {
   "cell_type": "code",
   "execution_count": null,
   "id": "058601a6",
   "metadata": {},
   "outputs": [],
   "source": [
    "# make a dic for i&j min&max\n",
    "dic_min_max= {}\n",
    "for obj in dic.keys():\n",
    "    i_min,i_max,j_min,j_max = find_min_max_ij(dic[obj])\n",
    "    dic_min_max[obj] = [i_min,i_max,j_min,j_max]"
   ]
  },
  {
   "cell_type": "code",
   "execution_count": null,
   "id": "12f32707",
   "metadata": {},
   "outputs": [],
   "source": [
    "dic_min_max\n"
   ]
  },
  {
   "cell_type": "code",
   "execution_count": null,
   "id": "828e3a79",
   "metadata": {},
   "outputs": [],
   "source": [
    "print(i_min)"
   ]
  },
  {
   "cell_type": "code",
   "execution_count": null,
   "id": "8cab2b13",
   "metadata": {},
   "outputs": [],
   "source": [
    "# define contain function\n",
    "def contain(i_min1,i_max1,j_min1,j_max1,i_min2,i_max2,j_min2,j_max2):\n",
    "    if i_min1<i_min2 and j_min1<j_min2 and i_max1>i_max2 and j_max1>j_max2:\n",
    "        return True # label 1 contains label 2\n",
    "    else:\n",
    "        return False"
   ]
  },
  {
   "cell_type": "code",
   "execution_count": null,
   "id": "2c9972f2",
   "metadata": {},
   "outputs": [],
   "source": [
    "# find where the 0s are in original data -> 8 in 'labels'\n",
    "for key in dic.keys():\n",
    "    for k in range(len(dic[key])):\n",
    "        if data[dic[key][k]] == 255:\n",
    "            labels[dic[key][k]] = 8"
   ]
  },
  {
   "cell_type": "code",
   "execution_count": null,
   "id": "e63eb3ea",
   "metadata": {},
   "outputs": [],
   "source": [
    "# generate pairwise list of labels\n",
    "pair_list = []\n",
    "for t in range(0,len([*dic])):\n",
    "\tfor p in range(0,len([*dic])):\n",
    "\t\tif (t!=p):\n",
    "\t\t\tpair_list.append(([*dic][t],[*dic][p]))\n"
   ]
  },
  {
   "cell_type": "code",
   "execution_count": null,
   "id": "ff729023",
   "metadata": {},
   "outputs": [],
   "source": [
    "# contain function -> if some components are contained by the other, change them to the same\n",
    "for pair in pair_list:\n",
    "    key1 = pair[0]\n",
    "    key2 = pair[1]\n",
    "    if contain(dic_min_max[key1][0], dic_min_max[key1][1], dic_min_max[key1][2], dic_min_max[key1][3],\n",
    "    dic_min_max[key2][0], dic_min_max[key2][1], dic_min_max[key2][2], dic_min_max[key2][3]) == True:\n",
    "        for kk in range(len(dic[key1])):\n",
    "            labels[dic[key1][kk]] = labels[dic[key1][kk]]"
   ]
  },
  {
   "cell_type": "code",
   "execution_count": null,
   "id": "2b6870c4",
   "metadata": {},
   "outputs": [],
   "source": [
    "plt.imshow(labels)\n",
    "print(labels[52])"
   ]
  },
  {
   "cell_type": "code",
   "execution_count": null,
   "id": "7d9fc26c",
   "metadata": {},
   "outputs": [],
   "source": [
    "from PIL import Image\n",
    "from numpy import asarray\n",
    "import matplotlib.pyplot as plt\n",
    "import numpy as np\n",
    "import cv2\n",
    "from os import listdir\n",
    "from os.path import isfile, join\n",
    "import random\n",
    "\n",
    "# read file function\n",
    "def read_dic(mypath:str)-> list:\n",
    "    onlyfiles = [mypath + '/'+f for f in listdir(mypath) if isfile(join(mypath, f)) and f != \".DS_Store\"]\n",
    "    return onlyfiles\n",
    "\n",
    "folder = read_dic('/Users/alex/Documents/GitHub/Visual-Similarity/Data/7_Maurer_inprep_followup')\n",
    "image_Labels = []\n",
    "for file in folder:\n",
    "    # load the image\n",
    "    image = Image.open(file)\n",
    "    # convert image to numpy array\n",
    "    data = asarray(image)\n",
    "    data = cv2.cvtColor(data, cv2.COLOR_BGR2GRAY)\n",
    "    # set thresholds to adjust ink\n",
    "    for m in range(data.shape[0]):\n",
    "        for n in range(data.shape[1]):\n",
    "            if data[m][n] > 127.5:\n",
    "                data[m][n] = 255\n",
    "            else:\n",
    "                data[m][n] = 0\n",
    "    num_labels, labels = cv2.connectedComponents(data)\n",
    "    image_Labels.append(labels)\n",
    "\n",
    "for labels in image_Labels:\n",
    "    # list all i and j in dictionary according to labels\n",
    "    dic = {}\n",
    "    for i in range(labels.shape[0]):\n",
    "        for j in range(labels.shape[1]):\n",
    "            if labels[i][j] in dic.keys():\n",
    "                dic[labels[i][j]].append((i,j))\n",
    "            else:\n",
    "                dic[labels[i][j]] = []\n",
    "                dic[labels[i][j]].append((i,j))\n",
    "\n",
    "    # define function find min&max i&j in dictionary for each key\n",
    "    def find_min_max_ij(dic):   \n",
    "        i_s =[]\n",
    "        j_s =[]\n",
    "        for tup in dic:\n",
    "            i_s.append(tup[0])\n",
    "            j_s.append(tup[1])\n",
    "        i_min,i_max = min(i_s),max(i_s)\n",
    "        j_min,j_max = min(j_s),max(j_s)\n",
    "        return i_min,i_max,j_min,j_max\n",
    "\n",
    "    # make a dic for i&j min&max\n",
    "    dic_min_max= {}\n",
    "    for obj in dic.keys():\n",
    "        i_min,i_max,j_min,j_max = find_min_max_ij(dic[obj])\n",
    "        dic_min_max[obj] = [i_min,i_max,j_min,j_max]\n",
    "\n",
    "    # define contain function\n",
    "    def contain(i_min1,i_max1,j_min1,j_max1,i_min2,i_max2,j_min2,j_max2):\n",
    "        if i_min1<i_min2 and j_min1<j_min2 and i_max1>i_max2 and j_max1>j_max2:\n",
    "            return True # label 1 contains label 2\n",
    "        else:\n",
    "            return False\n",
    "\n",
    "    # find where the 0s are in original data -> 8 in 'labels'\n",
    "    for key in dic.keys():\n",
    "        for k in range(len(dic[key])):\n",
    "            if data[dic[key][k]] == 255:\n",
    "                labels[dic[key][k]] = 8\n",
    "\n",
    "    # generate pairwise list of labels\n",
    "    pair_list = []\n",
    "    for t in range(0,len([*dic])):\n",
    "        for p in range(0,len([*dic])):\n",
    "            if (t!=p):\n",
    "                pair_list.append(([*dic][t],[*dic][p]))\n",
    "\n",
    "    # contain function -> if some components are contained by the other, change them to the same\n",
    "    for pair in pair_list:\n",
    "        key1 = pair[0]\n",
    "        key2 = pair[1]\n",
    "        if contain(dic_min_max[key1][0], dic_min_max[key1][1], dic_min_max[key1][2], dic_min_max[key1][3],\n",
    "        dic_min_max[key2][0], dic_min_max[key2][1], dic_min_max[key2][2], dic_min_max[key2][3]) == True:\n",
    "            for kk in range(len(dic[key1])):\n",
    "                labels[dic[key1][kk]] = labels[dic[key1][kk]]\n"
   ]
  },
  {
   "cell_type": "code",
   "execution_count": null,
   "id": "ce126369",
   "metadata": {},
   "outputs": [],
   "source": [
    "\n"
   ]
  },
  {
   "cell_type": "code",
   "execution_count": null,
   "id": "45c84c31",
   "metadata": {},
   "outputs": [],
   "source": [
    "set(flat_list)"
   ]
  },
  {
   "cell_type": "code",
   "execution_count": null,
   "id": "d5a7b5e1",
   "metadata": {},
   "outputs": [],
   "source": [
    "dic"
   ]
  },
  {
   "cell_type": "code",
   "execution_count": 22,
   "id": "91894c0b",
   "metadata": {},
   "outputs": [
    {
     "ename": "IndexError",
     "evalue": "list index out of range",
     "output_type": "error",
     "traceback": [
      "\u001b[0;31m---------------------------------------------------------------------------\u001b[0m",
      "\u001b[0;31mIndexError\u001b[0m                                Traceback (most recent call last)",
      "\u001b[1;32m/Users/alex/Documents/GitHub/Visual-Similarity/CountObject.ipynb Cell 20\u001b[0m in \u001b[0;36m<cell line: 1>\u001b[0;34m()\u001b[0m\n\u001b[0;32m----> <a href='vscode-notebook-cell:/Users/alex/Documents/GitHub/Visual-Similarity/CountObject.ipynb#X21sZmlsZQ%3D%3D?line=0'>1</a>\u001b[0m plt\u001b[39m.\u001b[39mimshow(image_Labels[\u001b[39m10\u001b[39;49m])\n",
      "\u001b[0;31mIndexError\u001b[0m: list index out of range"
     ]
    }
   ],
   "source": [
    "plt.imshow(image_Labels[10])\n"
   ]
  },
  {
   "cell_type": "code",
   "execution_count": 45,
   "id": "4d294554",
   "metadata": {},
   "outputs": [
    {
     "name": "stdout",
     "output_type": "stream",
     "text": [
      "Data/7_Maurer_inprep_followup/c33.png 2\n",
      "Data/7_Maurer_inprep_followup/c27.png 4\n",
      "Data/7_Maurer_inprep_followup/c8.png 3\n",
      "Data/7_Maurer_inprep_followup/k12.png 3\n",
      "Data/7_Maurer_inprep_followup/k13.png 4\n",
      "Data/7_Maurer_inprep_followup/c9.png 1\n",
      "Data/7_Maurer_inprep_followup/c26.png 4\n",
      "Data/7_Maurer_inprep_followup/c32.png 4\n",
      "Data/7_Maurer_inprep_followup/c24.png 1\n",
      "Data/7_Maurer_inprep_followup/c30.png 2\n",
      "Data/7_Maurer_inprep_followup/c18.png 4\n",
      "Data/7_Maurer_inprep_followup/k39.png 2\n",
      "Data/7_Maurer_inprep_followup/k11.png 3\n",
      "Data/7_Maurer_inprep_followup/k10.png 1\n",
      "Data/7_Maurer_inprep_followup/k38.png 4\n",
      "Data/7_Maurer_inprep_followup/c19.png 1\n",
      "Data/7_Maurer_inprep_followup/c31.png 1\n",
      "Data/7_Maurer_inprep_followup/c25.png 1\n",
      "Data/7_Maurer_inprep_followup/c21.png 1\n",
      "Data/7_Maurer_inprep_followup/c35.png 2\n",
      "Data/7_Maurer_inprep_followup/k14.png 3\n",
      "Data/7_Maurer_inprep_followup/k28.png 4\n",
      "Data/7_Maurer_inprep_followup/k29.png 3\n",
      "Data/7_Maurer_inprep_followup/k15.png 3\n",
      "Data/7_Maurer_inprep_followup/c34.png 3\n",
      "Data/7_Maurer_inprep_followup/c20.png 1\n",
      "Data/7_Maurer_inprep_followup/c36.png 2\n",
      "Data/7_Maurer_inprep_followup/c22.png 2\n",
      "Data/7_Maurer_inprep_followup/k17.png 3\n",
      "Data/7_Maurer_inprep_followup/k16.png 3\n",
      "Data/7_Maurer_inprep_followup/c23.png 1\n",
      "Data/7_Maurer_inprep_followup/c37.png 2\n",
      "Data/7_Maurer_inprep_followup/k1.png 2\n",
      "Data/7_Maurer_inprep_followup/k3.png 2\n",
      "Data/7_Maurer_inprep_followup/k2.png 2\n",
      "Data/7_Maurer_inprep_followup/k6.png 1\n",
      "Data/7_Maurer_inprep_followup/k7.png 2\n",
      "Data/7_Maurer_inprep_followup/k5.png 3\n",
      "Data/7_Maurer_inprep_followup/k4.png 2\n",
      "Data/7_Maurer_inprep_followup/c40.png 4\n",
      "Data/7_Maurer_inprep_followup/k9.png 3\n",
      "Data/7_Maurer_inprep_followup/k8.png 3\n",
      "Data/7_Maurer_inprep_followup/k40.png 2\n",
      "Data/7_Maurer_inprep_followup/c12.png 2\n",
      "Data/7_Maurer_inprep_followup/c1.png 1\n",
      "Data/7_Maurer_inprep_followup/k27.png 3\n",
      "Data/7_Maurer_inprep_followup/k33.png 4\n",
      "Data/7_Maurer_inprep_followup/k32.png 4\n",
      "Data/7_Maurer_inprep_followup/k26.png 5\n",
      "Data/7_Maurer_inprep_followup/c13.png 1\n",
      "Data/7_Maurer_inprep_followup/c11.png 2\n",
      "Data/7_Maurer_inprep_followup/c39.png 1\n",
      "Data/7_Maurer_inprep_followup/c2.png 2\n",
      "Data/7_Maurer_inprep_followup/k18.png 3\n",
      "Data/7_Maurer_inprep_followup/k30.png 2\n",
      "Data/7_Maurer_inprep_followup/k24.png 2\n",
      "Data/7_Maurer_inprep_followup/k25.png 3\n",
      "Data/7_Maurer_inprep_followup/k31.png 5\n",
      "Data/7_Maurer_inprep_followup/k19.png 3\n",
      "Data/7_Maurer_inprep_followup/c3.png 4\n",
      "Data/7_Maurer_inprep_followup/c38.png 1\n",
      "Data/7_Maurer_inprep_followup/c10.png 1\n",
      "Data/7_Maurer_inprep_followup/c28.png 1\n",
      "Data/7_Maurer_inprep_followup/c14.png 5\n",
      "Data/7_Maurer_inprep_followup/c7.png 2\n",
      "Data/7_Maurer_inprep_followup/k35.png 5\n",
      "Data/7_Maurer_inprep_followup/k21.png 4\n",
      "Data/7_Maurer_inprep_followup/k20.png 4\n",
      "Data/7_Maurer_inprep_followup/k34.png 4\n",
      "Data/7_Maurer_inprep_followup/c6.png 1\n",
      "Data/7_Maurer_inprep_followup/c15.png 2\n",
      "Data/7_Maurer_inprep_followup/c29.png 1\n",
      "Data/7_Maurer_inprep_followup/c17.png 1\n",
      "Data/7_Maurer_inprep_followup/c4.png 1\n",
      "Data/7_Maurer_inprep_followup/k22.png 4\n",
      "Data/7_Maurer_inprep_followup/k36.png 3\n",
      "Data/7_Maurer_inprep_followup/k37.png 4\n",
      "Data/7_Maurer_inprep_followup/k23.png 2\n",
      "Data/7_Maurer_inprep_followup/c5.png 1\n",
      "Data/7_Maurer_inprep_followup/c16.png 1\n"
     ]
    }
   ],
   "source": [
    "from PIL import Image\n",
    "from numpy import asarray\n",
    "import matplotlib.pyplot as plt\n",
    "import numpy as np\n",
    "import cv2\n",
    "from os import listdir\n",
    "from os.path import isfile, join\n",
    "import random\n",
    "\n",
    "# read file function\n",
    "def read_dic(mypath:str)-> list:\n",
    "    onlyfiles = [mypath + '/'+f for f in listdir(mypath) if isfile(join(mypath, f)) and f != \".DS_Store\"]\n",
    "    return onlyfiles\n",
    "def find_min_max_ij(dic):   \n",
    "    i_s =[]\n",
    "    j_s =[]\n",
    "    for tup in dic:\n",
    "        i_s.append(tup[0])\n",
    "        j_s.append(tup[1])\n",
    "    i_min,i_max = min(i_s),max(i_s)\n",
    "    j_min,j_max = min(j_s),max(j_s)\n",
    "    return i_min,i_max,j_min,j_max\n",
    "# define contain function\n",
    "def contain(i_min1,i_max1,j_min1,j_max1,i_min2,i_max2,j_min2,j_max2):\n",
    "    if i_min1<i_min2 and j_min1<j_min2 and i_max1>i_max2 and j_max1>j_max2:\n",
    "        return True # label 1 contains label 2\n",
    "    else:\n",
    "        return False\n",
    "\n",
    "def flat_list(listt):\n",
    "    flat_list = [item for sublist in listt for item in sublist]\n",
    "    return set(flat_list)\n",
    "\n",
    "\n",
    "folder = read_dic('Data/7_Maurer_inprep_followup')\n",
    "image_Labels = []\n",
    "data_list = []\n",
    "image_stats = []\n",
    "for file in folder:\n",
    "    image_stat = []\n",
    "    # load the image\n",
    "    image = Image.open(file)\n",
    "    # convert image to numpy array\n",
    "    data = asarray(image)\n",
    "    data = cv2.cvtColor(data, cv2.COLOR_BGR2GRAY)\n",
    "    # set thresholds\n",
    "    for m in range(data.shape[0]):\n",
    "        for n in range(data.shape[1]):\n",
    "            if data[m][n] > 127.5:\n",
    "                data[m][n] = 0\n",
    "            else:\n",
    "                data[m][n] = 1\n",
    "    num_labels, labels, stats, centroids = cv2.connectedComponentsWithStats(data, connectivity=8, ltype=None)\n",
    "    \n",
    "    background = 100\n",
    "    ind = []\n",
    "    flag = 0\n",
    "    for stat in stats:\n",
    "        count = 1\n",
    "        allt = 1\n",
    "        if stat[4] == 13827:\n",
    "            flag +=1\n",
    "            pass\n",
    "#         if 1 != 2:\n",
    "#             pass\n",
    "        else:\n",
    "            for i in range(stat[0],stat[2]):\n",
    "                for j in range(stat[1],stat[3]):\n",
    "                    allt +=1 \n",
    "                    if data[i][j] == 0:\n",
    "                        count += 1\n",
    "#         print(count/allt)\n",
    "        if count/allt > 0.99:\n",
    "            ind.append(flag)\n",
    "            image_stat.append(stat)\n",
    "        flag +=1 \n",
    "#     print(file,ind)\n",
    "    image_stats.append(image_stat)\n",
    "#     算contain\n",
    "    length = len(image_stat)\n",
    "    count = 0\n",
    "    for i in range(len(image_stat)):\n",
    "        for j in range(i + 1, len(image_stat)):\n",
    "            \n",
    "            i_min1, j_min1 = image_stat[i][0], image_stat[i][1]\n",
    "            i_max1, j_max1 = image_stat[i][0]+image_stat[i][2], image_stat[i][1]+image_stat[i][3]\n",
    "            i_min2, j_min2 = image_stat[j][0], image_stat[j][1]\n",
    "            i_max2, j_max2 = image_stat[j][0]+image_stat[j][2], image_stat[j][1]+image_stat[j][3]\n",
    "    \n",
    "            if contain(i_min1,i_max1,j_min1,j_max1,i_min2,i_max2,j_min2,j_max2):\n",
    "                count +=1 \n",
    "    print(file,length - count)\n",
    "        \n",
    "        \n",
    "    \n",
    "    \n"
   ]
  },
  {
   "cell_type": "code",
   "execution_count": 43,
   "id": "337a133e",
   "metadata": {},
   "outputs": [
    {
     "data": {
      "text/plain": [
       "[[array([ 39,  39,  15,  42, 327], dtype=int32),\n",
       "  array([ 56,  42,  25,  41, 348], dtype=int32)],\n",
       " [array([ 39,  39,  15,  43, 177], dtype=int32),\n",
       "  array([ 52,  41,  31,  41, 383], dtype=int32),\n",
       "  array([52, 67, 11, 13, 48], dtype=int32),\n",
       "  array([73, 68, 10, 12, 46], dtype=int32)],\n",
       " [array([ 53,  39,  28,  18, 129], dtype=int32),\n",
       "  array([ 39,  43,  13,  32, 232], dtype=int32),\n",
       "  array([ 55,  56,  27,  26, 258], dtype=int32)],\n",
       " [array([ 46,  40,  29,  13, 202], dtype=int32),\n",
       "  array([41, 57, 39,  2, 78], dtype=int32),\n",
       "  array([ 46,  64,  30,  17, 245], dtype=int32)],\n",
       " [array([ 59,  41,  10,  30, 106], dtype=int32),\n",
       "  array([ 74,  40,   4,  32, 128], dtype=int32),\n",
       "  array([ 42,  43,  21,  23, 139], dtype=int32),\n",
       "  array([ 50,  68,  29,  13, 103], dtype=int32)],\n",
       " [array([ 41,  40,  39,  41, 447], dtype=int32),\n",
       "  array([ 51,  51,  18,  17, 175], dtype=int32)],\n",
       " [array([ 49,  39,  34,  44, 499], dtype=int32),\n",
       "  array([41, 40, 10,  8, 37], dtype=int32),\n",
       "  array([39, 52, 10,  8, 35], dtype=int32),\n",
       "  array([40, 65, 10, 17, 61], dtype=int32)],\n",
       " [array([41, 39, 11,  8, 37], dtype=int32),\n",
       "  array([ 52,  39,  30,  43, 445], dtype=int32),\n",
       "  array([39, 53, 10,  7, 36], dtype=int32),\n",
       "  array([40, 65, 11, 17, 65], dtype=int32)],\n",
       " [array([ 39,  39,  44,  43, 742], dtype=int32)],\n",
       " [array([ 39,  39,  42,  18, 316], dtype=int32),\n",
       "  array([ 46,  62,  29,  21, 291], dtype=int32)],\n",
       " [array([ 39,  39,  22,  25, 226], dtype=int32),\n",
       "  array([ 63,  39,  19,  24, 174], dtype=int32),\n",
       "  array([45, 68, 32,  3, 96], dtype=int32),\n",
       "  array([ 39,  78,  42,   3, 126], dtype=int32)],\n",
       " [array([ 46,  40,  29,  13, 230], dtype=int32),\n",
       "  array([ 41,  57,  39,  24, 402], dtype=int32)],\n",
       " [array([ 66,  40,  13,  26, 215], dtype=int32),\n",
       "  array([ 43,  42,  21,  22, 139], dtype=int32),\n",
       "  array([ 51,  67,  28,  15, 205], dtype=int32)],\n",
       " [array([ 41,  44,  39,  33, 446], dtype=int32)],\n",
       " [array([72, 40,  9, 22, 84], dtype=int32),\n",
       "  array([ 42,  42,  11,  18, 135], dtype=int32),\n",
       "  array([ 56,  42,  11,  18, 136], dtype=int32),\n",
       "  array([ 47,  64,  30,  18, 291], dtype=int32)],\n",
       " [array([ 39,  39,  43,  44, 587], dtype=int32)],\n",
       " [array([ 38,  40,  45,  41, 380], dtype=int32),\n",
       "  array([ 47,  46,  26,  33, 349], dtype=int32)],\n",
       " [array([ 39,  40,  43,  40, 585], dtype=int32),\n",
       "  array([47, 56, 10,  8, 35], dtype=int32),\n",
       "  array([64, 56, 11,  8, 37], dtype=int32),\n",
       "  array([46, 67, 11,  9, 40], dtype=int32),\n",
       "  array([64, 67, 11,  8, 36], dtype=int32)],\n",
       " [array([ 38,  39,  45,  44, 698], dtype=int32)],\n",
       " [array([ 39,  39,  43,  44, 451], dtype=int32),\n",
       "  array([ 40,  59,  29,  24, 196], dtype=int32),\n",
       "  array([40, 72, 11, 10, 42], dtype=int32),\n",
       "  array([59, 72, 11, 10, 40], dtype=int32)],\n",
       " [array([ 69,  40,  11,  25, 121], dtype=int32),\n",
       "  array([ 42,  42,  19,  20, 190], dtype=int32),\n",
       "  array([ 46,  67,  28,  15, 204], dtype=int32)],\n",
       " [array([ 61,  40,  16,  22, 124], dtype=int32),\n",
       "  array([ 44,  42,  23,  18, 132], dtype=int32),\n",
       "  array([ 47,  65,  15,  17, 142], dtype=int32),\n",
       "  array([ 64,  64,  13,  18, 152], dtype=int32)],\n",
       " [array([ 41,  39,  39,  21, 309], dtype=int32),\n",
       "  array([ 45,  64,  15,  17, 148], dtype=int32),\n",
       "  array([ 62,  64,  13,  17, 144], dtype=int32)],\n",
       " [array([74, 40,  4, 23, 92], dtype=int32),\n",
       "  array([ 44,  43,  25,  20, 189], dtype=int32),\n",
       "  array([ 50,  65,  28,  17, 256], dtype=int32)],\n",
       " [array([ 48,  40,  17,  42, 333], dtype=int32),\n",
       "  array([ 68,  40,  13,  42, 265], dtype=int32),\n",
       "  array([ 39,  43,  10,  31, 191], dtype=int32)],\n",
       " [array([ 40,  40,  43,  42, 721], dtype=int32)],\n",
       " [array([ 54,  38,  27,  44, 337], dtype=int32),\n",
       "  array([ 39,  41,  14,  35, 296], dtype=int32),\n",
       "  array([57, 66,  9, 10, 39], dtype=int32)],\n",
       " [array([ 52,  39,  28,  42, 414], dtype=int32),\n",
       "  array([ 40,  40,  15,  33, 271], dtype=int32)],\n",
       " [array([ 70,  40,  11,  24, 117], dtype=int32),\n",
       "  array([ 42,  42,  22,  20, 201], dtype=int32),\n",
       "  array([ 47,  66,  29,  16, 245], dtype=int32)],\n",
       " [array([ 41,  41,  25,  20, 147], dtype=int32),\n",
       "  array([ 70,  40,  11,  22, 109], dtype=int32),\n",
       "  array([ 47,  64,  29,  18, 285], dtype=int32)],\n",
       " [array([ 38,  40,  44,  42, 759], dtype=int32)],\n",
       " [array([ 40,  38,  13,  44, 177], dtype=int32),\n",
       "  array([ 55,  41,  27,  40, 366], dtype=int32),\n",
       "  array([ 60,  45,  17,  27, 179], dtype=int32)],\n",
       " [array([ 43,  40,  35,  18, 169], dtype=int32),\n",
       "  array([ 41,  63,  39,  18, 177], dtype=int32)],\n",
       " [array([ 69,  39,  11,  42, 184], dtype=int32),\n",
       "  array([ 42,  43,  23,  28, 201], dtype=int32)],\n",
       " [array([ 63,  39,  13,  42, 195], dtype=int32),\n",
       "  array([ 41,  42,  26,  30, 202], dtype=int32)],\n",
       " [array([ 41,  44,  39,  34, 437], dtype=int32)],\n",
       " [array([ 65,  39,  13,  42, 268], dtype=int32),\n",
       "  array([ 43,  44,  19,  27, 188], dtype=int32)],\n",
       " [array([40, 40, 25,  9, 80], dtype=int32),\n",
       "  array([ 70,  40,  11,  42, 189], dtype=int32),\n",
       "  array([ 43,  53,  20,  20, 180], dtype=int32)],\n",
       " [array([ 45,  45,  30,  24, 173], dtype=int32),\n",
       "  array([ 41,  60,  39,  17, 201], dtype=int32)],\n",
       " [array([41, 39,  7,  8, 31], dtype=int32),\n",
       "  array([ 51,  38,  31,   9, 115], dtype=int32),\n",
       "  array([ 38,  50,  45,  33, 277], dtype=int32),\n",
       "  array([55, 50, 23,  3, 69], dtype=int32),\n",
       "  array([55, 57, 23,  2, 46], dtype=int32),\n",
       "  array([ 55,  63,  23,  12, 180], dtype=int32)],\n",
       " [array([44, 40, 26,  8, 98], dtype=int32),\n",
       "  array([ 74,  40,   4,  42, 168], dtype=int32),\n",
       "  array([ 43,  51,  28,  23, 261], dtype=int32)],\n",
       " [array([ 70,  40,  11,  22, 104], dtype=int32),\n",
       "  array([ 41,  43,  22,  20, 147], dtype=int32),\n",
       "  array([ 47,  65,  28,  17, 235], dtype=int32)],\n",
       " [array([ 41,  39,  39,  23, 391], dtype=int32),\n",
       "  array([ 46,  66,  29,  15, 246], dtype=int32)],\n",
       " [array([ 38,  39,  18,  43, 295], dtype=int32),\n",
       "  array([ 55,  39,  27,  43, 420], dtype=int32)],\n",
       " [array([ 45,  40,  31,  40, 550], dtype=int32)],\n",
       " [array([ 65,  39,  12,  24, 136], dtype=int32),\n",
       "  array([ 44,  41,  21,  20, 196], dtype=int32),\n",
       "  array([ 49,  64,  28,  17, 256], dtype=int32)],\n",
       " [array([42, 39, 24,  6, 64], dtype=int32),\n",
       "  array([ 70,  40,  11,  25, 122], dtype=int32),\n",
       "  array([ 41,  47,  27,  17, 213], dtype=int32),\n",
       "  array([ 46,  67,  30,  15, 249], dtype=int32)],\n",
       " [array([60, 41,  9, 21, 99], dtype=int32),\n",
       "  array([73, 40,  4, 23, 92], dtype=int32),\n",
       "  array([ 43,  42,  18,  19, 177], dtype=int32),\n",
       "  array([ 49,  65,  30,  17, 290], dtype=int32)],\n",
       " [array([ 66,  39,  12,  22, 106], dtype=int32),\n",
       "  array([ 43,  41,  11,  17, 111], dtype=int32),\n",
       "  array([ 56,  41,  14,  17, 122], dtype=int32),\n",
       "  array([ 48,  60,  30,   7, 106], dtype=int32),\n",
       "  array([ 51,  69,  24,  12, 152], dtype=int32)],\n",
       " [array([ 39,  39,  42,  44, 628], dtype=int32)],\n",
       " [array([ 40,  39,  40,  14, 184], dtype=int32),\n",
       "  array([ 40,  52,  41,  30, 361], dtype=int32)],\n",
       " [array([ 42,  39,  38,  42, 755], dtype=int32)],\n",
       " [array([ 39,  40,  42,  40, 410], dtype=int32),\n",
       "  array([64, 52, 18, 15, 80], dtype=int32)],\n",
       " [array([41, 40, 26,  8, 98], dtype=int32),\n",
       "  array([ 70,  40,  11,  42, 189], dtype=int32),\n",
       "  array([ 41,  51,  27,  23, 256], dtype=int32)],\n",
       " [array([ 45,  40,  31,  15, 251], dtype=int32),\n",
       "  array([ 41,  60,  39,  21, 307], dtype=int32)],\n",
       " [array([ 46,  40,  29,  13, 230], dtype=int32),\n",
       "  array([ 41,  57,  39,  24, 426], dtype=int32)],\n",
       " [array([ 70,  40,  10,  42, 187], dtype=int32),\n",
       "  array([ 41,  44,  11,  28, 198], dtype=int32),\n",
       "  array([ 55,  44,  11,  28, 198], dtype=int32)],\n",
       " [array([ 41,  38,  25,  23, 212], dtype=int32),\n",
       "  array([ 70,  39,  11,  21, 105], dtype=int32),\n",
       "  array([57, 62, 21,  6, 72], dtype=int32),\n",
       "  array([45, 65, 13, 15, 88], dtype=int32),\n",
       "  array([ 60,  70,  15,  11, 102], dtype=int32)],\n",
       " [array([ 69,  40,  11,  21, 105], dtype=int32),\n",
       "  array([ 42,  42,  19,  17, 182], dtype=int32),\n",
       "  array([ 46,  64,  29,  18, 262], dtype=int32)],\n",
       " [array([53, 40, 15, 13, 64], dtype=int32),\n",
       "  array([ 51,  51,  23,  30, 173], dtype=int32),\n",
       "  array([39, 55,  7, 19, 69], dtype=int32),\n",
       "  array([73, 54,  9, 19, 71], dtype=int32)],\n",
       " [array([ 39,  40,  42,  43, 811], dtype=int32)],\n",
       " [array([ 39,  39,  43,  42, 560], dtype=int32)],\n",
       " [array([ 39,  38,  43,  44, 690], dtype=int32)],\n",
       " [array([41, 39, 11,  8, 37], dtype=int32),\n",
       "  array([ 52,  39,  27,  21, 197], dtype=int32),\n",
       "  array([39, 52, 10,  8, 36], dtype=int32),\n",
       "  array([ 51,  61,  31,  21, 276], dtype=int32),\n",
       "  array([40, 64, 11, 18, 65], dtype=int32)],\n",
       " [array([ 39,  39,  23,  43, 317], dtype=int32),\n",
       "  array([ 66,  39,  16,  44, 192], dtype=int32)],\n",
       " [array([74, 39,  3, 24, 72], dtype=int32),\n",
       "  array([ 61,  40,   9,  23, 107], dtype=int32),\n",
       "  array([ 42,  42,  10,  19, 102], dtype=int32),\n",
       "  array([53, 42, 11, 19, 95], dtype=int32),\n",
       "  array([ 49,  66,  28,  15, 203], dtype=int32)],\n",
       " [array([ 43,  39,  35,  14, 229], dtype=int32),\n",
       "  array([ 41,  50,  39,   8, 103], dtype=int32),\n",
       "  array([ 44,  60,  32,   7, 112], dtype=int32),\n",
       "  array([ 47,  70,  26,  11, 156], dtype=int32)],\n",
       " [array([ 65,  39,  12,  23, 116], dtype=int32),\n",
       "  array([ 44,  41,  22,  18, 188], dtype=int32),\n",
       "  array([48, 61, 30,  6, 77], dtype=int32),\n",
       "  array([ 51,  70,  24,  11, 141], dtype=int32)],\n",
       " [array([41, 40, 21,  7, 59], dtype=int32),\n",
       "  array([ 64,  40,  13,  26, 214], dtype=int32),\n",
       "  array([ 42,  50,  19,  14, 143], dtype=int32),\n",
       "  array([ 44,  68,  36,  14, 199], dtype=int32)],\n",
       " [array([ 40,  39,  43,  43, 579], dtype=int32)],\n",
       " [array([ 38,  39,  16,  43, 220], dtype=int32),\n",
       "  array([ 56,  41,  27,  40, 463], dtype=int32)],\n",
       " [array([ 40,  40,  42,  40, 622], dtype=int32)],\n",
       " [array([ 39,  38,  42,  43, 638], dtype=int32)],\n",
       " [array([ 39,  41,  43,  39, 550], dtype=int32)],\n",
       " [array([41, 39, 25,  8, 90], dtype=int32),\n",
       "  array([ 70,  40,  11,  25, 121], dtype=int32),\n",
       "  array([ 44,  49,  20,  16, 153], dtype=int32),\n",
       "  array([ 47,  68,  27,  14, 226], dtype=int32)],\n",
       " [array([ 65,  40,  11,  24, 138], dtype=int32),\n",
       "  array([ 41,  43,  25,  22, 197], dtype=int32),\n",
       "  array([ 43,  66,  37,  16, 212], dtype=int32)],\n",
       " [array([ 65,  40,  12,  24, 114], dtype=int32),\n",
       "  array([ 42,  43,  12,  19, 119], dtype=int32),\n",
       "  array([ 55,  43,  14,  19, 130], dtype=int32),\n",
       "  array([ 43,  66,  37,  16, 212], dtype=int32)],\n",
       " [array([ 41,  39,  34,  22, 303], dtype=int32),\n",
       "  array([ 45,  63,  34,  18, 271], dtype=int32)],\n",
       " [array([ 41,  42,  39,  38, 657], dtype=int32)],\n",
       " [array([ 39,  38,  41,  44, 657], dtype=int32)]]"
      ]
     },
     "execution_count": 43,
     "metadata": {},
     "output_type": "execute_result"
    }
   ],
   "source": [
    "image_stats"
   ]
  },
  {
   "cell_type": "code",
   "execution_count": 44,
   "id": "17dc0dad",
   "metadata": {},
   "outputs": [
    {
     "name": "stdout",
     "output_type": "stream",
     "text": [
      "2\n",
      "4\n",
      "3\n",
      "3\n",
      "4\n",
      "1\n",
      "4\n",
      "4\n",
      "1\n",
      "2\n",
      "4\n",
      "2\n",
      "3\n",
      "1\n",
      "4\n",
      "1\n",
      "1\n",
      "1\n",
      "1\n",
      "2\n",
      "3\n",
      "4\n",
      "3\n",
      "3\n",
      "3\n",
      "1\n",
      "2\n",
      "2\n",
      "3\n",
      "3\n",
      "1\n",
      "2\n",
      "2\n",
      "2\n",
      "2\n",
      "1\n",
      "2\n",
      "3\n",
      "2\n",
      "4\n",
      "3\n",
      "3\n",
      "2\n",
      "2\n",
      "1\n",
      "3\n",
      "4\n",
      "4\n",
      "5\n",
      "1\n",
      "2\n",
      "1\n",
      "2\n",
      "3\n",
      "2\n",
      "2\n",
      "3\n",
      "5\n",
      "3\n",
      "4\n",
      "1\n",
      "1\n",
      "1\n",
      "5\n",
      "2\n",
      "5\n",
      "4\n",
      "4\n",
      "4\n",
      "1\n",
      "2\n",
      "1\n",
      "1\n",
      "1\n",
      "4\n",
      "3\n",
      "4\n",
      "2\n",
      "1\n",
      "1\n"
     ]
    }
   ],
   "source": [
    "for image_stat in image_stats:\n",
    "    length = len(image_stat)\n",
    "    count = 0\n",
    "    for i in range(len(image_stat)):\n",
    "        for j in range(i + 1, len(image_stat)):\n",
    "            \n",
    "            i_min1, j_min1 = image_stat[i][0], image_stat[i][1]\n",
    "            i_max1, j_max1 = image_stat[i][0]+image_stat[i][2], image_stat[i][1]+image_stat[i][3]\n",
    "            i_min2, j_min2 = image_stat[j][0], image_stat[j][1]\n",
    "            i_max2, j_max2 = image_stat[j][0]+image_stat[j][2], image_stat[j][1]+image_stat[j][3]\n",
    "    \n",
    "            if contain(i_min1,i_max1,j_min1,j_max1,i_min2,i_max2,j_min2,j_max2):\n",
    "                count +=1 \n",
    "    print(length - count)\n"
   ]
  },
  {
   "cell_type": "code",
   "execution_count": 18,
   "id": "7ab8e040",
   "metadata": {},
   "outputs": [
    {
     "name": "stdout",
     "output_type": "stream",
     "text": [
      "(121, 121)\n"
     ]
    },
    {
     "data": {
      "text/plain": [
       "{0, 1, 2, 3}"
      ]
     },
     "execution_count": 18,
     "metadata": {},
     "output_type": "execute_result"
    }
   ],
   "source": [
    "print(labels.shape)\n",
    "flat_list(labels)"
   ]
  },
  {
   "cell_type": "code",
   "execution_count": 22,
   "id": "89c931cf",
   "metadata": {},
   "outputs": [
    {
     "name": "stdout",
     "output_type": "stream",
     "text": [
      "39\n",
      "40\n"
     ]
    }
   ],
   "source": [
    "for x in range(39,41):\n",
    "    print(x)"
   ]
  },
  {
   "cell_type": "raw",
   "id": "1e4b3e56",
   "metadata": {},
   "source": []
  },
  {
   "cell_type": "code",
   "execution_count": 15,
   "id": "a8637aec",
   "metadata": {},
   "outputs": [
    {
     "data": {
      "text/plain": [
       "<matplotlib.image.AxesImage at 0x7fa31a955a90>"
      ]
     },
     "execution_count": 15,
     "metadata": {},
     "output_type": "execute_result"
    },
    {
     "data": {
      "image/png": "[encoded data removed]",
      "text/plain": [
       "<Figure size 432x288 with 1 Axes>"
      ]
     },
     "metadata": {
      "needs_background": "light"
     },
     "output_type": "display_data"
    }
   ],
   "source": [
    "plt.imshow(labels)"
   ]
  },
  {
   "cell_type": "code",
   "execution_count": 78,
   "id": "f324e009",
   "metadata": {},
   "outputs": [
    {
     "name": "stdout",
     "output_type": "stream",
     "text": [
      "(121, 121)\n"
     ]
    },
    {
     "data": {
      "text/plain": [
       "{1, 100}"
      ]
     },
     "execution_count": 78,
     "metadata": {},
     "output_type": "execute_result"
    }
   ],
   "source": [
    "flat_list = [item for sublist in image_Labels[10] for item in sublist]\n",
    "print(labels.shape)\n",
    "set(flat_list)"
   ]
  },
  {
   "cell_type": "code",
   "execution_count": 74,
   "id": "84fd4e68",
   "metadata": {},
   "outputs": [
    {
     "name": "stdout",
     "output_type": "stream",
     "text": [
      "(121, 121)\n"
     ]
    },
    {
     "data": {
      "text/plain": [
       "{0, 255}"
      ]
     },
     "execution_count": 74,
     "metadata": {},
     "output_type": "execute_result"
    }
   ],
   "source": [
    "flat_list = [item for sublist in data for item in sublist]\n",
    "print(data.shape)\n",
    "set(flat_list)"
   ]
  },
  {
   "cell_type": "code",
   "execution_count": 79,
   "id": "7547a1b3",
   "metadata": {},
   "outputs": [
    {
     "data": {
      "text/plain": [
       "<matplotlib.image.AxesImage at 0x7fe08591a3d0>"
      ]
     },
     "execution_count": 79,
     "metadata": {},
     "output_type": "execute_result"
    },
    {
     "data": {
      "image/png": "[encoded data removed]",
      "text/plain": [
       "<Figure size 432x288 with 1 Axes>"
      ]
     },
     "metadata": {
      "needs_background": "light"
     },
     "output_type": "display_data"
    }
   ],
   "source": [
    "plt.imshow(image_Labels[20])"
   ]
  }
 ],
 "metadata": {
  "kernelspec": {
   "display_name": "Python 3 (ipykernel)",
   "language": "python",
   "name": "python3"
  },
  "language_info": {
   "codemirror_mode": {
    "name": "ipython",
    "version": 3
   },
   "file_extension": ".py",
   "mimetype": "text/x-python",
   "name": "python",
   "nbconvert_exporter": "python",
   "pygments_lexer": "ipython3",
   "version": "3.9.7"
  },
  "vscode": {
   "interpreter": {
    "hash": "472f3460692ba2c0861145e5e150d03c8a5c0e40e057944a047c431b9050b93d"
   }
  }
 },
 "nbformat": 4,
 "nbformat_minor": 5
}
