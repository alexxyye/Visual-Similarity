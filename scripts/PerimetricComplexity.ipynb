{
 "cells": [
  {
   "cell_type": "code",
   "execution_count": 1,
   "metadata": {},
   "outputs": [],
   "source": [
    "from PIL import Image, ImageChops, ImageStat\n",
    "import itertools, functools, os, fnmatch, re, pickle, math\n",
    "import cv2\n",
    "from os import listdir\n",
    "from os.path import isfile, join\n",
    "# image = cv2.imread('2.png')\n",
    "\n",
    "#PIL can be difficult to install with pip. Try pip install Pillow instead.\n",
    "def read_dic(mypath:str)-> list:\n",
    "    onlyfiles = [mypath + '/'+f for f in listdir(mypath) if isfile(join(mypath, f)) and f != \".DS_Store\"]\n",
    "    return onlyfiles\n",
    "\n",
    "def perimetricComplexity(image_file):\n",
    "\n",
    "    img = Image.open(image_file)\n",
    "    offsets1 = [x for x in itertools.product([-1,1,0], repeat=2) if x != (0,0)]\n",
    "    offsets2 = [x for x in offsets1 if abs(x[0]-x[1]) == 1]\n",
    "\n",
    "    offsets = []\n",
    "    offsets.append(img)\n",
    "    for x_offset, y_offset in offsets1:\n",
    "        offsets.append(ImageChops.offset(img, x_offset, y_offset))\n",
    "    composite = functools.reduce(lambda x,y: ImageChops.darker(x, y), offsets)\n",
    "    perimeter = ImageChops.subtract(img,composite)\n",
    "    perimeter = ImageChops.invert(perimeter)\n",
    "\n",
    "    offsets = []\n",
    "    for x_offset, y_offset in offsets2:\n",
    "        offsets.append(ImageChops.offset(perimeter, x_offset, y_offset))\n",
    "    composite = functools.reduce(lambda x,y: ImageChops.darker(x, y), offsets)\n",
    "    composite = ImageChops.invert(composite)\n",
    "    perimeter = ImageStat.Stat(composite).sum[0]/(255*3)\n",
    "\n",
    "    # Calculate ink area\n",
    "    img = ImageChops.invert(img)\n",
    "    inkArea = ImageStat.Stat(img).sum[0]/255\n",
    "    PC = perimeter**2/(inkArea*4*math.pi)\n",
    "\n",
    "    return(PC,inkArea,perimeter)\n",
    "\n"
   ]
  },
  {
   "cell_type": "code",
   "execution_count": 2,
   "metadata": {},
   "outputs": [],
   "source": [
    "import pandas as pd"
   ]
  },
  {
   "cell_type": "code",
   "execution_count": 29,
   "metadata": {},
   "outputs": [],
   "source": [
    "folder = read_dic('/Users/alex/Documents/GitHub/Visual-Similarity/Data/4_Eberhard_2016_del/')\n",
    "file_list = []\n",
    "tuple_list = []\n",
    "for file in folder:\n",
    "    file_list.append(file)\n",
    "    tuple_list.append(perimetricComplexity(file))\n",
    "tup_df = pd.DataFrame(tuple_list, columns=['PC', 'inkArea', 'perimeter'])\n",
    "file_df = pd.DataFrame(file_list, columns=['file_loc'])\n",
    "df = pd.concat([file_df, tup_df], axis=1)\n"
   ]
  },
  {
   "cell_type": "code",
   "execution_count": 30,
   "metadata": {},
   "outputs": [],
   "source": [
    "df.to_excel(\"./4_PC.xlsx\")"
   ]
  }
 ],
 "metadata": {
  "kernelspec": {
   "display_name": "Python 3.9.12 ('base')",
   "language": "python",
   "name": "python3"
  },
  "language_info": {
   "codemirror_mode": {
    "name": "ipython",
    "version": 3
   },
   "file_extension": ".py",
   "mimetype": "text/x-python",
   "name": "python",
   "nbconvert_exporter": "python",
   "pygments_lexer": "ipython3",
   "version": "3.9.12"
  },
  "orig_nbformat": 4,
  "vscode": {
   "interpreter": {
    "hash": "472f3460692ba2c0861145e5e150d03c8a5c0e40e057944a047c431b9050b93d"
   }
  }
 },
 "nbformat": 4,
 "nbformat_minor": 2
}
