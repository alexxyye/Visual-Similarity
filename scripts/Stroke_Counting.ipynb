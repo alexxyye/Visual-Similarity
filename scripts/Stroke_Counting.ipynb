{
 "cells": [
  {
   "cell_type": "code",
   "execution_count": 1,
   "metadata": {},
   "outputs": [],
   "source": [
    "import hangul_jamo\n",
    "import numpy as np\n",
    "from itertools import groupby\n",
    "import pandas as pd"
   ]
  },
  {
   "cell_type": "code",
   "execution_count": 2,
   "metadata": {},
   "outputs": [
    {
     "name": "stderr",
     "output_type": "stream",
     "text": [
      "/var/folders/28/dkwbt3092rsgjhhmygyjjfqr0000gn/T/ipykernel_39541/2493356691.py:12: VisibleDeprecationWarning: Creating an ndarray from ragged nested sequences (which is a list-or-tuple of lists-or-tuples-or ndarrays with different lengths or shapes) is deprecated. If you meant to do this, you must specify 'dtype=object' when creating the ndarray.\n",
      "  jungSeong = np.array(\n"
     ]
    }
   ],
   "source": [
    "# stroke info\n",
    "choSeong = np.array(\n",
    "\t\t# [0x3131, 0x3132, 0x3134, 0x3137, 0x3138, 0x3139, 0x3141, 0x3142, 0x3143, 0x3145,\n",
    "\t\t# 0x3146, 0x3147, 0x3148, 0x3149, 0x314a, 0x314b, 0x314c, 0x314d, 0x314e], \n",
    "        [[\"ㄱ\", \"ㄲ\", \"ㄴ\", \"ㄷ\", \"ㄸ\", \"ㄹ\", \"ㅁ\", \"ㅂ\", \"ㅃ\", \"ㅅ\",\n",
    "\t\t\"ㅆ\", \"ㅇ\", \"ㅈ\", \"ㅉ\", \"ㅊ\", \"ㅋ\", \"ㅌ\", \"ㅍ\", \"ㅎ\"], #choseong\n",
    "        [2, 4, 2, 3, 6, 5, 4, 4, 8, 2,\n",
    "\t\t4, 1, 3, 6, 4, 4, 4, 4, 3], #stroke\n",
    "\t\t[1, 2, 1, 2, 4, 4, 4, 4, 8, 1,\n",
    "\t\t2, 0, 2, 4, 2, 2, 3, 4, 0] ]) #junctions\n",
    "\n",
    "jungSeong = np.array(\n",
    "\t\t# [0x314f, 0x3150, 0x3151, 0x3152, 0x3153, 0x3154, 0x3155, 0x3156, 0x3157, 0x3158,\n",
    "\t\t# 0x3159, 0x315a, 0x315b, 0x315c, 0x315d, 0x315e, 0x315f, 0x3160, 0x3161, 0x3162,\n",
    "\t\t# 0x3163], \n",
    "        [[\"ㅏ\", \"ㅐ\", \"ㅑ\", \"ㅒ\", \"ㅓ\", \"ㅔ\", \"ㅕ\", \"ㅖ\", \"ㅗ\", \"ㅘ\",\n",
    "\t\t\"ㅙ\", \"ㅚ\", \"ㅛ\", \"ㅜ\", \"ㅝ\", \"ㅞ\", \"ㅟ\", \"ㅠ\", \"ㅡ\", \"ㅢ\",\n",
    "\t\t\"ㅣ\"], #jungseong\n",
    "        [2, 3, 3, 4, 2, 3, 3, 4, 2, 4,\n",
    "\t\t5, 3, 3, 2, 4, 5, 3, 3, 1, 2,\n",
    "\t\t1], #strokes\n",
    "\t\t[1, 2, 2, 4, 1, 1, 2, 2, 1, 2,\n",
    "\t\t3, 1, 2, 1, 2, 2, 1, 2, 0, 0]]) #junctions\n",
    "\n",
    "jongSeong = np.array(\n",
    "\t\t# [0x0000, 0x3131, 0x3132, 0x3133, 0x3134, 0x3135, 0x3136, 0x3137, 0x3139, 0x313a,\n",
    "\t\t# 0x313b, 0x313c, 0x313d, 0x313e, 0x313f, 0x3140, 0x3141, 0x3142, 0x3144, 0x3145,\n",
    "\t\t# 0x3146, 0x3147, 0x3148, 0x314a, 0x314b, 0x314c, 0x314d, 0x314e],\n",
    "        [[\"\", \"ㄱ\", \"ㄲ\", \"ㄳ\", \"ㄴ\", \"ㄵ\", \"ㄶ\", \"ㄷ\", \"ㄹ\", \"ㄺ\",\n",
    "\t\t\"ㄻ\", \"ㄼ\", \"ㄽ\", \"ㄾ\", \"ㄿ\", \"ㅀ\", \"ㅁ\", \"ㅂ\", \"ㅄ\", \"ㅅ\",\n",
    "\t\t\"ㅆ\", \"ㅇ\", \"ㅈ\", \"ㅊ\", \"ㅋ\", \"ㅌ\", \"ㅍ\", \"ㅎ\"], #jongseong\n",
    "        [0, 2, 4, 4, 2, 5, 5, 3, 5, 7,\n",
    "\t\t9, 9, 7, 9, 9, 8, 4, 4, 6, 2,\n",
    "\t\t4, 1, 3, 4, 3, 3, 4, 3], #strokes\n",
    "\t\t[0, 1, 2, 2, 1, 3, 1, 2, 4, 5,\n",
    "\t\t8, 8, 5, 7, 8, 4, 4, 4, 5, 1,\n",
    "\t\t2, 0, 2, 2, 2, 3, 4, 0]]) #junctions\n",
    "\n",
    "smallAlphabet = np.array([[\"a\", \"b\", \"c\", \"d\", \"e\", \"f\", \"g\", \"h\", \"i\", \"j\", \"k\", \"l\", \"m\",\n",
    "\t\t\"n\", \"o\", \"p\", \"q\", \"r\", \"s\", \"t\", \"u\", \"v\", \"w\", \"x\", \"y\", \"z\", \"ä\", \"ü\"], \n",
    "\t\t[2, 2, 1, 1, 2, 2, 2, 2, 2, 2, 3, 1, 3,\n",
    "\t\t2, 1, 2, 2, 2, 1, 2, 2, 2, 4, 2, 2, 3, 4, 4], #strokes\n",
    "\t\t[2, 2, 0, 2, 2, 1, 2, 1, 2, 2, 3, 2, 2,\n",
    "\t\t1, 0, 2, 2, 1, 0, 1, 1, 1, 2, 1, 1, 1, 2, 1]]) #junctions\n",
    "\n",
    "bigAlphabet = np.array([[\"A\", \"B\", \"C\", \"D\", \"E\", \"F\", \"G\", \"H\", \"I\", \"J\", \"K\", \"L\", \"M\",\n",
    "\t\t\"N\", \"O\", \"P\", \"Q\", \"R\", \"S\", \"T\", \"U\", \"V\", \"W\", \"X\", \"Y\", \"Z\"],\n",
    "\t\t[3, 3, 1, 2, 4, 3, 2, 3, 1, 1, 3, 1, 4,\n",
    "\t\t3, 1, 2, 2, 3, 1, 2, 1, 2, 4, 2, 3, 3], #strokes\n",
    "\t\t[3, 4, 0, 2, 3, 2, 2, 2, 2, 2, 3, 1, 3,\n",
    "\t\t2, 0, 2, 1, 3, 0, 1, 0, 1, 3, 1, 1, 2]]) #junctions"
   ]
  },
  {
   "cell_type": "code",
   "execution_count": 3,
   "metadata": {},
   "outputs": [],
   "source": [
    "# combine all sublists\n",
    "all = [choSeong, jungSeong, jongSeong, smallAlphabet, bigAlphabet]\n",
    "str_list = []\n",
    "num_list = []\n",
    "junc_list = []\n",
    "for el in all :\n",
    "    str_list += list(el[0])\n",
    "    num_list += list(el[1])\n",
    "    junc_list += list(el[2])\n"
   ]
  },
  {
   "cell_type": "code",
   "execution_count": 57,
   "metadata": {},
   "outputs": [],
   "source": [
    "## Korean\n",
    "# read text file\n",
    "text = open('/Users/alex/Documents/GitHub/Visual-Similarity/OCR_results/Kor_8.txt', 'r')\n",
    "# save original text as a string\n",
    "\n",
    "# decompose hangul\n",
    "subcharacter = hangul_jamo.decompose(text.read())\n",
    "# original text\n",
    "ori_text = hangul_jamo.compose(subcharacter)\n",
    "ori_text = ori_text.split()"
   ]
  },
  {
   "cell_type": "code",
   "execution_count": 13,
   "metadata": {},
   "outputs": [],
   "source": [
    "## English/German\n",
    "# read text file & get subcharactet(letters)\n",
    "with open('/Users/alex/Documents/GitHub/Visual-Similarity/OCR_results/Ger_4.txt', 'r') as file:\n",
    "    subcharacter = file.read().rstrip()\n",
    "# turn into list of strings\n",
    "ori_text = subcharacter.split()"
   ]
  },
  {
   "cell_type": "code",
   "execution_count": 58,
   "metadata": {},
   "outputs": [],
   "source": [
    "# subcomponents -> strokes\n",
    "stroke_list = []\n",
    "for str_i in subcharacter:\n",
    "    if str_i in str_list:\n",
    "        index = str_list.index(str_i)\n",
    "        stroke = num_list[index]\n",
    "        stroke_list.append(stroke)\n",
    "    else:\n",
    "        stroke_list.append(str_i)"
   ]
  },
  {
   "cell_type": "code",
   "execution_count": 59,
   "metadata": {},
   "outputs": [],
   "source": [
    "# turn nparr stroke_list into int list\n",
    "for i in range(len(stroke_list)):\n",
    "    if stroke_list[i] == ' ':\n",
    "        stroke_list[i] = '0'\n",
    "    elif stroke_list[i] == '空':\n",
    "        stroke_list[i] = '100'\n",
    "\n",
    "int_stroke_list = [eval(i) for i in stroke_list]\n",
    "int_stroke_list.append(0)"
   ]
  },
  {
   "cell_type": "code",
   "execution_count": 60,
   "metadata": {},
   "outputs": [],
   "source": [
    "# object info summaries\n",
    "object_info = [list(v) for k,v in groupby(int_stroke_list, key = lambda x: x != 0) if k != 0]"
   ]
  },
  {
   "cell_type": "code",
   "execution_count": 61,
   "metadata": {},
   "outputs": [],
   "source": [
    "# get sum of each character\n",
    "stroke_sum = []\n",
    "n = 0\n",
    "sum = 0\n",
    "for i in range(len(int_stroke_list)):\n",
    "    if int_stroke_list[i] != 0:\n",
    "        sum += int_stroke_list[i]\n",
    "    else:\n",
    "        stroke_sum.append(sum)\n",
    "        n += 1\n",
    "        sum = 0"
   ]
  },
  {
   "cell_type": "code",
   "execution_count": 27,
   "metadata": {},
   "outputs": [
    {
     "name": "stdout",
     "output_type": "stream",
     "text": [
      "60\n",
      "60\n",
      "60\n"
     ]
    }
   ],
   "source": [
    "print(len(stroke_sum))\n",
    "print(len(object_info))\n",
    "print(len(ori_text))"
   ]
  },
  {
   "cell_type": "code",
   "execution_count": 63,
   "metadata": {},
   "outputs": [
    {
     "data": {
      "text/plain": [
       "{'희': [[3, 2], 5],\n",
       " '대': [[3, 3], 6],\n",
       " '었': [[1, 2, 4], 7],\n",
       " '웨': [[1, 5], 6],\n",
       " '튀': [[4, 3], 7],\n",
       " '훈': [[3, 2, 2], 7],\n",
       " '체': [[4, 3], 7],\n",
       " '볶': [[4, 2, 4], 10],\n",
       " '획': [[3, 3, 2], 8],\n",
       " '썩': [[4, 2, 2], 8],\n",
       " '열': [[1, 3, 5], 9],\n",
       " '화': [[3, 4], 7],\n",
       " '찻': [[4, 2, 2], 8],\n",
       " '율': [[1, 3, 5], 9],\n",
       " '꽃': [[4, 2, 4], 10],\n",
       " '롭': [[5, 2, 4], 11],\n",
       " '空': [[100], 100],\n",
       " '탈': [[4, 2, 5], 11],\n",
       " '환': [[3, 4, 2], 9],\n",
       " '첼': [[4, 3, 5], 12],\n",
       " '밝': [[4, 2, 7], 13],\n",
       " '걸': [[2, 2, 5], 9],\n",
       " '촌': [[4, 2, 2], 8],\n",
       " '센': [[2, 3, 2], 7],\n",
       " '콜': [[4, 2, 5], 11],\n",
       " '뚱': [[6, 2, 1], 9],\n",
       " '찰': [[4, 2, 5], 11],\n",
       " '돈': [[3, 2, 2], 7],\n",
       " '전': [[3, 2, 2], 7],\n",
       " '압': [[1, 2, 4], 7],\n",
       " '배': [[4, 3], 7],\n",
       " '려': [[5, 3], 8],\n",
       " '탕': [[4, 2, 1], 7],\n",
       " '한': [[3, 2, 2], 7],\n",
       " '레': [[5, 3], 8],\n",
       " '러': [[5, 2], 7],\n",
       " '제': [[3, 3], 6],\n",
       " '들': [[3, 1, 5], 9],\n",
       " '넷': [[2, 3, 2], 7],\n",
       " '즐': [[3, 1, 5], 9],\n",
       " '슬': [[2, 1, 5], 8],\n",
       " '반': [[4, 2, 2], 8],\n",
       " '잘': [[3, 2, 5], 10],\n",
       " '섹': [[2, 3, 2], 7],\n",
       " '통': [[4, 2, 1], 7],\n",
       " '출': [[4, 2, 5], 11],\n",
       " '벚': [[4, 2, 3], 9],\n",
       " '월': [[1, 4, 5], 10],\n",
       " '합': [[3, 2, 4], 9],\n",
       " '핸': [[3, 3, 2], 8],\n",
       " '량': [[5, 3, 1], 9],\n",
       " '캐': [[4, 3], 7],\n",
       " '냉': [[2, 3, 1], 6],\n",
       " '댄': [[3, 3, 2], 8],\n",
       " '울': [[1, 2, 5], 8],\n",
       " '란': [[5, 2, 2], 9],\n",
       " '복': [[4, 2, 2], 8],\n",
       " '빗': [[4, 1, 2], 7],\n",
       " '쾌': [[4, 5], 9],\n",
       " '절': [[3, 2, 5], 10],\n",
       " '떡': [[6, 2, 2], 10],\n",
       " '렌': [[5, 3, 2], 10],\n",
       " '설': [[2, 2, 5], 9],\n",
       " '달': [[3, 2, 5], 10],\n",
       " '립': [[5, 1, 4], 10],\n",
       " '법': [[4, 2, 4], 10],\n",
       " '할': [[3, 2, 5], 10],\n",
       " '챔': [[4, 3, 4], 11],\n",
       " '딸': [[6, 2, 5], 13],\n",
       " '원': [[1, 4, 2], 7],\n",
       " '알': [[1, 2, 5], 8],\n",
       " '채': [[4, 3], 7],\n",
       " '엽': [[1, 3, 4], 8],\n",
       " '병': [[4, 3, 1], 8],\n",
       " '털': [[4, 2, 5], 11],\n",
       " '정': [[3, 2, 1], 6],\n",
       " '산': [[2, 2, 2], 6],\n",
       " '촉': [[4, 2, 2], 8],\n",
       " '테': [[4, 3], 7],\n",
       " '롱': [[5, 2, 1], 8],\n",
       " '골': [[2, 2, 5], 9],\n",
       " '방': [[4, 2, 1], 7],\n",
       " '워': [[1, 4], 5],\n",
       " '예': [[1, 4], 5],\n",
       " '류': [[5, 3], 8],\n",
       " '랑': [[5, 2, 1], 8],\n",
       " '돗': [[3, 2, 2], 7],\n",
       " '클': [[4, 1, 5], 10],\n",
       " '짖': [[3, 1, 3], 7],\n",
       " '둘': [[3, 2, 5], 10],\n",
       " '천': [[4, 2, 2], 8],\n",
       " '날': [[2, 2, 5], 9],\n",
       " '빵': [[8, 2, 1], 11],\n",
       " '불': [[4, 2, 5], 11],\n",
       " '탑': [[4, 2, 4], 10],\n",
       " '펜': [[4, 3, 2], 9],\n",
       " '훌': [[3, 2, 5], 10],\n",
       " '줍': [[3, 2, 4], 9],\n",
       " '첫': [[4, 2, 2], 8]}"
      ]
     },
     "execution_count": 63,
     "metadata": {},
     "output_type": "execute_result"
    }
   ],
   "source": [
    "# make a dictionary\n",
    "dict_korea_8 = {i:[j, k] for i, j, k in zip(ori_text, object_info, stroke_sum)}\n",
    "dict_korea_8"
   ]
  },
  {
   "cell_type": "code",
   "execution_count": 65,
   "metadata": {},
   "outputs": [
    {
     "name": "stdout",
     "output_type": "stream",
     "text": [
      "<class 'pandas.core.frame.DataFrame'>\n"
     ]
    }
   ],
   "source": [
    "# read excel file\n",
    "data_8 = pd.read_excel(r'/Users/alex/Documents/GitHub/Visual-Similarity/8_count_obj.xlsx')\n",
    "print(type(data_7))"
   ]
  },
  {
   "cell_type": "code",
   "execution_count": 66,
   "metadata": {},
   "outputs": [],
   "source": [
    "kor_8_l = list(data_8[0])\n",
    "for key in dict_korea_8:\n",
    "    if key in kor_8_l:\n",
    "        ind = kor_8_l.index(key)\n",
    "        data_8[1][ind] = dict_korea_8[key][1]\n",
    "data_8.to_csv('8_korean_Chinese_all.csv')"
   ]
  }
 ],
 "metadata": {
  "kernelspec": {
   "display_name": "Python 3.9.12 ('base')",
   "language": "python",
   "name": "python3"
  },
  "language_info": {
   "codemirror_mode": {
    "name": "ipython",
    "version": 3
   },
   "file_extension": ".py",
   "mimetype": "text/x-python",
   "name": "python",
   "nbconvert_exporter": "python",
   "pygments_lexer": "ipython3",
   "version": "3.9.12"
  },
  "orig_nbformat": 4,
  "vscode": {
   "interpreter": {
    "hash": "472f3460692ba2c0861145e5e150d03c8a5c0e40e057944a047c431b9050b93d"
   }
  }
 },
 "nbformat": 4,
 "nbformat_minor": 2
}
