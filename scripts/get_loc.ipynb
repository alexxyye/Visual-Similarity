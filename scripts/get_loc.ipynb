{
 "cells": [
  {
   "cell_type": "code",
   "execution_count": 2,
   "metadata": {},
   "outputs": [],
   "source": [
    "from os import listdir\n",
    "from os.path import isfile, join\n",
    "import pandas as pd"
   ]
  },
  {
   "cell_type": "code",
   "execution_count": 2,
   "metadata": {},
   "outputs": [],
   "source": [
    "# read file function\n",
    "def read_dic(mypath:str)-> list:\n",
    "    onlyfiles = [mypath + '/'+f for f in listdir(mypath) if isfile(join(mypath, f)) and f != \".DS_Store\"]\n",
    "    return onlyfiles"
   ]
  },
  {
   "cell_type": "code",
   "execution_count": 11,
   "metadata": {},
   "outputs": [],
   "source": [
    "folder = read_dic('/Users/alex/Documents/GitHub/Visual-Similarity/Data/4_Eberhard_2016_del')\n",
    "file_loc = []\n",
    "i = 1\n",
    "\n",
    "for file in folder:\n",
    "    file_loc.append([i, file])\n",
    "    i += 1\n",
    "\n",
    "file_loc_df = pd.DataFrame(file_loc, columns=['ind', 'file_loc'])\n",
    "file_loc_df.to_excel('4_ind.xlsx')\n"
   ]
  },
  {
   "cell_type": "code",
   "execution_count": 4,
   "metadata": {},
   "outputs": [],
   "source": [
    "list_1 = pd.read_csv('/Users/alex/Documents/GitHub/Visual-Similarity/results/3_English.csv')\n",
    "list_1['ind'] = list_1['ind'] + 59\n",
    "list_1.to_csv('/Users/alex/Documents/GitHub/Visual-Similarity/results/3_English.csv')"
   ]
  },
  {
   "cell_type": "code",
   "execution_count": 12,
   "metadata": {},
   "outputs": [
    {
     "data": {
      "text/plain": [
       "'9501 13468 8108 30455 8510 81319 1994 819 6934 340358 98413 4456 6361 51436 45541 315 33088 9643 345843 853011 11518 6603 10165 814 35601 80448 39541 140663 9501 43166 809 1086 89004 4086 88014 438531 8841 4189 46630 6006 335540 8904 40369 4653 143466 60514 3199 8541 31459 8543 1984 911348 1551 8453 901036 13089 664 1486 98101 1554'"
      ]
     },
     "execution_count": 12,
     "metadata": {},
     "output_type": "execute_result"
    }
   ],
   "source": [
    "cont = pd.read_csv('/Users/alex/Documents/GitHub/Visual-Similarity/results/pc_cont_1.csv')\n",
    "emp_list = []\n",
    "for i in range(len(cont['content'])):\n",
    "    emp_list.append(str(cont['content'][i]))\n",
    "str_list = \" \".join(emp_list)\n",
    "str_list"
   ]
  },
  {
   "cell_type": "code",
   "execution_count": null,
   "metadata": {},
   "outputs": [],
   "source": []
  }
 ],
 "metadata": {
  "kernelspec": {
   "display_name": "Python 3.9.12 ('base')",
   "language": "python",
   "name": "python3"
  },
  "language_info": {
   "codemirror_mode": {
    "name": "ipython",
    "version": 3
   },
   "file_extension": ".py",
   "mimetype": "text/x-python",
   "name": "python",
   "nbconvert_exporter": "python",
   "pygments_lexer": "ipython3",
   "version": "3.9.12"
  },
  "orig_nbformat": 4,
  "vscode": {
   "interpreter": {
    "hash": "472f3460692ba2c0861145e5e150d03c8a5c0e40e057944a047c431b9050b93d"
   }
  }
 },
 "nbformat": 4,
 "nbformat_minor": 2
}
